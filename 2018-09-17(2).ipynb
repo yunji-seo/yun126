{
 "cells": [
  {
   "cell_type": "code",
   "execution_count": 2,
   "metadata": {},
   "outputs": [
    {
     "name": "stdout",
     "output_type": "stream",
     "text": [
      "True\n",
      "False\n"
     ]
    }
   ],
   "source": [
    "print(True)  # 따옴표 필요없음 키워드이니까!\n",
    "print(False)"
   ]
  },
  {
   "cell_type": "code",
   "execution_count": 3,
   "metadata": {},
   "outputs": [
    {
     "name": "stdout",
     "output_type": "stream",
     "text": [
      "False\n"
     ]
    }
   ],
   "source": [
    "print(1>2)"
   ]
  },
  {
   "cell_type": "code",
   "execution_count": 4,
   "metadata": {},
   "outputs": [
    {
     "name": "stdout",
     "output_type": "stream",
     "text": [
      "True\n"
     ]
    }
   ],
   "source": [
    "print(2==2)"
   ]
  },
  {
   "cell_type": "code",
   "execution_count": 5,
   "metadata": {},
   "outputs": [
    {
     "name": "stdout",
     "output_type": "stream",
     "text": [
      "합격\n"
     ]
    }
   ],
   "source": [
    "score = 90\n",
    "\n",
    "if score > 80 :\n",
    "    print('합격')"
   ]
  },
  {
   "cell_type": "code",
   "execution_count": 7,
   "metadata": {},
   "outputs": [],
   "source": [
    "score = 20  # 값이 거짓이면 그냥 무시하고 넘어간다!\n",
    "\n",
    "if score > 80 :\n",
    "    print('합격')"
   ]
  },
  {
   "cell_type": "code",
   "execution_count": 9,
   "metadata": {},
   "outputs": [
    {
     "name": "stdout",
     "output_type": "stream",
     "text": [
      "불합격\n"
     ]
    }
   ],
   "source": [
    "score = 20\n",
    "\n",
    "if score > 80 :\n",
    "    print('합격')\n",
    "else :\n",
    "    print('불합격')"
   ]
  },
  {
   "cell_type": "code",
   "execution_count": 11,
   "metadata": {},
   "outputs": [
    {
     "name": "stdout",
     "output_type": "stream",
     "text": [
      "B\n"
     ]
    }
   ],
   "source": [
    "score = 75\n",
    "\n",
    "if 80<score <= 100 :         #조건1\n",
    "    print('A')\n",
    "elif 60< score <= 80:       #조건2\n",
    "    print('B')\n",
    "elif 40< score <= 60:       #조건3\n",
    "    print('C')\n",
    "else:          #모두 해당이 안될경우\n",
    "    print('F')\n",
    "\n",
    "    #if는 혼자서만도 쓸수있따"
   ]
  },
  {
   "cell_type": "code",
   "execution_count": 14,
   "metadata": {},
   "outputs": [
    {
     "name": "stdout",
     "output_type": "stream",
     "text": [
      "1\n",
      "2\n",
      "3\n",
      "check!!\n",
      "4\n",
      "5\n"
     ]
    }
   ],
   "source": [
    "a=[1,2,3,4,5]\n",
    "for i in a :\n",
    "    print(i)\n",
    "    if i==3 :\n",
    "        print('check!!')    #3을 만나면 check를 외치는 프로그램"
   ]
  },
  {
   "cell_type": "code",
   "execution_count": 16,
   "metadata": {},
   "outputs": [
    {
     "name": "stdout",
     "output_type": "stream",
     "text": [
      "1\n",
      "7\n",
      "10\n",
      "even number!!\n",
      "5\n",
      "8\n",
      "even number!!\n",
      "2\n",
      "even number!!\n",
      "7\n"
     ]
    }
   ],
   "source": [
    "a = [1,7,10,5,8,2,7]\n",
    "\n",
    "for i in a :\n",
    "    print(i)\n",
    "    if i%2==0:\n",
    "        print('even number!!')  # 짝수를 만나면 even number울 외치는 프로그램"
   ]
  },
  {
   "cell_type": "code",
   "execution_count": 17,
   "metadata": {},
   "outputs": [],
   "source": [
    "# 짝수를 만나면 개수를 세는 프로그램\n",
    "a = [1,7,10,5,8,2,7]\n",
    "count = 0\n",
    "for i in a :\n",
    "    #print(i)\n",
    "    if i%2==0:\n",
    "        #print('even number!!') \n",
    "        count = count + 1"
   ]
  },
  {
   "cell_type": "code",
   "execution_count": 18,
   "metadata": {},
   "outputs": [
    {
     "data": {
      "text/plain": [
       "3"
      ]
     },
     "execution_count": 18,
     "metadata": {},
     "output_type": "execute_result"
    }
   ],
   "source": [
    "count\n"
   ]
  },
  {
   "cell_type": "code",
   "execution_count": 20,
   "metadata": {},
   "outputs": [],
   "source": [
    "# 짝수를 만나면 개수를 세는 프로그램\n",
    "a = [1,7,10,5,8,2,7]\n",
    "count = []\n",
    "for i in a :\n",
    "    #print(i)\n",
    "    if i%2==0:\n",
    "        #print('even number!!') \n",
    "        count.append(i)\n",
    "        "
   ]
  },
  {
   "cell_type": "code",
   "execution_count": 21,
   "metadata": {},
   "outputs": [
    {
     "data": {
      "text/plain": [
       "3"
      ]
     },
     "execution_count": 21,
     "metadata": {},
     "output_type": "execute_result"
    }
   ],
   "source": [
    "len(count)"
   ]
  },
  {
   "cell_type": "code",
   "execution_count": 22,
   "metadata": {},
   "outputs": [
    {
     "data": {
      "text/plain": [
       "[10, 8, 2]"
      ]
     },
     "execution_count": 22,
     "metadata": {},
     "output_type": "execute_result"
    }
   ],
   "source": [
    "count"
   ]
  },
  {
   "cell_type": "code",
   "execution_count": 34,
   "metadata": {},
   "outputs": [
    {
     "name": "stdout",
     "output_type": "stream",
     "text": [
      "31500\n",
      "47000\n"
     ]
    }
   ],
   "source": [
    "people = [22,21,17,32,4,28,19,8]\n",
    "\n",
    "total_price = 0\n",
    "for a in people :\n",
    "    if a>=20 :\n",
    "        total_price=total_price+8000\n",
    "    elif 10<a<=19 :\n",
    "        total_price=total_price+5000\n",
    "    else :\n",
    "        total_price=total_price+2500\n",
    "        \n",
    "        print(total_price)\n"
   ]
  },
  {
   "cell_type": "code",
   "execution_count": 36,
   "metadata": {},
   "outputs": [
    {
     "name": "stdout",
     "output_type": "stream",
     "text": [
      "pass\n"
     ]
    }
   ],
   "source": [
    "at_s = 90\n",
    "te_s = 80\n",
    "\n",
    "if at_s >= 90 and te_s > 70 :\n",
    "    print('pass')"
   ]
  },
  {
   "cell_type": "code",
   "execution_count": 37,
   "metadata": {},
   "outputs": [
    {
     "name": "stdout",
     "output_type": "stream",
     "text": [
      "pass\n"
     ]
    }
   ],
   "source": [
    "at_s = 90\n",
    "te_s = 70\n",
    "\n",
    "if at_s >= 90 or te_s > 70 :\n",
    "    print('pass')"
   ]
  },
  {
   "cell_type": "code",
   "execution_count": 38,
   "metadata": {},
   "outputs": [
    {
     "name": "stdout",
     "output_type": "stream",
     "text": [
      "hi~!\n",
      "hi~!\n",
      "hi~!\n"
     ]
    }
   ],
   "source": [
    "turtle = ['t1','t2','t3','t4','t5']\n",
    "\n",
    "for i in turtle[:3] :\n",
    "    print('hi~!')"
   ]
  },
  {
   "cell_type": "code",
   "execution_count": 40,
   "metadata": {},
   "outputs": [
    {
     "name": "stdout",
     "output_type": "stream",
     "text": [
      "t1 hi!\n",
      "t2 hi!\n",
      "t3 hi!\n"
     ]
    }
   ],
   "source": [
    "turtle = ['t1','t2','t3','t4','t5']\n",
    "\n",
    "count = 0\n",
    "# 0 1 2 순서일때만 돈다\n",
    "while count < 3 :\n",
    "    print(turtle[count], 'hi!')\n",
    "    count = count+1"
   ]
  },
  {
   "cell_type": "code",
   "execution_count": 5,
   "metadata": {},
   "outputs": [
    {
     "name": "stdout",
     "output_type": "stream",
     "text": [
      "3000 원 1 게임\n",
      "6000 원 2 게임\n",
      "9000 원 3 게임\n",
      "12000 원 4 게임\n",
      "15000 원 5 게임\n",
      "18000 원 6 게임\n",
      "21000 원 7 게임\n",
      "24000 원 8 게임\n",
      "27000 원 9 게임\n",
      "30000 원 10 게임\n",
      "33000 원 11 게임\n",
      "36000 원 12 게임\n",
      "39000 원 13 게임\n",
      "13\n"
     ]
    }
   ],
   "source": [
    "a=0\n",
    "count = 0\n",
    "while a < 39000 :\n",
    "    a = a + 3000\n",
    "    count = count+1\n",
    "    print(a,'원', count,\"게임\")\n",
    "\n",
    "print(count)"
   ]
  },
  {
   "cell_type": "code",
   "execution_count": 8,
   "metadata": {},
   "outputs": [
    {
     "name": "stdout",
     "output_type": "stream",
     "text": [
      "3000\n",
      "6000\n",
      "9000\n",
      "12000\n",
      "15000\n",
      "18000\n",
      "21000\n",
      "24000\n",
      "27000\n",
      "30000\n",
      "33000\n",
      "36000\n",
      "39000\n",
      "stop\n"
     ]
    }
   ],
   "source": [
    "# while문을 영원히 돌게 하는법 영원히 돌게 하다가 어떤 조건이 되면 멈추게 하는 스킬 while문의 조건을 깨지게 하는 조건을 if문에 넣어줌\n",
    "a=0\n",
    "count = 0\n",
    "\n",
    "flag = 0\n",
    "\n",
    "while flag==0 :\n",
    "    a = a + 3000\n",
    "    print(a)\n",
    "    if a == 39000:\n",
    "        flag = 1\n",
    "        print('stop')\n"
   ]
  },
  {
   "cell_type": "code",
   "execution_count": 9,
   "metadata": {},
   "outputs": [
    {
     "name": "stdout",
     "output_type": "stream",
     "text": [
      "1\n",
      "3\n"
     ]
    }
   ],
   "source": [
    "count = 0\n",
    "\n",
    "while count < 3 :\n",
    "    count = count + 1\n",
    "    if count == 2 : \n",
    "        continue  #continue를 만나면은 무시하고(건너뛰고) 계속한다.\n",
    "    print(count)\n",
    "    \n"
   ]
  },
  {
   "cell_type": "code",
   "execution_count": 11,
   "metadata": {},
   "outputs": [
    {
     "name": "stdout",
     "output_type": "stream",
     "text": [
      "1\n",
      "2\n"
     ]
    }
   ],
   "source": [
    "count = 0\n",
    "\n",
    "while count < 5 :\n",
    "    count = count + 1\n",
    "    if count == 3 : \n",
    "        break  #break를 만나면은 그자리에서 아예 반복을 멈추게 된다.\n",
    "    print(count)\n",
    "    \n"
   ]
  },
  {
   "cell_type": "code",
   "execution_count": 15,
   "metadata": {},
   "outputs": [],
   "source": [
    "num = (2,100)\n",
    "\n"
   ]
  },
  {
   "cell_type": "code",
   "execution_count": 16,
   "metadata": {},
   "outputs": [
    {
     "data": {
      "text/plain": [
       "(2, 100)"
      ]
     },
     "execution_count": 16,
     "metadata": {},
     "output_type": "execute_result"
    }
   ],
   "source": [
    "num"
   ]
  },
  {
   "cell_type": "code",
   "execution_count": 20,
   "metadata": {},
   "outputs": [
    {
     "name": "stdout",
     "output_type": "stream",
     "text": [
      "1\n"
     ]
    }
   ],
   "source": [
    "for n in range(2,101) :\n",
    "    count=0\n",
    "    if n%n==0 and n%1==0:\n",
    "        count=count+1\n",
    "print(count)    "
   ]
  },
  {
   "cell_type": "code",
   "execution_count": 23,
   "metadata": {},
   "outputs": [],
   "source": [
    "prime = []\n",
    "\n",
    "for num in range(2,101) : #2~100까지 수를 체크함\n",
    "    flag =1\n",
    "    for i in range(2,num) :\n",
    "        if num % i == 0:\n",
    "            flag = 0\n",
    "            break\n",
    "    \n",
    "    if flag ==1 :\n",
    "        prime.append(num)"
   ]
  },
  {
   "cell_type": "code",
   "execution_count": 24,
   "metadata": {},
   "outputs": [
    {
     "data": {
      "text/plain": [
       "[2,\n",
       " 3,\n",
       " 5,\n",
       " 7,\n",
       " 11,\n",
       " 13,\n",
       " 17,\n",
       " 19,\n",
       " 23,\n",
       " 29,\n",
       " 31,\n",
       " 37,\n",
       " 41,\n",
       " 43,\n",
       " 47,\n",
       " 53,\n",
       " 59,\n",
       " 61,\n",
       " 67,\n",
       " 71,\n",
       " 73,\n",
       " 79,\n",
       " 83,\n",
       " 89,\n",
       " 97]"
      ]
     },
     "execution_count": 24,
     "metadata": {},
     "output_type": "execute_result"
    }
   ],
   "source": [
    "prime"
   ]
  },
  {
   "cell_type": "code",
   "execution_count": 25,
   "metadata": {},
   "outputs": [
    {
     "data": {
      "text/plain": [
       "25"
      ]
     },
     "execution_count": 25,
     "metadata": {},
     "output_type": "execute_result"
    }
   ],
   "source": [
    "len(prime)"
   ]
  },
  {
   "cell_type": "code",
   "execution_count": null,
   "metadata": {},
   "outputs": [],
   "source": []
  }
 ],
 "metadata": {
  "kernelspec": {
   "display_name": "Python 3",
   "language": "python",
   "name": "python3"
  },
  "language_info": {
   "codemirror_mode": {
    "name": "ipython",
    "version": 3
   },
   "file_extension": ".py",
   "mimetype": "text/x-python",
   "name": "python",
   "nbconvert_exporter": "python",
   "pygments_lexer": "ipython3",
   "version": "3.6.5"
  }
 },
 "nbformat": 4,
 "nbformat_minor": 2
}
