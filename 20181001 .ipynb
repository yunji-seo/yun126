{
 "cells": [
  {
   "cell_type": "markdown",
   "metadata": {},
   "source": [
    "# 1０월　１일　３주차　필기\n",
    "＃　과제　구글에　점프투　파이썬　쳐서　위키독　들어가기\n"
   ]
  },
  {
   "cell_type": "code",
   "execution_count": 2,
   "metadata": {},
   "outputs": [],
   "source": [
    "#input()  사용자가　입력한　값을　기다림"
   ]
  },
  {
   "cell_type": "code",
   "execution_count": 8,
   "metadata": {},
   "outputs": [
    {
     "name": "stdout",
     "output_type": "stream",
     "text": [
      "name please :서윤지\n",
      "Welcome서윤지\n"
     ]
    }
   ],
   "source": [
    "name = input(\"name please :\")\n",
    "print(\"Welcome\"+name)"
   ]
  },
  {
   "cell_type": "code",
   "execution_count": 17,
   "metadata": {},
   "outputs": [
    {
     "name": "stdout",
     "output_type": "stream",
     "text": [
      "나이를　입력하세요：99\n"
     ]
    },
    {
     "ename": "TypeError",
     "evalue": "unsupported operand type(s) for -: 'str' and 'int'",
     "output_type": "error",
     "traceback": [
      "\u001b[0;31m---------------------------------------------------------------------------\u001b[0m",
      "\u001b[0;31mTypeError\u001b[0m                                 Traceback (most recent call last)",
      "\u001b[0;32m<ipython-input-17-a5de2a80f491>\u001b[0m in \u001b[0;36m<module>\u001b[0;34m()\u001b[0m\n\u001b[1;32m      1\u001b[0m \u001b[0mage\u001b[0m \u001b[0;34m=\u001b[0m \u001b[0minput\u001b[0m\u001b[0;34m(\u001b[0m\u001b[0;34m'나이를　입력하세요：'\u001b[0m\u001b[0;34m)\u001b[0m\u001b[0;34m\u001b[0m\u001b[0m\n\u001b[0;32m----> 2\u001b[0;31m \u001b[0mage\u001b[0m \u001b[0;34m=\u001b[0m \u001b[0mage\u001b[0m\u001b[0;34m-\u001b[0m\u001b[0;36m3\u001b[0m\u001b[0;34m\u001b[0m\u001b[0m\n\u001b[0m\u001b[1;32m      3\u001b[0m \u001b[0mprint\u001b[0m\u001b[0;34m(\u001b[0m\u001b[0mage\u001b[0m\u001b[0;34m,\u001b[0m\u001b[0;34m'살로 보여요: '\u001b[0m\u001b[0;34m)\u001b[0m        \u001b[0;31m#input으로　들어온　값은　무조건　문자취급하므로　int를　이용해서　숫자로　바꿔줘야한다\u001b[0m\u001b[0;34m\u001b[0m\u001b[0m\n",
      "\u001b[0;31mTypeError\u001b[0m: unsupported operand type(s) for -: 'str' and 'int'"
     ]
    }
   ],
   "source": [
    "age = input('나이를　입력하세요：')\n",
    "age = age-3\n",
    "print(age,'살로 보여요: ')        #input으로　들어온　값은　무조건　문자취급하므로　int를　이용해서　숫자로　바꿔줘야한다"
   ]
  },
  {
   "cell_type": "code",
   "execution_count": 11,
   "metadata": {},
   "outputs": [
    {
     "name": "stdout",
     "output_type": "stream",
     "text": [
      "나이를　입력하세요：99\n",
      "96 살로 보여요: \n"
     ]
    }
   ],
   "source": [
    "age = input('나이를　입력하세요：')\n",
    "age = int(age)-3\n",
    "print(age,'살로 보여요: ')"
   ]
  },
  {
   "cell_type": "code",
   "execution_count": 26,
   "metadata": {},
   "outputs": [
    {
     "name": "stdout",
     "output_type": "stream",
     "text": [
      "생년을 입력 하세요 :1999\n",
      "생월을 입력 하세요 :01\n",
      "생일을 입력 하세요 :26\n",
      "당신의 인디언 이름은 욕심많은늑대의 파수꾼\n"
     ]
    }
   ],
   "source": [
    "year = {0:'말 많은',1:'푸른',2:'어두운',3:'조용한',4:'웅크린',5:'백색',6:'지혜로운',7:'용감한',8:'날카로운',9:'욕심많은'}\n",
    "month = {1:'늑대',2:'태양',3:'양',4:'매',5:'황소',6:'불꽃',7:'나무',8:'달빛',9:'말',10:'돼지',11:'하늘',12:'바람'}\n",
    "date = {1:'와(과) 함께 춤을',2:'의 기상',3:' 은(는) 그림자 속에',4:'',5:'',6:'',7:'의 환생',8:'의 죽음',9:'아래에서', \n",
    "        10:'을(를) 보라.',11:' 이(가) 노래하다.',12:'의 그늘',13:'의 일격',14:'에게 쫓기는 남자',15:'의 행진', \n",
    "        16:'의 왕',17:'의 유령',18:'을 죽인 자.',19:'은(는) 맨날 잠잔다.',20:'처럼..',21:'의 고향',22:'의 전사', \n",
    "        23:'은(는) 나의 친구',24:'의 노래',25:'의 정령',26:'의 파수꾼',27:'의 악마',28:'와(과) 같은 사나이', \n",
    "        29:'을(를) 쓰러트린 자',30:'의 혼',31:'은(는) 말이 없다. '}\n",
    "\n",
    "y = input(\"생년을 입력 하세요 :\")\n",
    "m = input(\"생월을 입력 하세요 :\")\n",
    "d = input(\"생일을 입력 하세요 :\")\n",
    "\n",
    "y_n = year[int(y[-1])]    #1999 여기서　끝글자만　써야하니까　문자열　인덱싱해줌！！\n",
    "m_n = month[int(m)]\n",
    "d_n = date[int(d)]\n",
    "\n",
    "I_name = y_n + m_n + d_n\n",
    "\n",
    "print('당신의 인디언 이름은 ' + I_name)"
   ]
  },
  {
   "cell_type": "markdown",
   "metadata": {},
   "source": [
    "#random\n",
    "난수(규칙 없는 임의의 수)를 발생시키는 외장함수(라이브러리)\n",
    "\n",
    "import random\n",
    "\n",
    "# 0 ~ 1 사이의 실수 \n",
    "Print(random.random())\n",
    "\n",
    "# 1에서 10 사이의 정수 중에서 난수값\n",
    "print(random.randint(1, 10))"
   ]
  },
  {
   "cell_type": "code",
   "execution_count": 28,
   "metadata": {},
   "outputs": [],
   "source": [
    "import random"
   ]
  },
  {
   "cell_type": "code",
   "execution_count": 32,
   "metadata": {},
   "outputs": [
    {
     "name": "stdout",
     "output_type": "stream",
     "text": [
      "0.4243498713316194\n"
     ]
    }
   ],
   "source": [
    "#0 ~ 1 사이의 실수 난수 출력\n",
    "print(random.random())"
   ]
  },
  {
   "cell_type": "code",
   "execution_count": 33,
   "metadata": {},
   "outputs": [
    {
     "name": "stdout",
     "output_type": "stream",
     "text": [
      "4\n"
     ]
    }
   ],
   "source": [
    "#1에서 10 사이의 정수 중에서 난수값 출력\n",
    "print(random.randint(1, 10))"
   ]
  },
  {
   "cell_type": "code",
   "execution_count": 42,
   "metadata": {},
   "outputs": [
    {
     "name": "stdout",
     "output_type": "stream",
     "text": [
      "111\n"
     ]
    }
   ],
   "source": [
    "data = [99,1,7,111,39,66,33,8,5]\n",
    "a = random.choice(data)     #리스트안에서　한개　값　선택해서　출력\n",
    "print(a)"
   ]
  },
  {
   "cell_type": "code",
   "execution_count": 36,
   "metadata": {},
   "outputs": [],
   "source": [
    "#suffle　리스트　안의　값을　섞어서　재배열하는것\n",
    "random.shuffle(data)"
   ]
  },
  {
   "cell_type": "code",
   "execution_count": 37,
   "metadata": {},
   "outputs": [
    {
     "name": "stdout",
     "output_type": "stream",
     "text": [
      "[5, 33, 7, 111, 1, 8, 66, 39, 99]\n"
     ]
    }
   ],
   "source": [
    "print(data)"
   ]
  },
  {
   "cell_type": "code",
   "execution_count": 38,
   "metadata": {},
   "outputs": [
    {
     "name": "stdout",
     "output_type": "stream",
     "text": [
      "[8, 1]\n"
     ]
    }
   ],
   "source": [
    "#로또번호생성하기\n",
    "#random의 sample 함수 (뽑을범위, 뽑을개수)\n",
    "a = random.sample(data,2)\n",
    "print(a)"
   ]
  },
  {
   "cell_type": "code",
   "execution_count": 39,
   "metadata": {},
   "outputs": [
    {
     "name": "stdout",
     "output_type": "stream",
     "text": [
      "[2, 6]\n"
     ]
    }
   ],
   "source": [
    "a = random.sample(range(1,11),2)\n",
    "print(a)"
   ]
  },
  {
   "cell_type": "code",
   "execution_count": 40,
   "metadata": {},
   "outputs": [
    {
     "name": "stdout",
     "output_type": "stream",
     "text": [
      "[26, 32, 44, 13, 23, 38]\n"
     ]
    }
   ],
   "source": [
    "a = random.sample(range(1,46),6)\n",
    "print(a)"
   ]
  },
  {
   "cell_type": "code",
   "execution_count": 53,
   "metadata": {},
   "outputs": [
    {
     "name": "stdout",
     "output_type": "stream",
     "text": [
      "이름을 입력하세요 : 서윤지\n",
      "서윤지 님은 타노스에 의해 사라졌습니다.\n"
     ]
    }
   ],
   "source": [
    "n = input('이름을 입력하세요 : ')\n",
    "a= random.randint(0,1)\n",
    "if a==0:\n",
    "    print(n,\"님은 타노스에 의해 사라졌습니다.\")\n",
    "else :\n",
    "    print(n,\"님은 살아남았습니다.\")"
   ]
  },
  {
   "cell_type": "code",
   "execution_count": 55,
   "metadata": {},
   "outputs": [
    {
     "name": "stdout",
     "output_type": "stream",
     "text": [
      "숫자는 무엇일까요? : 65\n",
      "정답입니다.\n"
     ]
    }
   ],
   "source": [
    "answer = random.randint(1, 100)\n",
    "a = input('숫자는 무엇일까요? : ')\n",
    "\n",
    "while 1:\n",
    "    if int(a)==answer:\n",
    "        print('정답입니다.')\n",
    "        break\n",
    "    elif int(a)>answer:\n",
    "        print('down')\n",
    "        continue\n",
    "    elif int(a)<answer:\n",
    "        print('up')\n",
    "        continue"
   ]
  },
  {
   "cell_type": "code",
   "execution_count": 67,
   "metadata": {},
   "outputs": [
    {
     "name": "stdout",
     "output_type": "stream",
     "text": [
      "숫자는 무엇일까요? : 89\n",
      "down\n",
      "숫자는 무엇일까요? : 64\n",
      "down\n",
      "숫자는 무엇일까요? : 231\n",
      "down\n",
      "숫자는 무엇일까요? : 21\n",
      "up\n",
      "숫자는 무엇일까요? : 54\n",
      "down\n",
      "숫자는 무엇일까요? : 6\n",
      "up\n",
      "숫자는 무엇일까요? : 35\n",
      "down\n",
      "숫자는 무엇일까요? : 45\n",
      "down\n",
      "숫자는 무엇일까요? : 24\n",
      "up\n",
      "숫자는 무엇일까요? : 25\n",
      "up\n",
      "숫자는 무엇일까요? : 26\n",
      "정답입니다!! 정답은 26\n"
     ]
    }
   ],
   "source": [
    "answer = random.randint(1, 100)\n",
    "\n",
    "while 1:\n",
    "    a = input('숫자는 무엇일까요? : ')    #물어보는건　계속　반복해야　하므로　while문　안에　있어야함\n",
    "    if int(a)==answer:\n",
    "        print('정답입니다!!','정답은',answer)\n",
    "        break\n",
    "    elif int(a)>answer:\n",
    "        print('down')\n",
    "        continue\n",
    "    elif int(a)<answer:\n",
    "        print('up')\n",
    "        continue"
   ]
  },
  {
   "cell_type": "markdown",
   "metadata": {},
   "source": [
    "# 몬테카를로 방법 원주율 구하기\n",
    "\n",
    "# 파이＝１/４원안의　점의　개수／총　점의　개수　＝　둘레／지름\n",
    "\n",
    "# 두점사이의　거리d가　１보다　작은가？　d=x*x+y*y\n",
    "\n",
    "# 점100000번　찍어서　확인해보기\n"
   ]
  },
  {
   "cell_type": "code",
   "execution_count": 72,
   "metadata": {},
   "outputs": [
    {
     "name": "stdout",
     "output_type": "stream",
     "text": [
      "3.14086\n"
     ]
    }
   ],
   "source": [
    "n = 1000000\n",
    "count = 0\n",
    "for i in range(n):\n",
    "    x = random.random()\n",
    "    y = random.random()\n",
    "    d = x**2 + y**2\n",
    "    if d<=1:\n",
    "        count=count+1\n",
    "pai = count*4/n\n",
    "print(pai)    "
   ]
  },
  {
   "cell_type": "code",
   "execution_count": null,
   "metadata": {},
   "outputs": [],
   "source": [
    "n = 100000000\n",
    "count = 0\n",
    "for i in range(n):\n",
    "    x = random.random()\n",
    "    y = random.random()\n",
    "    d = x**2 + y**2\n",
    "    if d<=1:\n",
    "        count=count+1\n",
    "    \n",
    "pai = count*4/n\n",
    "print(pai)"
   ]
  },
  {
   "cell_type": "code",
   "execution_count": null,
   "metadata": {},
   "outputs": [],
   "source": []
  },
  {
   "cell_type": "code",
   "execution_count": null,
   "metadata": {},
   "outputs": [],
   "source": []
  },
  {
   "cell_type": "code",
   "execution_count": null,
   "metadata": {},
   "outputs": [],
   "source": []
  },
  {
   "cell_type": "code",
   "execution_count": null,
   "metadata": {},
   "outputs": [],
   "source": []
  },
  {
   "cell_type": "code",
   "execution_count": null,
   "metadata": {},
   "outputs": [],
   "source": []
  },
  {
   "cell_type": "code",
   "execution_count": null,
   "metadata": {},
   "outputs": [],
   "source": []
  },
  {
   "cell_type": "code",
   "execution_count": null,
   "metadata": {},
   "outputs": [],
   "source": []
  }
 ],
 "metadata": {
  "kernelspec": {
   "display_name": "Python 3",
   "language": "python",
   "name": "python3"
  },
  "language_info": {
   "codemirror_mode": {
    "name": "ipython",
    "version": 3
   },
   "file_extension": ".py",
   "mimetype": "text/x-python",
   "name": "python",
   "nbconvert_exporter": "python",
   "pygments_lexer": "ipython3",
   "version": "3.6.5"
  }
 },
 "nbformat": 4,
 "nbformat_minor": 2
}
