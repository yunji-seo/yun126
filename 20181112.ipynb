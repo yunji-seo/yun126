{
 "cells": [
  {
   "cell_type": "code",
   "execution_count": 1,
   "metadata": {},
   "outputs": [
    {
     "name": "stdout",
     "output_type": "stream",
     "text": [
      "[1, 2, 3, 4, 5]\n"
     ]
    }
   ],
   "source": [
    "num_list = list(range(1,6))\n",
    "print(num_list)\n"
   ]
  },
  {
   "cell_type": "code",
   "execution_count": 2,
   "metadata": {},
   "outputs": [
    {
     "name": "stdout",
     "output_type": "stream",
     "text": [
      "[1, 2, 3, 4, 5]\n"
     ]
    }
   ],
   "source": [
    "num_list  = []\n",
    "for i in range(1,6) :\n",
    "    num_list.append(i)\n",
    "print(num_list)"
   ]
  },
  {
   "cell_type": "code",
   "execution_count": 5,
   "metadata": {},
   "outputs": [
    {
     "name": "stdout",
     "output_type": "stream",
     "text": [
      "[1, 2, 3, 4, 5]\n"
     ]
    }
   ],
   "source": [
    "num_list = [i for i in range(1,6)]   #리스트 COMPREHENSION(축약)\n",
    "print(num_list)"
   ]
  },
  {
   "cell_type": "code",
   "execution_count": 4,
   "metadata": {},
   "outputs": [
    {
     "name": "stdout",
     "output_type": "stream",
     "text": [
      "[2, 4, 6, 8, 10]\n"
     ]
    }
   ],
   "source": [
    "num_list = [i*2 for i in range(1,6)]\n",
    "print(num_list)"
   ]
  },
  {
   "cell_type": "code",
   "execution_count": 7,
   "metadata": {},
   "outputs": [
    {
     "name": "stdout",
     "output_type": "stream",
     "text": [
      "[1, 3, 5]\n"
     ]
    }
   ],
   "source": [
    "a_list = []\n",
    "for n in range(1,6) :\n",
    "    if n%2 == 1 :\n",
    "        a_list.append(n)\n",
    "print(a_list)"
   ]
  },
  {
   "cell_type": "code",
   "execution_count": 10,
   "metadata": {},
   "outputs": [
    {
     "name": "stdout",
     "output_type": "stream",
     "text": [
      "[1, 3, 5]\n"
     ]
    }
   ],
   "source": [
    "a_list = [n for n in range(1,6)  if n%2 == 1]  # 두 수식사이에 한칸 띠기\n",
    "print(a_list)"
   ]
  },
  {
   "cell_type": "code",
   "execution_count": 13,
   "metadata": {},
   "outputs": [
    {
     "name": "stdout",
     "output_type": "stream",
     "text": [
      "1 a\n",
      "1 b\n",
      "2 a\n",
      "2 b\n",
      "3 a\n",
      "3 b\n"
     ]
    }
   ],
   "source": [
    "a_list = [1,2,3]\n",
    "b_list = ['a','b']\n",
    "for u in a_list :\n",
    "    for j in b_list :\n",
    "        print(u,j)"
   ]
  },
  {
   "cell_type": "code",
   "execution_count": 14,
   "metadata": {},
   "outputs": [
    {
     "name": "stdout",
     "output_type": "stream",
     "text": [
      "[(1, 'a'), (1, 'b'), (2, 'a'), (2, 'b'), (3, 'a'), (3, 'b')]\n"
     ]
    }
   ],
   "source": [
    "a_list = [1,2,3]\n",
    "b_list = ['a','b']\n",
    "comp = [ (i,j) for i in a_list for j in b_list]\n",
    "print(comp)"
   ]
  },
  {
   "cell_type": "code",
   "execution_count": 16,
   "metadata": {},
   "outputs": [
    {
     "name": "stdout",
     "output_type": "stream",
     "text": [
      "1 a\n",
      "1 b\n",
      "2 a\n",
      "2 b\n",
      "3 a\n",
      "3 b\n"
     ]
    }
   ],
   "source": [
    "for h,d in comp :  #unpacking\n",
    "    print(h,d)"
   ]
  },
  {
   "cell_type": "code",
   "execution_count": 19,
   "metadata": {},
   "outputs": [
    {
     "name": "stdout",
     "output_type": "stream",
     "text": [
      "{'l': 1, 'e': 2, 't': 2, 'r': 1, 's': 1}\n"
     ]
    }
   ],
   "source": [
    "#dic_comp = {k:v ############}  단어에 문자가 몇개있는지 새주는 딕셔너리\n",
    "\n",
    "word = 'letters'\n",
    "letter_count = {letter:word.count(letter) for letter in word}\n",
    "print(letter_count)\n",
    "\n"
   ]
  },
  {
   "cell_type": "code",
   "execution_count": 22,
   "metadata": {},
   "outputs": [
    {
     "name": "stdout",
     "output_type": "stream",
     "text": [
      "{'e': 2, 't': 2, 'l': 1, 'r': 1, 's': 1}\n"
     ]
    }
   ],
   "source": [
    "word = 'letters'\n",
    "letter_count = {letter:word.count(letter) for letter in set(word)} #반복해서 세주는거 방지   #딕셔너리는 순서가 없기때문에 나오는게 바뀔수 있다. \n",
    "print(letter_count)"
   ]
  },
  {
   "cell_type": "code",
   "execution_count": 65,
   "metadata": {},
   "outputs": [],
   "source": [
    "def say() :\n",
    "    print('hi')  #프린트는 가능하지만 결과값은 없다.(리턴값이 없다.)\n",
    "\n",
    "    \n",
    "def say2() :\n",
    "    print('hello')"
   ]
  },
  {
   "cell_type": "markdown",
   "metadata": {},
   "source": [
    "### return 으로 쓰면 변수에 다시 넣어줘서 그 값이 저장되고 print() 로 출력된다면 그때만 출력되고 그 값이 다시 변수에 저장되지 않음\n",
    "\n",
    "def pp(n):\n",
    "    print(n)  결과값(리턴값)이 없는 함수\n",
    "\n",
    "\n",
    "def pp(n):\n",
    "    return(n)    \n",
    "    \n",
    "ex) a=print(3)\n",
    "     a=return(3) \n",
    "     return 다시 a에 저장시켜줌\n"
   ]
  },
  {
   "cell_type": "code",
   "execution_count": 78,
   "metadata": {},
   "outputs": [],
   "source": [
    "def pp(n): \n",
    "    print(n)"
   ]
  },
  {
   "cell_type": "code",
   "execution_count": 80,
   "metadata": {},
   "outputs": [
    {
     "name": "stdout",
     "output_type": "stream",
     "text": [
      "6\n",
      "None\n"
     ]
    }
   ],
   "source": [
    "a= pp(6)\n",
    "print(a)"
   ]
  },
  {
   "cell_type": "code",
   "execution_count": 81,
   "metadata": {},
   "outputs": [],
   "source": [
    "def pp(n): \n",
    "    return(n)"
   ]
  },
  {
   "cell_type": "code",
   "execution_count": 82,
   "metadata": {},
   "outputs": [
    {
     "name": "stdout",
     "output_type": "stream",
     "text": [
      "6\n"
     ]
    }
   ],
   "source": [
    "a= pp(6)\n",
    "print(a)"
   ]
  },
  {
   "cell_type": "code",
   "execution_count": 64,
   "metadata": {},
   "outputs": [],
   "source": [
    "#함수내부에서 함수 호출 가능!\n",
    "def do_sumthing(func):\n",
    "    func()   #함수 호출해주는 함수  func 는 변수명\n"
   ]
  },
  {
   "cell_type": "code",
   "execution_count": 28,
   "metadata": {},
   "outputs": [
    {
     "name": "stdout",
     "output_type": "stream",
     "text": [
      "hi\n"
     ]
    }
   ],
   "source": [
    "do_sumthing(say)"
   ]
  },
  {
   "cell_type": "code",
   "execution_count": 29,
   "metadata": {},
   "outputs": [
    {
     "name": "stdout",
     "output_type": "stream",
     "text": [
      "hello\n"
     ]
    }
   ],
   "source": [
    "do_sumthing(say2)"
   ]
  },
  {
   "cell_type": "code",
   "execution_count": null,
   "metadata": {},
   "outputs": [],
   "source": [
    "#재귀호출 자기(본인함수)안에서 자기자신을 부르는 함수\n",
    "\n",
    "def hello():\n",
    "    print('hello world!')\n",
    "    hello()   #영원히 돌게되는 코드\n",
    "\n"
   ]
  },
  {
   "cell_type": "code",
   "execution_count": 42,
   "metadata": {},
   "outputs": [],
   "source": [
    "def hello(n):\n",
    "    if n==0:\n",
    "        return  #아무일도안일어남...=> 함수 종료   리턴옆에 뭐 써주면 그거 나오고 종료\n",
    "    print('hello world!',n)\n",
    "    n=n-1\n",
    "    hello(n) "
   ]
  },
  {
   "cell_type": "code",
   "execution_count": 41,
   "metadata": {},
   "outputs": [
    {
     "name": "stdout",
     "output_type": "stream",
     "text": [
      "hello world! 10\n",
      "hello world! 9\n",
      "hello world! 8\n",
      "hello world! 7\n",
      "hello world! 6\n",
      "hello world! 5\n",
      "hello world! 4\n",
      "hello world! 3\n",
      "hello world! 2\n",
      "hello world! 1\n"
     ]
    }
   ],
   "source": [
    "hello(10)"
   ]
  },
  {
   "cell_type": "markdown",
   "metadata": {},
   "source": [
    "#재귀 사용\n",
    "countdown(5)\n",
    "5\n",
    "4\n",
    "3\n",
    "2\n",
    "1\n",
    "end!!!"
   ]
  },
  {
   "cell_type": "code",
   "execution_count": 47,
   "metadata": {},
   "outputs": [],
   "source": [
    "def countdown(n):\n",
    "    if n==0:\n",
    "        print('end!!!')\n",
    "        return  \n",
    "    print(n)\n",
    "    n=n-1\n",
    "    countdown(n) "
   ]
  },
  {
   "cell_type": "code",
   "execution_count": 48,
   "metadata": {},
   "outputs": [
    {
     "name": "stdout",
     "output_type": "stream",
     "text": [
      "10\n",
      "9\n",
      "8\n",
      "7\n",
      "6\n",
      "5\n",
      "4\n",
      "3\n",
      "2\n",
      "1\n",
      "end!!!\n"
     ]
    }
   ],
   "source": [
    "countdown(10)"
   ]
  },
  {
   "cell_type": "code",
   "execution_count": 49,
   "metadata": {},
   "outputs": [],
   "source": [
    "def countdown(n):\n",
    "    if n==0:\n",
    "        print('end!!!')\n",
    "        return  \n",
    "    else :\n",
    "        print(n)\n",
    "        countdown(n-1) "
   ]
  },
  {
   "cell_type": "code",
   "execution_count": 52,
   "metadata": {},
   "outputs": [
    {
     "name": "stdout",
     "output_type": "stream",
     "text": [
      "10\n",
      "9\n",
      "8\n",
      "7\n",
      "6\n",
      "5\n",
      "4\n",
      "3\n",
      "2\n",
      "1\n",
      "end!!!\n"
     ]
    }
   ],
   "source": [
    "countdown(10)\n",
    "\n",
    "#countdown(10)\n",
    "        #print 10 countdown(9) \n",
    "                #print 9 countdown(8) \n",
    "                        #...........\n",
    "                            #print 1  countdown(0)\n",
    "                                #print('end!!')  꼬리물기!"
   ]
  },
  {
   "cell_type": "markdown",
   "metadata": {},
   "source": [
    "#5! = 5*4*3*2*1 곱\n",
    "\n",
    "factorial(5)\n"
   ]
  },
  {
   "cell_type": "code",
   "execution_count": 60,
   "metadata": {},
   "outputs": [],
   "source": [
    "def factorial(n) :\n",
    "    if n != 0 :\n",
    "        n=n*n-1\n",
    "        print(n)\n",
    "        factorial(n-1)\n",
    "    elif n==0:\n",
    "        print(n,'!')\n",
    "        return"
   ]
  },
  {
   "cell_type": "code",
   "execution_count": 62,
   "metadata": {},
   "outputs": [],
   "source": [
    "def factorial(n) :\n",
    "    if n ==1 :\n",
    "         return 1\n",
    "    return n * factorial(n-1)"
   ]
  },
  {
   "cell_type": "code",
   "execution_count": 63,
   "metadata": {},
   "outputs": [
    {
     "data": {
      "text/plain": [
       "120"
      ]
     },
     "execution_count": 63,
     "metadata": {},
     "output_type": "execute_result"
    }
   ],
   "source": [
    "factorial(5)"
   ]
  },
  {
   "cell_type": "markdown",
   "metadata": {},
   "source": [
    "factorial(5)\n",
    "    5*factorial(4)\n",
    "        4*factorial(3)\n",
    "            3*factorial(2)\n",
    "\n"
   ]
  },
  {
   "cell_type": "markdown",
   "metadata": {},
   "source": [
    "f = open('mols.sdf')   #분자 10개존재\n",
    "def countn_mol(filename) :\n",
    "    \n",
    "    \n",
    "    return n_mol\n"
   ]
  },
  {
   "cell_type": "code",
   "execution_count": null,
   "metadata": {},
   "outputs": [],
   "source": [
    "    f = open('mols.sdf','r')\n",
    "    cnt = 0\n",
    "    for i in f :\n",
    "        if '$$$$' in i :\n",
    "            cnt=cnt+1\n",
    "    print(cnt) #=> return value    "
   ]
  },
  {
   "cell_type": "code",
   "execution_count": 86,
   "metadata": {},
   "outputs": [],
   "source": [
    "def countn_mol(filename) :\n",
    "    f = open(filename,'r')\n",
    "    cnt = 0\n",
    "    for i in f :\n",
    "        if '$$$$' in i :\n",
    "            cnt=cnt+1  \n",
    "    return cnt"
   ]
  },
  {
   "cell_type": "code",
   "execution_count": 87,
   "metadata": {},
   "outputs": [
    {
     "data": {
      "text/plain": [
       "10"
      ]
     },
     "execution_count": 87,
     "metadata": {},
     "output_type": "execute_result"
    }
   ],
   "source": [
    "countn_mol('mols.sdf')"
   ]
  },
  {
   "cell_type": "code",
   "execution_count": 88,
   "metadata": {},
   "outputs": [],
   "source": [
    "# 엄청  많은 분자정보가 있는 파일에서 내가 원하는 부분의 분자만 뽑아와서 사용하게 하는 코드\n",
    "#어떤 sdf파일에서 n개의 분자만 떼어서 저장해주는 함수 작성해보시오.\n",
    "\n",
    "def cut_sdf(infile,outfile,n) :  #infile이 나오면은 거기서 n개만 뽑아서 outfile에 저장\n",
    "    f = open(infile,'r')\n",
    "    f2 = open(outfile,'w')\n",
    "    "
   ]
  },
  {
   "cell_type": "code",
   "execution_count": 89,
   "metadata": {},
   "outputs": [],
   "source": [
    "cut_sdf('mols.sdf','mini.sdf',3)"
   ]
  },
  {
   "cell_type": "code",
   "execution_count": 94,
   "metadata": {},
   "outputs": [
    {
     "ename": "SyntaxError",
     "evalue": "'break' outside loop (<ipython-input-94-f545f2ef118d>, line 9)",
     "output_type": "error",
     "traceback": [
      "\u001b[0;36m  File \u001b[0;32m\"<ipython-input-94-f545f2ef118d>\"\u001b[0;36m, line \u001b[0;32m9\u001b[0m\n\u001b[0;31m    break\u001b[0m\n\u001b[0m    ^\u001b[0m\n\u001b[0;31mSyntaxError\u001b[0m\u001b[0;31m:\u001b[0m 'break' outside loop\n"
     ]
    }
   ],
   "source": [
    "def cut_sdf(infile,outfile,n) :  \n",
    "    f = open(infile,'r')\n",
    "    f2 = open(outfile,'w')\n",
    "    ms = f.readlines()\n",
    "    ms=str(ms)\n",
    "    each_mole = ms.strip().split('$$$$')\n",
    "    f2.write(each_mole)\n",
    "    if len(each_mole)-1 == n :\n",
    "        break"
   ]
  },
  {
   "cell_type": "code",
   "execution_count": 91,
   "metadata": {},
   "outputs": [],
   "source": [
    "def cut_sdf(infile,outfile,n) :  \n",
    "    f = open(infile,'r')\n",
    "    f2 = open(outfile,'w')\n",
    "    cnt=0\n",
    "    for line in f:\n",
    "        f2.write(line)\n",
    "        if \"$$$$\" in line :\n",
    "            cnt=cnt+1\n",
    "            if cnt==n :\n",
    "                break\n",
    "    f.close()\n",
    "    f2.close()"
   ]
  },
  {
   "cell_type": "code",
   "execution_count": 92,
   "metadata": {},
   "outputs": [],
   "source": [
    "cut_sdf('mols.sdf','mini.sdf',3)"
   ]
  },
  {
   "cell_type": "code",
   "execution_count": 93,
   "metadata": {},
   "outputs": [
    {
     "data": {
      "text/plain": [
       "3"
      ]
     },
     "execution_count": 93,
     "metadata": {},
     "output_type": "execute_result"
    }
   ],
   "source": [
    "countn_mol('mini.sdf')"
   ]
  },
  {
   "cell_type": "code",
   "execution_count": null,
   "metadata": {},
   "outputs": [],
   "source": [
    "def get_symbol(분자하나를 담고 있는 리스트):\n",
    "    \n",
    "    return 심볼만 담은 리스트"
   ]
  },
  {
   "cell_type": "code",
   "execution_count": 112,
   "metadata": {},
   "outputs": [],
   "source": [
    "def get_symbol(onemol):\n",
    "    atom_box = []\n",
    "    an = onemol[3].split()[0]\n",
    "    atom_info = onemol[4:4+int(an)] \n",
    "    for a in atom_info:\n",
    "        atom_box.append(a.split()[3])\n",
    "    \n",
    "    return  set(atom_box)"
   ]
  },
  {
   "cell_type": "code",
   "execution_count": 113,
   "metadata": {},
   "outputs": [
    {
     "name": "stdout",
     "output_type": "stream",
     "text": [
      "{'C', 'N', 'F', 'H'}\n",
      "{'O', 'N', 'F', 'C', 'H'}\n",
      "{'C', 'Cl', 'F', 'H'}\n",
      "{'C', 'F'}\n",
      "{'C', 'F'}\n",
      "{'C', 'Br', 'F'}\n",
      "{'C', 'O', 'Cl', 'F'}\n",
      "{'F', 'Cl', 'C', 'Br', 'H'}\n",
      "{'C', 'Cl', 'F'}\n",
      "{'C', 'Cl', 'F', 'H'}\n"
     ]
    }
   ],
   "source": [
    "f= open('mols.sdf','r')\n",
    "one_mol=[] #분자 1개씩\n",
    "#atom_box = []  #분자 한개의 아톰 심볼\n",
    "for line in f :\n",
    "    one_mol.append(line)\n",
    "    if '$$$$' in line :\n",
    "        print(get_symbol(one_mol))\n",
    "        one_mol = []"
   ]
  },
  {
   "cell_type": "code",
   "execution_count": 101,
   "metadata": {},
   "outputs": [],
   "source": [
    "def get_symbol(onemol):\n",
    "    n_atom = mole[3].split()[0]\n",
    "    atom_info = mole[4:4+int(n_atom)]\n",
    "    atom_box = []\n",
    "    for a in atom_info: \n",
    "          atom_box.append(a.split()[3])\n",
    "    return(atom_box)"
   ]
  },
  {
   "cell_type": "code",
   "execution_count": 96,
   "metadata": {},
   "outputs": [
    {
     "ename": "IndentationError",
     "evalue": "expected an indented block (<ipython-input-96-953ec46071e3>, line 7)",
     "output_type": "error",
     "traceback": [
      "\u001b[0;36m  File \u001b[0;32m\"<ipython-input-96-953ec46071e3>\"\u001b[0;36m, line \u001b[0;32m7\u001b[0m\n\u001b[0;31m    n_atom = mole[3].split()[0]\u001b[0m\n\u001b[0m         ^\u001b[0m\n\u001b[0;31mIndentationError\u001b[0m\u001b[0;31m:\u001b[0m expected an indented block\n"
     ]
    }
   ],
   "source": [
    "f= open('one_mol.sdf','r')\n",
    "one_mol=[] #분자 1개씩\n",
    "atom_box = []  #분자 한개의 아톰 심볼\n",
    "for line in f :\n",
    "    one_mol.append(line)\n",
    "    if '$$$$' in iine :\n",
    "        atom_box = []\n",
    "    n_atom = mole[3].split()[0]\n",
    "    atom_info = mole[4:4+int(n_atom)]\n",
    "    for i in atom_info:  #i는 한줄씩 들어옴\n",
    "        line = i.split()\n",
    "        print(line[3]) \n",
    "        atom = line[3]\n",
    "        atom_box.append(atom)\n",
    "    \n",
    "print(atom_box)"
   ]
  },
  {
   "cell_type": "code",
   "execution_count": null,
   "metadata": {},
   "outputs": [],
   "source": []
  },
  {
   "cell_type": "code",
   "execution_count": null,
   "metadata": {},
   "outputs": [],
   "source": []
  },
  {
   "cell_type": "code",
   "execution_count": null,
   "metadata": {},
   "outputs": [],
   "source": []
  },
  {
   "cell_type": "code",
   "execution_count": null,
   "metadata": {},
   "outputs": [],
   "source": []
  },
  {
   "cell_type": "code",
   "execution_count": null,
   "metadata": {},
   "outputs": [],
   "source": []
  },
  {
   "cell_type": "code",
   "execution_count": null,
   "metadata": {},
   "outputs": [],
   "source": []
  },
  {
   "cell_type": "code",
   "execution_count": null,
   "metadata": {},
   "outputs": [],
   "source": []
  },
  {
   "cell_type": "code",
   "execution_count": null,
   "metadata": {},
   "outputs": [],
   "source": []
  }
 ],
 "metadata": {
  "kernelspec": {
   "display_name": "Python 3",
   "language": "python",
   "name": "python3"
  },
  "language_info": {
   "codemirror_mode": {
    "name": "ipython",
    "version": 3
   },
   "file_extension": ".py",
   "mimetype": "text/x-python",
   "name": "python",
   "nbconvert_exporter": "python",
   "pygments_lexer": "ipython3",
   "version": "3.6.5"
  }
 },
 "nbformat": 4,
 "nbformat_minor": 2
}
