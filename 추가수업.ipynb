{
 "cells": [
  {
   "cell_type": "markdown",
   "metadata": {},
   "source": [
    "\n",
    "# Q1 숫자형, 문자형, 리스트, 튜플, 딕셔너리를 만들어 보자 (각각 변수명 붙여서) 변수명으로 사용 불가능한 경우는??"
   ]
  },
  {
   "cell_type": "code",
   "execution_count": 1,
   "metadata": {},
   "outputs": [
    {
     "name": "stdout",
     "output_type": "stream",
     "text": [
      "5\n"
     ]
    }
   ],
   "source": [
    "#숫자형\n",
    "print(2+3)"
   ]
  },
  {
   "cell_type": "code",
   "execution_count": 2,
   "metadata": {},
   "outputs": [
    {
     "name": "stdout",
     "output_type": "stream",
     "text": [
      "5\n"
     ]
    }
   ],
   "source": [
    "sum=2+3\n",
    "print(sum)"
   ]
  },
  {
   "cell_type": "code",
   "execution_count": 3,
   "metadata": {},
   "outputs": [
    {
     "name": "stdout",
     "output_type": "stream",
     "text": [
      "2+3\n",
      "23\n"
     ]
    }
   ],
   "source": [
    "#문자형\n",
    "print('2+3')\n",
    "print('2'+'3')"
   ]
  },
  {
   "cell_type": "code",
   "execution_count": 4,
   "metadata": {},
   "outputs": [
    {
     "name": "stdout",
     "output_type": "stream",
     "text": [
      "2+3\n",
      "23\n",
      "2+3 23\n"
     ]
    }
   ],
   "source": [
    "m=\"2+3\"\n",
    "n='2'+'3'\n",
    "print(m)\n",
    "print(n)\n",
    "print(m,n)"
   ]
  },
  {
   "cell_type": "code",
   "execution_count": 33,
   "metadata": {
    "scrolled": true
   },
   "outputs": [
    {
     "name": "stdout",
     "output_type": "stream",
     "text": [
      "4\n",
      "['초코맛', '딸기맛', '콜라맛', '박하맛']\n",
      "['초코맛', '딸기맛', '콜라맛', '박하맛', '누룽지맛']\n"
     ]
    }
   ],
   "source": [
    "#리스트\n",
    "candies=['초코맛','딸기맛','콜라맛','박하맛']\n",
    "print(len(candies))\n",
    "print(candies)\n",
    "candies.append('누룽지맛')\n",
    "print(candies)"
   ]
  },
  {
   "cell_type": "code",
   "execution_count": 8,
   "metadata": {},
   "outputs": [
    {
     "name": "stdout",
     "output_type": "stream",
     "text": [
      "['콜라맛', '박하맛']\n"
     ]
    }
   ],
   "source": [
    "print(candies[2:4])"
   ]
  },
  {
   "cell_type": "code",
   "execution_count": 9,
   "metadata": {},
   "outputs": [],
   "source": [
    "del candies[1]\n"
   ]
  },
  {
   "cell_type": "code",
   "execution_count": 10,
   "metadata": {},
   "outputs": [
    {
     "data": {
      "text/plain": [
       "['초코맛', '콜라맛', '박하맛', '누룽지맛']"
      ]
     },
     "execution_count": 10,
     "metadata": {},
     "output_type": "execute_result"
    }
   ],
   "source": [
    "candies\n"
   ]
  },
  {
   "cell_type": "code",
   "execution_count": 11,
   "metadata": {},
   "outputs": [],
   "source": [
    "candies[1]='바닐라맛'"
   ]
  },
  {
   "cell_type": "code",
   "execution_count": 12,
   "metadata": {},
   "outputs": [
    {
     "data": {
      "text/plain": [
       "['초코맛', '바닐라맛', '박하맛', '누룽지맛']"
      ]
     },
     "execution_count": 12,
     "metadata": {},
     "output_type": "execute_result"
    }
   ],
   "source": [
    "candies\n"
   ]
  },
  {
   "cell_type": "code",
   "execution_count": 13,
   "metadata": {},
   "outputs": [],
   "source": [
    "#튜플\n",
    "t1=(1,)\n",
    "t2=(2,4,\"강아지\",'고양이')"
   ]
  },
  {
   "cell_type": "code",
   "execution_count": 14,
   "metadata": {},
   "outputs": [
    {
     "name": "stdout",
     "output_type": "stream",
     "text": [
      "(1,) (2, 4, '강아지', '고양이')\n"
     ]
    }
   ],
   "source": [
    "print(t1,t2)"
   ]
  },
  {
   "cell_type": "code",
   "execution_count": 15,
   "metadata": {},
   "outputs": [
    {
     "name": "stdout",
     "output_type": "stream",
     "text": [
      "1\n"
     ]
    }
   ],
   "source": [
    "t3=(1)\n",
    "print(t3)"
   ]
  },
  {
   "cell_type": "code",
   "execution_count": 16,
   "metadata": {},
   "outputs": [
    {
     "data": {
      "text/plain": [
       "int"
      ]
     },
     "execution_count": 16,
     "metadata": {},
     "output_type": "execute_result"
    }
   ],
   "source": [
    "type(t3)"
   ]
  },
  {
   "cell_type": "code",
   "execution_count": 17,
   "metadata": {},
   "outputs": [
    {
     "data": {
      "text/plain": [
       "tuple"
      ]
     },
     "execution_count": 17,
     "metadata": {},
     "output_type": "execute_result"
    }
   ],
   "source": [
    "type(t1)"
   ]
  },
  {
   "cell_type": "code",
   "execution_count": 19,
   "metadata": {},
   "outputs": [
    {
     "name": "stdout",
     "output_type": "stream",
     "text": [
      "{'apple': 'r', 'banana': 'y', 'apple2': 'r', 'onion': 'W'}\n"
     ]
    }
   ],
   "source": [
    "#딕셔너리\n",
    "dict1={'apple':'r', 'banana':\"y\",\"apple2\":\"r\",'onion':'W'}\n",
    "print(dict1)"
   ]
  },
  {
   "cell_type": "code",
   "execution_count": 38,
   "metadata": {},
   "outputs": [
    {
     "name": "stdout",
     "output_type": "stream",
     "text": [
      "['초코맛', '딸기맛', '콜라맛', '박하맛', '누룽지맛']\n",
      "{'apple': 'r', 'banana': 'y', 'apple2': 'r', 'onion': 'W', 'orange': 'o'}\n"
     ]
    }
   ],
   "source": [
    "#값추가\n",
    "#리스트 \n",
    "candies=['초코맛','딸기맛','콜라맛','박하맛']\n",
    "candies.append('누룽지맛')\n",
    "print(candies)\n",
    "\n",
    "#딕셔너리\n",
    "dict1={'apple':'r', 'banana':\"y\",\"apple2\":\"r\",'onion':'W'}\n",
    "dict1['orange']=\"o\"\n",
    "print(dict1)"
   ]
  },
  {
   "cell_type": "code",
   "execution_count": 39,
   "metadata": {},
   "outputs": [
    {
     "ename": "AttributeError",
     "evalue": "'tuple' object has no attribute 'append'",
     "output_type": "error",
     "traceback": [
      "\u001b[0;31m---------------------------------------------------------------------------\u001b[0m",
      "\u001b[0;31mAttributeError\u001b[0m                            Traceback (most recent call last)",
      "\u001b[0;32m<ipython-input-39-16cfdfb7f893>\u001b[0m in \u001b[0;36m<module>\u001b[0;34m()\u001b[0m\n\u001b[1;32m      1\u001b[0m \u001b[0;31m#튜플\u001b[0m\u001b[0;34m\u001b[0m\u001b[0;34m\u001b[0m\u001b[0m\n\u001b[1;32m      2\u001b[0m \u001b[0mt1\u001b[0m\u001b[0;34m=\u001b[0m\u001b[0;34m(\u001b[0m\u001b[0;36m1\u001b[0m\u001b[0;34m,\u001b[0m\u001b[0;34m)\u001b[0m\u001b[0;34m\u001b[0m\u001b[0m\n\u001b[0;32m----> 3\u001b[0;31m \u001b[0mt1\u001b[0m\u001b[0;34m.\u001b[0m\u001b[0mappend\u001b[0m\u001b[0;34m(\u001b[0m\u001b[0;36m2\u001b[0m\u001b[0;34m)\u001b[0m\u001b[0;34m\u001b[0m\u001b[0m\n\u001b[0m\u001b[1;32m      4\u001b[0m \u001b[0mprint\u001b[0m\u001b[0;34m(\u001b[0m\u001b[0mt1\u001b[0m\u001b[0;34m)\u001b[0m\u001b[0;34m\u001b[0m\u001b[0m\n",
      "\u001b[0;31mAttributeError\u001b[0m: 'tuple' object has no attribute 'append'"
     ]
    }
   ],
   "source": [
    "#튜플\n",
    "t1=(1,)\n",
    "t1.append(2)\n",
    "print(t1)"
   ]
  },
  {
   "cell_type": "code",
   "execution_count": 44,
   "metadata": {},
   "outputs": [
    {
     "data": {
      "text/plain": [
       "'콜라맛'"
      ]
     },
     "execution_count": 44,
     "metadata": {},
     "output_type": "execute_result"
    }
   ],
   "source": [
    "#인덱싱, 슬라이싱\n",
    "#리스트\n",
    "candies=['초코맛','딸기맛','콜라맛','박하맛']\n",
    "candies[2]\n"
   ]
  },
  {
   "cell_type": "code",
   "execution_count": 43,
   "metadata": {},
   "outputs": [
    {
     "data": {
      "text/plain": [
       "'딸기맛'"
      ]
     },
     "execution_count": 43,
     "metadata": {},
     "output_type": "execute_result"
    }
   ],
   "source": [
    "candies[-3]"
   ]
  },
  {
   "cell_type": "code",
   "execution_count": 45,
   "metadata": {},
   "outputs": [
    {
     "data": {
      "text/plain": [
       "'사과'"
      ]
     },
     "execution_count": 45,
     "metadata": {},
     "output_type": "execute_result"
    }
   ],
   "source": [
    "#튜플\n",
    "t3=(1,5,6,'사과','think')\n",
    "t3[3]"
   ]
  },
  {
   "cell_type": "code",
   "execution_count": 46,
   "metadata": {},
   "outputs": [
    {
     "data": {
      "text/plain": [
       "'think'"
      ]
     },
     "execution_count": 46,
     "metadata": {},
     "output_type": "execute_result"
    }
   ],
   "source": [
    "t3[-1]\n"
   ]
  },
  {
   "cell_type": "code",
   "execution_count": 51,
   "metadata": {},
   "outputs": [
    {
     "ename": "KeyError",
     "evalue": "3",
     "output_type": "error",
     "traceback": [
      "\u001b[0;31m---------------------------------------------------------------------------\u001b[0m",
      "\u001b[0;31mKeyError\u001b[0m                                  Traceback (most recent call last)",
      "\u001b[0;32m<ipython-input-51-8e05ce712a55>\u001b[0m in \u001b[0;36m<module>\u001b[0;34m()\u001b[0m\n\u001b[1;32m      1\u001b[0m \u001b[0;31m#딕셔너리\u001b[0m\u001b[0;34m\u001b[0m\u001b[0;34m\u001b[0m\u001b[0m\n\u001b[1;32m      2\u001b[0m \u001b[0mdict1\u001b[0m\u001b[0;34m=\u001b[0m\u001b[0;34m{\u001b[0m\u001b[0;34m'apple'\u001b[0m\u001b[0;34m:\u001b[0m\u001b[0;34m'r'\u001b[0m\u001b[0;34m,\u001b[0m \u001b[0;34m'banana'\u001b[0m\u001b[0;34m:\u001b[0m\u001b[0;34m\"y\"\u001b[0m\u001b[0;34m,\u001b[0m\u001b[0;34m\"apple2\"\u001b[0m\u001b[0;34m:\u001b[0m\u001b[0;34m\"r\"\u001b[0m\u001b[0;34m,\u001b[0m\u001b[0;34m'onion'\u001b[0m\u001b[0;34m:\u001b[0m\u001b[0;34m'W'\u001b[0m\u001b[0;34m}\u001b[0m\u001b[0;34m\u001b[0m\u001b[0m\n\u001b[0;32m----> 3\u001b[0;31m \u001b[0mdict1\u001b[0m\u001b[0;34m[\u001b[0m\u001b[0;36m3\u001b[0m\u001b[0;34m]\u001b[0m   \u001b[0;31m#딕셔너리는 인덱싱이 안된다 순서가 없기때문[]는 검색하기위해필요한것 키로서 접근하며  value 를 입력하면 값이 안나온다.\u001b[0m\u001b[0;34m\u001b[0m\u001b[0m\n\u001b[0m\u001b[1;32m      4\u001b[0m \u001b[0mdict1\u001b[0m\u001b[0;34m[\u001b[0m\u001b[0;34m'r'\u001b[0m\u001b[0;34m]\u001b[0m\u001b[0;34m\u001b[0m\u001b[0m\n",
      "\u001b[0;31mKeyError\u001b[0m: 3"
     ]
    }
   ],
   "source": [
    "#딕셔너리\n",
    "dict1={'apple':'r', 'banana':\"y\",\"apple2\":\"r\",'onion':'W'}\n",
    "dict1[3]   #딕셔너리는 인덱싱이 안된다 순서가 없기때문[]는 검색하기위해필요한것 키로서 접근하며  value 를 입력하면 값이 안나온다.\n"
   ]
  },
  {
   "cell_type": "code",
   "execution_count": 52,
   "metadata": {},
   "outputs": [
    {
     "ename": "KeyError",
     "evalue": "'r'",
     "output_type": "error",
     "traceback": [
      "\u001b[0;31m---------------------------------------------------------------------------\u001b[0m",
      "\u001b[0;31mKeyError\u001b[0m                                  Traceback (most recent call last)",
      "\u001b[0;32m<ipython-input-52-816f44c65193>\u001b[0m in \u001b[0;36m<module>\u001b[0;34m()\u001b[0m\n\u001b[0;32m----> 1\u001b[0;31m \u001b[0mdict1\u001b[0m\u001b[0;34m[\u001b[0m\u001b[0;34m'r'\u001b[0m\u001b[0;34m]\u001b[0m\u001b[0;34m\u001b[0m\u001b[0m\n\u001b[0m",
      "\u001b[0;31mKeyError\u001b[0m: 'r'"
     ]
    }
   ],
   "source": [
    "dict1['r']"
   ]
  },
  {
   "cell_type": "code",
   "execution_count": 54,
   "metadata": {},
   "outputs": [
    {
     "name": "stdout",
     "output_type": "stream",
     "text": [
      "['초코맛', '콜라맛', '박하맛']\n"
     ]
    }
   ],
   "source": [
    "# 값 삭제\n",
    "#리스트\n",
    "candies=['초코맛','딸기맛','콜라맛','박하맛']\n",
    "del candies[1]\n",
    "print(candies)\n",
    "\n"
   ]
  },
  {
   "cell_type": "code",
   "execution_count": 55,
   "metadata": {},
   "outputs": [
    {
     "ename": "TypeError",
     "evalue": "'tuple' object doesn't support item deletion",
     "output_type": "error",
     "traceback": [
      "\u001b[0;31m---------------------------------------------------------------------------\u001b[0m",
      "\u001b[0;31mTypeError\u001b[0m                                 Traceback (most recent call last)",
      "\u001b[0;32m<ipython-input-55-b60ce34e9bbc>\u001b[0m in \u001b[0;36m<module>\u001b[0;34m()\u001b[0m\n\u001b[1;32m      1\u001b[0m \u001b[0;31m#튜플\u001b[0m\u001b[0;34m\u001b[0m\u001b[0;34m\u001b[0m\u001b[0m\n\u001b[1;32m      2\u001b[0m \u001b[0mt3\u001b[0m\u001b[0;34m=\u001b[0m\u001b[0;34m(\u001b[0m\u001b[0;36m1\u001b[0m\u001b[0;34m,\u001b[0m\u001b[0;36m5\u001b[0m\u001b[0;34m,\u001b[0m\u001b[0;36m6\u001b[0m\u001b[0;34m,\u001b[0m\u001b[0;34m'사과'\u001b[0m\u001b[0;34m,\u001b[0m\u001b[0;34m'think'\u001b[0m\u001b[0;34m)\u001b[0m\u001b[0;34m\u001b[0m\u001b[0m\n\u001b[0;32m----> 3\u001b[0;31m \u001b[0;32mdel\u001b[0m \u001b[0mt3\u001b[0m\u001b[0;34m[\u001b[0m\u001b[0;36m3\u001b[0m\u001b[0;34m]\u001b[0m\u001b[0;34m\u001b[0m\u001b[0m\n\u001b[0m\u001b[1;32m      4\u001b[0m \u001b[0mprint\u001b[0m\u001b[0;34m(\u001b[0m\u001b[0mt3\u001b[0m\u001b[0;34m)\u001b[0m\u001b[0;34m\u001b[0m\u001b[0m\n",
      "\u001b[0;31mTypeError\u001b[0m: 'tuple' object doesn't support item deletion"
     ]
    }
   ],
   "source": [
    "#튜플\n",
    "t3=(1,5,6,'사과','think')\n",
    "del t3[3]\n",
    "print(t3)"
   ]
  },
  {
   "cell_type": "code",
   "execution_count": 57,
   "metadata": {},
   "outputs": [
    {
     "name": "stdout",
     "output_type": "stream",
     "text": [
      "{'banana': 'y', 'apple2': 'r', 'onion': 'W'}\n"
     ]
    }
   ],
   "source": [
    " #딕셔너리\n",
    "dict1={'apple':'r', 'banana':\"y\",\"apple2\":\"r\",'onion':'W'}    \n",
    "del dict1['apple']\n",
    "print(dict1)"
   ]
  },
  {
   "cell_type": "code",
   "execution_count": 59,
   "metadata": {},
   "outputs": [
    {
     "data": {
      "text/plain": [
       "4"
      ]
     },
     "execution_count": 59,
     "metadata": {},
     "output_type": "execute_result"
    }
   ],
   "source": [
    "#길이재기 len()\n",
    "#리스트\n",
    "candies=['초코맛','딸기맛','콜라맛','박하맛']\n",
    "len(candies)"
   ]
  },
  {
   "cell_type": "code",
   "execution_count": 60,
   "metadata": {},
   "outputs": [
    {
     "data": {
      "text/plain": [
       "5"
      ]
     },
     "execution_count": 60,
     "metadata": {},
     "output_type": "execute_result"
    }
   ],
   "source": [
    "#튜플\n",
    "t3=(1,5,6,'사과','think')\n",
    "len(t3)"
   ]
  },
  {
   "cell_type": "code",
   "execution_count": 61,
   "metadata": {},
   "outputs": [
    {
     "data": {
      "text/plain": [
       "4"
      ]
     },
     "execution_count": 61,
     "metadata": {},
     "output_type": "execute_result"
    }
   ],
   "source": [
    "#딕셔너리\n",
    "dict1={'apple':'r', 'banana':\"y\",\"apple2\":\"r\",'onion':'W'}\n",
    "len(dict1)"
   ]
  },
  {
   "cell_type": "markdown",
   "metadata": {},
   "source": [
    "# Q2 숫자형중 몫과 나머지를 각각 구하는 연산기호는?\n"
   ]
  },
  {
   "cell_type": "code",
   "execution_count": 20,
   "metadata": {},
   "outputs": [
    {
     "name": "stdout",
     "output_type": "stream",
     "text": [
      "63\n"
     ]
    }
   ],
   "source": [
    "print(189//3)  #몫"
   ]
  },
  {
   "cell_type": "code",
   "execution_count": 23,
   "metadata": {},
   "outputs": [
    {
     "name": "stdout",
     "output_type": "stream",
     "text": [
      "0\n"
     ]
    }
   ],
   "source": [
    "print(189%3)   #나머지"
   ]
  },
  {
   "cell_type": "code",
   "execution_count": 28,
   "metadata": {},
   "outputs": [
    {
     "name": "stdout",
     "output_type": "stream",
     "text": [
      "8\n"
     ]
    }
   ],
   "source": [
    "print(2**3)"
   ]
  },
  {
   "cell_type": "markdown",
   "metadata": {},
   "source": [
    "# Q3 연산기호 +,*은 숫자형과 문자열에 각각 어떤 연산으로 작용하는가?\n"
   ]
  },
  {
   "cell_type": "code",
   "execution_count": 24,
   "metadata": {},
   "outputs": [
    {
     "name": "stdout",
     "output_type": "stream",
     "text": [
      "65\n",
      "354\n"
     ]
    }
   ],
   "source": [
    "#숫자형\n",
    "print(59+6)\n",
    "print(59*6)"
   ]
  },
  {
   "cell_type": "code",
   "execution_count": 27,
   "metadata": {},
   "outputs": [
    {
     "name": "stdout",
     "output_type": "stream",
     "text": [
      "596\n",
      "595959595959\n"
     ]
    }
   ],
   "source": [
    "#문자형\n",
    "print('59'+'6') #문자연속\n",
    "print('59'*6)  #문자반복"
   ]
  },
  {
   "cell_type": "markdown",
   "metadata": {},
   "source": [
    "# Q4 print() 함수를 사용시 여러 변수나 자료형을 한번에 출력하려면 어떻게 출력해야 하나?\n"
   ]
  },
  {
   "cell_type": "code",
   "execution_count": 31,
   "metadata": {},
   "outputs": [
    {
     "name": "stdout",
     "output_type": "stream",
     "text": [
      "초록 거북이\n"
     ]
    }
   ],
   "source": [
    "a= '초록'\n",
    "print(a,\"거북이\")"
   ]
  },
  {
   "cell_type": "markdown",
   "metadata": {},
   "source": [
    "# Q5 range() 함수 사용법은? 2부터 100출력해보기 for문 사용!!"
   ]
  },
  {
   "cell_type": "code",
   "execution_count": 62,
   "metadata": {},
   "outputs": [
    {
     "name": "stdout",
     "output_type": "stream",
     "text": [
      "2\n",
      "3\n",
      "4\n",
      "5\n",
      "6\n",
      "7\n",
      "8\n",
      "9\n",
      "10\n",
      "11\n",
      "12\n",
      "13\n",
      "14\n",
      "15\n",
      "16\n",
      "17\n",
      "18\n",
      "19\n",
      "20\n",
      "21\n",
      "22\n",
      "23\n",
      "24\n",
      "25\n",
      "26\n",
      "27\n",
      "28\n",
      "29\n",
      "30\n",
      "31\n",
      "32\n",
      "33\n",
      "34\n",
      "35\n",
      "36\n",
      "37\n",
      "38\n",
      "39\n",
      "40\n",
      "41\n",
      "42\n",
      "43\n",
      "44\n",
      "45\n",
      "46\n",
      "47\n",
      "48\n",
      "49\n",
      "50\n",
      "51\n",
      "52\n",
      "53\n",
      "54\n",
      "55\n",
      "56\n",
      "57\n",
      "58\n",
      "59\n",
      "60\n",
      "61\n",
      "62\n",
      "63\n",
      "64\n",
      "65\n",
      "66\n",
      "67\n",
      "68\n",
      "69\n",
      "70\n",
      "71\n",
      "72\n",
      "73\n",
      "74\n",
      "75\n",
      "76\n",
      "77\n",
      "78\n",
      "79\n",
      "80\n",
      "81\n",
      "82\n",
      "83\n",
      "84\n",
      "85\n",
      "86\n",
      "87\n",
      "88\n",
      "89\n",
      "90\n",
      "91\n",
      "92\n",
      "93\n",
      "94\n",
      "95\n",
      "96\n",
      "97\n",
      "98\n",
      "99\n",
      "100\n"
     ]
    }
   ],
   "source": [
    "for i in range(2,101):\n",
    "    print(i)"
   ]
  },
  {
   "cell_type": "markdown",
   "metadata": {},
   "source": [
    "# Q6 a=['boll','boll'] for문 이용하여 a의 boll을 ball로 고치자\n"
   ]
  },
  {
   "cell_type": "code",
   "execution_count": 67,
   "metadata": {},
   "outputs": [
    {
     "name": "stdout",
     "output_type": "stream",
     "text": [
      "['ball', 'ball', 'ball', 'ball', 'ball']\n"
     ]
    }
   ],
   "source": [
    "a=['boll','boll','boll','boll','boll']  \n",
    "for i in range(len(a)):    #여기서 i는 리스트 a의 인덱스들을 의미한다!!!\n",
    "    a[i]='ball'\n",
    "print(a)\n",
    "    "
   ]
  },
  {
   "cell_type": "markdown",
   "metadata": {},
   "source": [
    "# Q7 구구단 3단을 출력해 보자"
   ]
  },
  {
   "cell_type": "code",
   "execution_count": 68,
   "metadata": {},
   "outputs": [
    {
     "name": "stdout",
     "output_type": "stream",
     "text": [
      "3 X 1 = 3\n",
      "3 X 2 = 6\n",
      "3 X 3 = 9\n",
      "3 X 4 = 12\n",
      "3 X 5 = 15\n",
      "3 X 6 = 18\n",
      "3 X 7 = 21\n",
      "3 X 8 = 24\n",
      "3 X 9 = 27\n"
     ]
    }
   ],
   "source": [
    "for i in range(1,10):\n",
    "    print(\"3\",\"X\",i,\"=\",3*i)"
   ]
  },
  {
   "cell_type": "markdown",
   "metadata": {},
   "source": [
    "# Q8 리스트값의 평균을 구해보자"
   ]
  },
  {
   "cell_type": "code",
   "execution_count": 72,
   "metadata": {},
   "outputs": [
    {
     "name": "stdout",
     "output_type": "stream",
     "text": [
      "7.777777777777778\n",
      "14.444444444444445\n",
      "20.555555555555557\n",
      "28.88888888888889\n",
      "39.44444444444444\n",
      "48.333333333333336\n",
      "57.22222222222222\n",
      "66.66666666666667\n",
      "77.77777777777777\n",
      "77.77777777777777\n"
     ]
    }
   ],
   "source": [
    "a=[70,60,55,75,95,80,80,85,100]\n",
    "sum = 0\n",
    "for i in a:\n",
    "    sum=sum+i\n",
    "    print(sum/len(a))\n",
    "print(sum/len(a))"
   ]
  },
  {
   "cell_type": "markdown",
   "metadata": {},
   "source": [
    "# Q9 if, elif, else 의 관계는?? 같다는 조건은 어떤 기호로 표시하는건가?"
   ]
  },
  {
   "cell_type": "code",
   "execution_count": 71,
   "metadata": {},
   "outputs": [],
   "source": [
    "#if는 조건 판별  혼자서 사용가능\n",
    "#elif 는 다른 조건일 경우 추가판별 혼자서 쓸수 없음 여러개 사용가능 elif만 쓰고 해도 가능(else를 안써도 가능)\n",
    "#else는 이 조건이 아니면 이거 (다른거)  혼자사용불가 맨 마지막에만 써야함 \n",
    "# 같다는 == 2개!!\n"
   ]
  },
  {
   "cell_type": "markdown",
   "metadata": {},
   "source": [
    "# Q10 점수가 60점 이상인 학생에게 \"00점으로 합격입니다' 라고 출력하는 코드 작성"
   ]
  },
  {
   "cell_type": "code",
   "execution_count": 76,
   "metadata": {},
   "outputs": [
    {
     "name": "stdout",
     "output_type": "stream",
     "text": [
      "90 점으로 합격입니다.\n",
      "67 점으로 합격입니다.\n",
      "80 점으로 합격입니다.\n"
     ]
    }
   ],
   "source": [
    "score = [90,25,67,45,80]\n",
    "\n",
    "for i in score:    #range(len(score)) 일경우 범위를 의미하게 된다!!\n",
    "    if i>=60:\n",
    "        print(i,'점으로 합격입니다.')\n",
    "        "
   ]
  },
  {
   "cell_type": "markdown",
   "metadata": {},
   "source": [
    "# Q11 리스트에 홀수 짝수 판별하여 말해주는 코드 작성"
   ]
  },
  {
   "cell_type": "code",
   "execution_count": 82,
   "metadata": {},
   "outputs": [
    {
     "name": "stdout",
     "output_type": "stream",
     "text": [
      "90 는 짝수입니다.\n",
      "25 는 홀수입니다.\n",
      "67 는 홀수입니다.\n",
      "45 는 홀수입니다.\n",
      "80 는 짝수입니다.\n"
     ]
    }
   ],
   "source": [
    "score = [90,25,67,45,80]\n",
    "\n",
    "for i in score:\n",
    "    if i%2==1:\n",
    "        print(i,'는 홀수입니다.')\n",
    "    elif i%2==0:\n",
    "        print(i,'는 짝수입니다.')"
   ]
  },
  {
   "cell_type": "code",
   "execution_count": 83,
   "metadata": {},
   "outputs": [
    {
     "name": "stdout",
     "output_type": "stream",
     "text": [
      "90 는 짝수입니다.\n",
      "25 는 홀수입니다.\n",
      "67 는 홀수입니다.\n",
      "45 는 홀수입니다.\n",
      "80 는 짝수입니다.\n"
     ]
    }
   ],
   "source": [
    "score = [90,25,67,45,80]\n",
    "\n",
    "for i in score:\n",
    "    if i%2==1:\n",
    "        print(i,'는 홀수입니다.')\n",
    "    else:\n",
    "        print(i,'는 짝수입니다.')"
   ]
  },
  {
   "cell_type": "markdown",
   "metadata": {},
   "source": [
    "# Q12 다음 코드의 결과값은???\n",
    "### a=\"Life is too short, youneed python\"\n",
    "### if 'wife' in a:\n",
    "     print('wife')\n",
    "### elif 'python' in a and 'you' not in a:\n",
    "     print('python')\n",
    "### elif 'shirt' not in a:\n",
    "     print('shirt')\n",
    "### elif 'need' in a:\n",
    "     print('need')\n",
    "### else:\n",
    "     print('none')"
   ]
  },
  {
   "cell_type": "code",
   "execution_count": 84,
   "metadata": {},
   "outputs": [
    {
     "name": "stdout",
     "output_type": "stream",
     "text": [
      "shirt\n"
     ]
    }
   ],
   "source": [
    "a=\"Life is too short, youneed python\"\n",
    "if 'wife' in a:\n",
    "    print('wife')\n",
    "\n",
    "elif 'python' in a and 'you' not in a:\n",
    "    print('python')\n",
    "\n",
    "elif 'shirt' not in a:\n",
    "    print('shirt')\n",
    "\n",
    "elif 'need' in a:\n",
    "    print('need')\n",
    "\n",
    "else:\n",
    "    print('none')\n"
   ]
  },
  {
   "cell_type": "markdown",
   "metadata": {},
   "source": [
    "# Q13 while문을 이용하여 대문자 O을 아래와 같이 출력하는 프로그램을 작성하자\n",
    "## O\n",
    "## OO\n",
    "## OOO\n",
    "## OOOO\n",
    "## OOOOO"
   ]
  },
  {
   "cell_type": "code",
   "execution_count": 93,
   "metadata": {},
   "outputs": [
    {
     "name": "stdout",
     "output_type": "stream",
     "text": [
      "O\n",
      "OO\n",
      "OOO\n",
      "OOOO\n",
      "OOOOO\n",
      "OOOOOO\n"
     ]
    }
   ],
   "source": [
    "new = 0\n",
    "while new<6:\n",
    "    new=new+1\n",
    "    print('O'*new)"
   ]
  },
  {
   "cell_type": "code",
   "execution_count": 95,
   "metadata": {},
   "outputs": [
    {
     "name": "stdout",
     "output_type": "stream",
     "text": [
      "OOOOO\n",
      "OOOO\n",
      "OOO\n",
      "OO\n",
      "O\n",
      "\n"
     ]
    }
   ],
   "source": [
    "new = 6\n",
    "while 0<new<7:\n",
    "    new=new-1\n",
    "    print('O'*new)"
   ]
  },
  {
   "cell_type": "markdown",
   "metadata": {},
   "source": [
    "# Q14 3부터 100까지의 자연수 중 소수를 구하는 프로그램 작성하기!!\n"
   ]
  },
  {
   "cell_type": "code",
   "execution_count": 100,
   "metadata": {},
   "outputs": [
    {
     "name": "stdout",
     "output_type": "stream",
     "text": [
      "[3, 5, 7, 11, 13, 17, 19, 23, 29, 31, 37, 41, 43, 47, 53, 59, 61, 67, 71, 73, 79, 83, 89, 97]\n"
     ]
    }
   ],
   "source": [
    "prime=[]\n",
    "\n",
    "for n in range(3,101):  # 3부터 100까지 자연수한번씩 반복\n",
    "    flag = 1 \n",
    "    for i in range(2,n):  #소수를 검사할 자연수 부분 \n",
    "        if n%i==0:\n",
    "            flag = 0\n",
    "            break  # 가장 가까이 있는 반복문(for, while)을 멈춰준다.!! continue와 차이 비교해보기  \n",
    "    if flag ==1 :\n",
    "        prime.append(n)\n",
    "print(prime) \n"
   ]
  },
  {
   "cell_type": "code",
   "execution_count": 101,
   "metadata": {},
   "outputs": [
    {
     "name": "stdout",
     "output_type": "stream",
     "text": [
      "[3]\n",
      "[3]\n",
      "[3, 5]\n",
      "[3, 5]\n",
      "[3, 5, 7]\n",
      "[3, 5, 7]\n",
      "[3, 5, 7]\n",
      "[3, 5, 7]\n",
      "[3, 5, 7, 11]\n",
      "[3, 5, 7, 11]\n",
      "[3, 5, 7, 11, 13]\n",
      "[3, 5, 7, 11, 13]\n",
      "[3, 5, 7, 11, 13]\n",
      "[3, 5, 7, 11, 13]\n",
      "[3, 5, 7, 11, 13, 17]\n",
      "[3, 5, 7, 11, 13, 17]\n",
      "[3, 5, 7, 11, 13, 17, 19]\n",
      "[3, 5, 7, 11, 13, 17, 19]\n",
      "[3, 5, 7, 11, 13, 17, 19]\n",
      "[3, 5, 7, 11, 13, 17, 19]\n",
      "[3, 5, 7, 11, 13, 17, 19, 23]\n",
      "[3, 5, 7, 11, 13, 17, 19, 23]\n",
      "[3, 5, 7, 11, 13, 17, 19, 23]\n",
      "[3, 5, 7, 11, 13, 17, 19, 23]\n",
      "[3, 5, 7, 11, 13, 17, 19, 23]\n",
      "[3, 5, 7, 11, 13, 17, 19, 23]\n",
      "[3, 5, 7, 11, 13, 17, 19, 23, 29]\n",
      "[3, 5, 7, 11, 13, 17, 19, 23, 29]\n",
      "[3, 5, 7, 11, 13, 17, 19, 23, 29, 31]\n",
      "[3, 5, 7, 11, 13, 17, 19, 23, 29, 31]\n",
      "[3, 5, 7, 11, 13, 17, 19, 23, 29, 31]\n",
      "[3, 5, 7, 11, 13, 17, 19, 23, 29, 31]\n",
      "[3, 5, 7, 11, 13, 17, 19, 23, 29, 31]\n",
      "[3, 5, 7, 11, 13, 17, 19, 23, 29, 31]\n",
      "[3, 5, 7, 11, 13, 17, 19, 23, 29, 31, 37]\n",
      "[3, 5, 7, 11, 13, 17, 19, 23, 29, 31, 37]\n",
      "[3, 5, 7, 11, 13, 17, 19, 23, 29, 31, 37]\n",
      "[3, 5, 7, 11, 13, 17, 19, 23, 29, 31, 37]\n",
      "[3, 5, 7, 11, 13, 17, 19, 23, 29, 31, 37, 41]\n",
      "[3, 5, 7, 11, 13, 17, 19, 23, 29, 31, 37, 41]\n",
      "[3, 5, 7, 11, 13, 17, 19, 23, 29, 31, 37, 41, 43]\n",
      "[3, 5, 7, 11, 13, 17, 19, 23, 29, 31, 37, 41, 43]\n",
      "[3, 5, 7, 11, 13, 17, 19, 23, 29, 31, 37, 41, 43]\n",
      "[3, 5, 7, 11, 13, 17, 19, 23, 29, 31, 37, 41, 43]\n",
      "[3, 5, 7, 11, 13, 17, 19, 23, 29, 31, 37, 41, 43, 47]\n",
      "[3, 5, 7, 11, 13, 17, 19, 23, 29, 31, 37, 41, 43, 47]\n",
      "[3, 5, 7, 11, 13, 17, 19, 23, 29, 31, 37, 41, 43, 47]\n",
      "[3, 5, 7, 11, 13, 17, 19, 23, 29, 31, 37, 41, 43, 47]\n",
      "[3, 5, 7, 11, 13, 17, 19, 23, 29, 31, 37, 41, 43, 47]\n",
      "[3, 5, 7, 11, 13, 17, 19, 23, 29, 31, 37, 41, 43, 47]\n",
      "[3, 5, 7, 11, 13, 17, 19, 23, 29, 31, 37, 41, 43, 47, 53]\n",
      "[3, 5, 7, 11, 13, 17, 19, 23, 29, 31, 37, 41, 43, 47, 53]\n",
      "[3, 5, 7, 11, 13, 17, 19, 23, 29, 31, 37, 41, 43, 47, 53]\n",
      "[3, 5, 7, 11, 13, 17, 19, 23, 29, 31, 37, 41, 43, 47, 53]\n",
      "[3, 5, 7, 11, 13, 17, 19, 23, 29, 31, 37, 41, 43, 47, 53]\n",
      "[3, 5, 7, 11, 13, 17, 19, 23, 29, 31, 37, 41, 43, 47, 53]\n",
      "[3, 5, 7, 11, 13, 17, 19, 23, 29, 31, 37, 41, 43, 47, 53, 59]\n",
      "[3, 5, 7, 11, 13, 17, 19, 23, 29, 31, 37, 41, 43, 47, 53, 59]\n",
      "[3, 5, 7, 11, 13, 17, 19, 23, 29, 31, 37, 41, 43, 47, 53, 59, 61]\n",
      "[3, 5, 7, 11, 13, 17, 19, 23, 29, 31, 37, 41, 43, 47, 53, 59, 61]\n",
      "[3, 5, 7, 11, 13, 17, 19, 23, 29, 31, 37, 41, 43, 47, 53, 59, 61]\n",
      "[3, 5, 7, 11, 13, 17, 19, 23, 29, 31, 37, 41, 43, 47, 53, 59, 61]\n",
      "[3, 5, 7, 11, 13, 17, 19, 23, 29, 31, 37, 41, 43, 47, 53, 59, 61]\n",
      "[3, 5, 7, 11, 13, 17, 19, 23, 29, 31, 37, 41, 43, 47, 53, 59, 61]\n",
      "[3, 5, 7, 11, 13, 17, 19, 23, 29, 31, 37, 41, 43, 47, 53, 59, 61, 67]\n",
      "[3, 5, 7, 11, 13, 17, 19, 23, 29, 31, 37, 41, 43, 47, 53, 59, 61, 67]\n",
      "[3, 5, 7, 11, 13, 17, 19, 23, 29, 31, 37, 41, 43, 47, 53, 59, 61, 67]\n",
      "[3, 5, 7, 11, 13, 17, 19, 23, 29, 31, 37, 41, 43, 47, 53, 59, 61, 67]\n",
      "[3, 5, 7, 11, 13, 17, 19, 23, 29, 31, 37, 41, 43, 47, 53, 59, 61, 67, 71]\n",
      "[3, 5, 7, 11, 13, 17, 19, 23, 29, 31, 37, 41, 43, 47, 53, 59, 61, 67, 71]\n",
      "[3, 5, 7, 11, 13, 17, 19, 23, 29, 31, 37, 41, 43, 47, 53, 59, 61, 67, 71, 73]\n",
      "[3, 5, 7, 11, 13, 17, 19, 23, 29, 31, 37, 41, 43, 47, 53, 59, 61, 67, 71, 73]\n",
      "[3, 5, 7, 11, 13, 17, 19, 23, 29, 31, 37, 41, 43, 47, 53, 59, 61, 67, 71, 73]\n",
      "[3, 5, 7, 11, 13, 17, 19, 23, 29, 31, 37, 41, 43, 47, 53, 59, 61, 67, 71, 73]\n",
      "[3, 5, 7, 11, 13, 17, 19, 23, 29, 31, 37, 41, 43, 47, 53, 59, 61, 67, 71, 73]\n",
      "[3, 5, 7, 11, 13, 17, 19, 23, 29, 31, 37, 41, 43, 47, 53, 59, 61, 67, 71, 73]\n",
      "[3, 5, 7, 11, 13, 17, 19, 23, 29, 31, 37, 41, 43, 47, 53, 59, 61, 67, 71, 73, 79]\n",
      "[3, 5, 7, 11, 13, 17, 19, 23, 29, 31, 37, 41, 43, 47, 53, 59, 61, 67, 71, 73, 79]\n",
      "[3, 5, 7, 11, 13, 17, 19, 23, 29, 31, 37, 41, 43, 47, 53, 59, 61, 67, 71, 73, 79]\n",
      "[3, 5, 7, 11, 13, 17, 19, 23, 29, 31, 37, 41, 43, 47, 53, 59, 61, 67, 71, 73, 79]\n",
      "[3, 5, 7, 11, 13, 17, 19, 23, 29, 31, 37, 41, 43, 47, 53, 59, 61, 67, 71, 73, 79, 83]\n",
      "[3, 5, 7, 11, 13, 17, 19, 23, 29, 31, 37, 41, 43, 47, 53, 59, 61, 67, 71, 73, 79, 83]\n",
      "[3, 5, 7, 11, 13, 17, 19, 23, 29, 31, 37, 41, 43, 47, 53, 59, 61, 67, 71, 73, 79, 83]\n",
      "[3, 5, 7, 11, 13, 17, 19, 23, 29, 31, 37, 41, 43, 47, 53, 59, 61, 67, 71, 73, 79, 83]\n",
      "[3, 5, 7, 11, 13, 17, 19, 23, 29, 31, 37, 41, 43, 47, 53, 59, 61, 67, 71, 73, 79, 83]\n",
      "[3, 5, 7, 11, 13, 17, 19, 23, 29, 31, 37, 41, 43, 47, 53, 59, 61, 67, 71, 73, 79, 83]\n",
      "[3, 5, 7, 11, 13, 17, 19, 23, 29, 31, 37, 41, 43, 47, 53, 59, 61, 67, 71, 73, 79, 83, 89]\n",
      "[3, 5, 7, 11, 13, 17, 19, 23, 29, 31, 37, 41, 43, 47, 53, 59, 61, 67, 71, 73, 79, 83, 89]\n",
      "[3, 5, 7, 11, 13, 17, 19, 23, 29, 31, 37, 41, 43, 47, 53, 59, 61, 67, 71, 73, 79, 83, 89]\n",
      "[3, 5, 7, 11, 13, 17, 19, 23, 29, 31, 37, 41, 43, 47, 53, 59, 61, 67, 71, 73, 79, 83, 89]\n",
      "[3, 5, 7, 11, 13, 17, 19, 23, 29, 31, 37, 41, 43, 47, 53, 59, 61, 67, 71, 73, 79, 83, 89]\n",
      "[3, 5, 7, 11, 13, 17, 19, 23, 29, 31, 37, 41, 43, 47, 53, 59, 61, 67, 71, 73, 79, 83, 89]\n",
      "[3, 5, 7, 11, 13, 17, 19, 23, 29, 31, 37, 41, 43, 47, 53, 59, 61, 67, 71, 73, 79, 83, 89]\n",
      "[3, 5, 7, 11, 13, 17, 19, 23, 29, 31, 37, 41, 43, 47, 53, 59, 61, 67, 71, 73, 79, 83, 89]\n",
      "[3, 5, 7, 11, 13, 17, 19, 23, 29, 31, 37, 41, 43, 47, 53, 59, 61, 67, 71, 73, 79, 83, 89, 97]\n",
      "[3, 5, 7, 11, 13, 17, 19, 23, 29, 31, 37, 41, 43, 47, 53, 59, 61, 67, 71, 73, 79, 83, 89, 97]\n",
      "[3, 5, 7, 11, 13, 17, 19, 23, 29, 31, 37, 41, 43, 47, 53, 59, 61, 67, 71, 73, 79, 83, 89, 97]\n",
      "[3, 5, 7, 11, 13, 17, 19, 23, 29, 31, 37, 41, 43, 47, 53, 59, 61, 67, 71, 73, 79, 83, 89, 97]\n"
     ]
    }
   ],
   "source": [
    "prime=[]\n",
    "\n",
    "for n in range(3,101):  # 3부터 100까지 자연수한번씩 반복\n",
    "    flag = 1 \n",
    "    for i in range(2,n):  #소수를 검사할 자연수 부분 \n",
    "        if n%i==0:\n",
    "            flag = 0\n",
    "            break  # 가장 가까이 있는 반복문(for, while)을 멈춰준다.!! continue와 차이 비교해보기  \n",
    "    if flag ==1 :\n",
    "        prime.append(n)\n",
    "    print(prime) "
   ]
  }
 ],
 "metadata": {
  "kernelspec": {
   "display_name": "Python 3",
   "language": "python",
   "name": "python3"
  },
  "language_info": {
   "codemirror_mode": {
    "name": "ipython",
    "version": 3
   },
   "file_extension": ".py",
   "mimetype": "text/x-python",
   "name": "python",
   "nbconvert_exporter": "python",
   "pygments_lexer": "ipython3",
   "version": "3.6.5"
  }
 },
 "nbformat": 4,
 "nbformat_minor": 2
}
