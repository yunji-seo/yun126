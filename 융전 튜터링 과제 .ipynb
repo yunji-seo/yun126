{
 "cells": [
  {
   "cell_type": "markdown",
   "metadata": {},
   "source": [
    "1. 남자와 여자를 주민번호를 통해 몇 명 있는지 분류하라\n",
    "2. 가장 많이 쓰는 웹사이트(이메일을 보고 판단)은 무엇인가\n",
    "3. 가장 나이가 많은 사람과 가장 나이가 어린 사람은 몇 살인가\n",
    "4. 잘못된 주민번호가 있다면 찾고 이유를 밝혀라"
   ]
  },
  {
   "cell_type": "code",
   "execution_count": null,
   "metadata": {},
   "outputs": [],
   "source": [
    "m=[]\n",
    "f=[]\n",
    "\n",
    "for i in range(1,20001):\n",
    "    with open('i.txt','r') as f\n",
    "    \n",
    "        "
   ]
  },
  {
   "cell_type": "code",
   "execution_count": null,
   "metadata": {},
   "outputs": [],
   "source": []
  },
  {
   "cell_type": "code",
   "execution_count": null,
   "metadata": {},
   "outputs": [],
   "source": []
  }
 ],
 "metadata": {
  "kernelspec": {
   "display_name": "Python 3",
   "language": "python",
   "name": "python3"
  },
  "language_info": {
   "codemirror_mode": {
    "name": "ipython",
    "version": 3
   },
   "file_extension": ".py",
   "mimetype": "text/x-python",
   "name": "python",
   "nbconvert_exporter": "python",
   "pygments_lexer": "ipython3",
   "version": "3.7.1"
  }
 },
 "nbformat": 4,
 "nbformat_minor": 2
}
