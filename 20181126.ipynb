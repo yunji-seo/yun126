{
 "cells": [
  {
   "cell_type": "markdown",
   "metadata": {},
   "source": [
    "vi mymo.py 파일 열기\n",
    "i를 누르고 쓰고 싶은거 쓰기\n",
    "esc 누르고 :wq 누르고 enter누르면 저장하고 나감\n",
    "\n",
    "\n",
    "##### 파일이 있을경우 vi 누르고 tap누르면 나머지 파일이름 자동으로 써줌 \n",
    "##### python mymy.py 하면 실행되는거\n",
    "\n",
    "모듈은 함수나 클래스를 가지고 있는 파일 외장함수랑 비슷 "
   ]
  },
  {
   "cell_type": "markdown",
   "metadata": {},
   "source": [
    "# vi mymy.py\n",
    "# i \n",
    "# def hap(a,b)\n",
    "#     return a+b\n",
    "# esc\n",
    "# :wq\n",
    "# enter"
   ]
  },
  {
   "cell_type": "code",
   "execution_count": 2,
   "metadata": {},
   "outputs": [],
   "source": [
    "import mymy   #import하고 만든 파일의 이름만 쓴다."
   ]
  },
  {
   "cell_type": "code",
   "execution_count": 3,
   "metadata": {},
   "outputs": [
    {
     "data": {
      "text/plain": [
       "4"
      ]
     },
     "execution_count": 3,
     "metadata": {},
     "output_type": "execute_result"
    }
   ],
   "source": [
    "mymy.hap(1,3)"
   ]
  },
  {
   "cell_type": "code",
   "execution_count": 4,
   "metadata": {},
   "outputs": [
    {
     "data": {
      "text/plain": [
       "-2"
      ]
     },
     "execution_count": 4,
     "metadata": {},
     "output_type": "execute_result"
    }
   ],
   "source": [
    "mymy.cha(1,3)"
   ]
  },
  {
   "cell_type": "code",
   "execution_count": 5,
   "metadata": {},
   "outputs": [],
   "source": [
    "import mymy as mm"
   ]
  },
  {
   "cell_type": "code",
   "execution_count": 6,
   "metadata": {},
   "outputs": [
    {
     "data": {
      "text/plain": [
       "-2"
      ]
     },
     "execution_count": 6,
     "metadata": {},
     "output_type": "execute_result"
    }
   ],
   "source": [
    "mm.cha(1,3)"
   ]
  },
  {
   "cell_type": "code",
   "execution_count": 7,
   "metadata": {},
   "outputs": [],
   "source": [
    "from mymy import hap"
   ]
  },
  {
   "cell_type": "code",
   "execution_count": 8,
   "metadata": {},
   "outputs": [
    {
     "data": {
      "text/plain": [
       "4"
      ]
     },
     "execution_count": 8,
     "metadata": {},
     "output_type": "execute_result"
    }
   ],
   "source": [
    "mymy.hap(1,3)"
   ]
  },
  {
   "cell_type": "code",
   "execution_count": 10,
   "metadata": {},
   "outputs": [
    {
     "data": {
      "text/plain": [
       "4"
      ]
     },
     "execution_count": 10,
     "metadata": {},
     "output_type": "execute_result"
    }
   ],
   "source": [
    "hap(1,3)   #from mymy에서 함수를 불러오면 파일이름 안불러도 함수이름만 써도 된다.\n"
   ]
  },
  {
   "cell_type": "code",
   "execution_count": 12,
   "metadata": {},
   "outputs": [],
   "source": [
    "from mymy import hap,cha\n"
   ]
  },
  {
   "cell_type": "code",
   "execution_count": 13,
   "metadata": {},
   "outputs": [
    {
     "data": {
      "text/plain": [
       "-2"
      ]
     },
     "execution_count": 13,
     "metadata": {},
     "output_type": "execute_result"
    }
   ],
   "source": [
    "cha(1,3)"
   ]
  },
  {
   "cell_type": "markdown",
   "metadata": {},
   "source": [
    "#파일 테스트 하는 방법\n",
    "\n",
    "#if __name__ == \"__main__\" :\n",
    "    print(hap(10,1))\n",
    "    print(cha(10,1))\n",
    "__name__은 파이썬에서 사용하고 있는 변수 \n",
    "\n",
    "터미널에서 실행시킬때는 name이라는 변수가 main으로 정의되지만\n",
    "그 외의 다른 파일이나 프로그램에서 실행시킬때는 name이라는 변수는 \n",
    "그 파일 이름이 되어서 if조건을 만족하지 못하게 된다. \n",
    "따라서 파일을 실행시켜도 이름만 뜨고 if문은 만족하지 못한다. \n",
    "터미널에서 파일이 잘 만들어 졌는지 확인하려는 코드 \n",
    "윈도우에서는 atom이라는 개발자 에디터라는 프로그램다운받기"
   ]
  },
  {
   "cell_type": "code",
   "execution_count": 1,
   "metadata": {},
   "outputs": [
    {
     "name": "stdout",
     "output_type": "stream",
     "text": [
      "mymy\n"
     ]
    }
   ],
   "source": [
    "import mymy"
   ]
  },
  {
   "cell_type": "code",
   "execution_count": 2,
   "metadata": {},
   "outputs": [],
   "source": [
    "#모듈파일을 직접 파이썬으로 실행시켰으면 name 이 main을 가리키지만\n",
    "#남의 파일이나 대화형 인터프레터에서 실행시키면 name이 자기파일 이름이 된다."
   ]
  },
  {
   "cell_type": "code",
   "execution_count": 4,
   "metadata": {},
   "outputs": [],
   "source": [
    "#어떻게 하면 내가 외장함수처럼 마음대로 꺼내서 할 수 있을까?\n"
   ]
  },
  {
   "cell_type": "code",
   "execution_count": 5,
   "metadata": {},
   "outputs": [],
   "source": [
    "import sys"
   ]
  },
  {
   "cell_type": "code",
   "execution_count": 7,
   "metadata": {},
   "outputs": [
    {
     "data": {
      "text/plain": [
       "['',\n",
       " '/home/bios/anaconda3/lib/python36.zip',\n",
       " '/home/bios/anaconda3/lib/python3.6',\n",
       " '/home/bios/anaconda3/lib/python3.6/lib-dynload',\n",
       " '/home/bios/anaconda3/lib/python3.6/site-packages',\n",
       " '/home/bios/anaconda3/lib/python3.6/site-packages/IPython/extensions',\n",
       " '/home/bios/.ipython']"
      ]
     },
     "execution_count": 7,
     "metadata": {},
     "output_type": "execute_result"
    }
   ],
   "source": [
    "sys.path  #파이썬 함수 참조 목록????"
   ]
  },
  {
   "cell_type": "code",
   "execution_count": 8,
   "metadata": {},
   "outputs": [],
   "source": [
    "#sys.path.append(파일이름)"
   ]
  },
  {
   "cell_type": "markdown",
   "metadata": {},
   "source": [
    "함수 : 코드 묶음\n",
    "클래스 : 함수 묶음 (클래스 내 함수는 method라 한다.)\n",
    "모듈 : 클래스 함수등 모음\n",
    "패키지 : 모듈모음 \n",
    "(우리가 사용하는 random,등을 패키지라고 한다.)"
   ]
  },
  {
   "cell_type": "code",
   "execution_count": 9,
   "metadata": {},
   "outputs": [],
   "source": [
    "#그래프를 그려주는 파이썬 모듈"
   ]
  },
  {
   "cell_type": "code",
   "execution_count": 12,
   "metadata": {},
   "outputs": [],
   "source": [
    "import matplotlib.pylab as plt #저 모듈을 별명plt로 부르겟다 파이썬 그래프 표준"
   ]
  },
  {
   "cell_type": "code",
   "execution_count": 17,
   "metadata": {},
   "outputs": [
    {
     "data": {
      "image/png": "[encoded data removed]",
      "text/plain": [
       "<Figure size 432x288 with 1 Axes>"
      ]
     },
     "metadata": {},
     "output_type": "display_data"
    }
   ],
   "source": [
    "%matplotlib inline  \n",
    "#주피터에서만 필요한 코드 매직 명령어 그림을 띄워달라는 요청 명령어 코드 구글에 matplotlib쳐서 더검색\n",
    "#python seaborn 더 섬세한 그래프 그릴 수 있음!! pandas 도!\n",
    "plt.title('test')\n",
    "plt.plot([10,20,30,40],[1,4,9,16])\n",
    "plt.show()"
   ]
  },
  {
   "cell_type": "code",
   "execution_count": 18,
   "metadata": {},
   "outputs": [],
   "source": [
    "import pandas as pd #그냥 파이썬에서는 안나오고 아나콘다에서는 나옴 엑셀파일을 다루는 패키지임!"
   ]
  },
  {
   "cell_type": "code",
   "execution_count": 22,
   "metadata": {},
   "outputs": [],
   "source": [
    "data = {'name':['popo','poter','ron','momo'], 'loacation':['newyork','parias','roma','seoul'],\n",
    "       'Age':[12,26,8,45]}\n",
    "data_panda = pd.DataFrame(data) #DataFrame 은 판다스 안의 클래스이당"
   ]
  },
  {
   "cell_type": "code",
   "execution_count": 23,
   "metadata": {},
   "outputs": [
    {
     "data": {
      "text/html": [
       "<div>\n",
       "<style scoped>\n",
       "    .dataframe tbody tr th:only-of-type {\n",
       "        vertical-align: middle;\n",
       "    }\n",
       "\n",
       "    .dataframe tbody tr th {\n",
       "        vertical-align: top;\n",
       "    }\n",
       "\n",
       "    .dataframe thead th {\n",
       "        text-align: right;\n",
       "    }\n",
       "</style>\n",
       "<table border=\"1\" class=\"dataframe\">\n",
       "  <thead>\n",
       "    <tr style=\"text-align: right;\">\n",
       "      <th></th>\n",
       "      <th>name</th>\n",
       "      <th>loacation</th>\n",
       "      <th>Age</th>\n",
       "    </tr>\n",
       "  </thead>\n",
       "  <tbody>\n",
       "    <tr>\n",
       "      <th>0</th>\n",
       "      <td>popo</td>\n",
       "      <td>newyork</td>\n",
       "      <td>12</td>\n",
       "    </tr>\n",
       "    <tr>\n",
       "      <th>1</th>\n",
       "      <td>poter</td>\n",
       "      <td>parias</td>\n",
       "      <td>26</td>\n",
       "    </tr>\n",
       "    <tr>\n",
       "      <th>2</th>\n",
       "      <td>ron</td>\n",
       "      <td>roma</td>\n",
       "      <td>8</td>\n",
       "    </tr>\n",
       "    <tr>\n",
       "      <th>3</th>\n",
       "      <td>momo</td>\n",
       "      <td>seoul</td>\n",
       "      <td>45</td>\n",
       "    </tr>\n",
       "  </tbody>\n",
       "</table>\n",
       "</div>"
      ],
      "text/plain": [
       "    name loacation  Age\n",
       "0   popo   newyork   12\n",
       "1  poter    parias   26\n",
       "2    ron      roma    8\n",
       "3   momo     seoul   45"
      ]
     },
     "execution_count": 23,
     "metadata": {},
     "output_type": "execute_result"
    }
   ],
   "source": [
    "data_panda"
   ]
  },
  {
   "cell_type": "code",
   "execution_count": 24,
   "metadata": {},
   "outputs": [
    {
     "data": {
      "text/html": [
       "<div>\n",
       "<style scoped>\n",
       "    .dataframe tbody tr th:only-of-type {\n",
       "        vertical-align: middle;\n",
       "    }\n",
       "\n",
       "    .dataframe tbody tr th {\n",
       "        vertical-align: top;\n",
       "    }\n",
       "\n",
       "    .dataframe thead th {\n",
       "        text-align: right;\n",
       "    }\n",
       "</style>\n",
       "<table border=\"1\" class=\"dataframe\">\n",
       "  <thead>\n",
       "    <tr style=\"text-align: right;\">\n",
       "      <th></th>\n",
       "      <th>name</th>\n",
       "      <th>loacation</th>\n",
       "      <th>Age</th>\n",
       "    </tr>\n",
       "  </thead>\n",
       "  <tbody>\n",
       "    <tr>\n",
       "      <th>3</th>\n",
       "      <td>momo</td>\n",
       "      <td>seoul</td>\n",
       "      <td>45</td>\n",
       "    </tr>\n",
       "  </tbody>\n",
       "</table>\n",
       "</div>"
      ],
      "text/plain": [
       "   name loacation  Age\n",
       "3  momo     seoul   45"
      ]
     },
     "execution_count": 24,
     "metadata": {},
     "output_type": "execute_result"
    }
   ],
   "source": [
    "data_panda[data_panda.Age>30]"
   ]
  },
  {
   "cell_type": "code",
   "execution_count": 26,
   "metadata": {},
   "outputs": [],
   "source": [
    "#아나콘다에 없는 건 다운받으면 된당!! 피피티 참조 #치즈샵\n",
    "\n",
    "\n",
    "#터미널에 $ pip install SomePackage  #패키지 설치 명령어 이렇게 치고 쓰면 된다 pip 에 업로드 하는법 검색해보깅"
   ]
  },
  {
   "cell_type": "code",
   "execution_count": null,
   "metadata": {},
   "outputs": [],
   "source": [
    "스마트 캠퍼스에서 report.txt 파일을 다운로드 후\n",
    "\n",
    "아래의 문제를 해결하시오\n",
    "\n",
    "1. 파일의 내용을 출력해보기\n",
    "2. 여학생, 남학생의 수는 각각 몇 명인가?\n",
    "3. 3학년 학생의 중간고사 평균 점수는?\n",
    "4. 남자이면서, 2학년인 학생의 이름은?"
   ]
  },
  {
   "cell_type": "code",
   "execution_count": null,
   "metadata": {},
   "outputs": [],
   "source": []
  },
  {
   "cell_type": "code",
   "execution_count": 5,
   "metadata": {
    "scrolled": false
   },
   "outputs": [
    {
     "name": "stdout",
     "output_type": "stream",
     "text": [
      "N G S mid final\n",
      "\n",
      "pony 1 F 80 96\n",
      "\n",
      "kong 1 F 35 45\n",
      "\n",
      "popo 3 M 21 87\n",
      "\n",
      "totoro 4 M 89 100\n",
      "\n",
      "popo 2 F 42 31\n",
      "\n",
      "momo 2 M 100 97\n",
      "\n",
      "nimo 3 F 34 75\n",
      "\n",
      "pororo 1 F 25 29\n",
      "\n",
      "pupu 2 M 87 90\n",
      "\n",
      "king 3 M 60 65\n",
      "\n"
     ]
    }
   ],
   "source": [
    "f = open('report.txt','r')\n",
    "for i in f : \n",
    "    print(i)\n",
    "#N은 이름 G는 학년 S는 성별 mid 중간고사 final 기말고사"
   ]
  },
  {
   "cell_type": "code",
   "execution_count": 11,
   "metadata": {},
   "outputs": [
    {
     "name": "stdout",
     "output_type": "stream",
     "text": [
      "5\n",
      "5\n"
     ]
    }
   ],
   "source": [
    "#2번문제\n",
    "f = open('report.txt','r')\n",
    "f.readline()\n",
    "fe = 0\n",
    "m = 0\n",
    "for i in f :\n",
    "    #print(i.split()[2])\n",
    "    info = i.split()[2]\n",
    "    if info == 'F' :\n",
    "        fe=fe+1\n",
    "    elif info == 'M' :\n",
    "        m = m+1\n",
    "print(fe)\n",
    "print(m)"
   ]
  },
  {
   "cell_type": "code",
   "execution_count": 17,
   "metadata": {},
   "outputs": [
    {
     "name": "stdout",
     "output_type": "stream",
     "text": [
      "38.333333333333336\n"
     ]
    }
   ],
   "source": [
    "f = open('report.txt','r')\n",
    "f.readline()\n",
    "g3 = []\n",
    "allg = 0\n",
    "for i in f :\n",
    "    if i.split()[1] == '3':\n",
    "        g3.append(i)\n",
    "        allg = allg + int(i.split()[-2])\n",
    "\n",
    "print(allg/len(g3))"
   ]
  },
  {
   "cell_type": "code",
   "execution_count": 19,
   "metadata": {},
   "outputs": [
    {
     "name": "stdout",
     "output_type": "stream",
     "text": [
      "['momo', 'pupu']\n"
     ]
    }
   ],
   "source": [
    "f = open('report.txt','r')\n",
    "f.readline()\n",
    "chl = []\n",
    "for i in f :\n",
    "     if i.split()[1] == '2' and i.split()[2] == 'M':\n",
    "            chl.append(i.split()[0])\n",
    "            \n",
    "print(chl)"
   ]
  },
  {
   "cell_type": "code",
   "execution_count": null,
   "metadata": {},
   "outputs": [],
   "source": []
  },
  {
   "cell_type": "code",
   "execution_count": null,
   "metadata": {},
   "outputs": [],
   "source": []
  },
  {
   "cell_type": "code",
   "execution_count": null,
   "metadata": {},
   "outputs": [],
   "source": []
  },
  {
   "cell_type": "code",
   "execution_count": null,
   "metadata": {},
   "outputs": [],
   "source": []
  },
  {
   "cell_type": "code",
   "execution_count": null,
   "metadata": {},
   "outputs": [],
   "source": []
  }
 ],
 "metadata": {
  "kernelspec": {
   "display_name": "Python 3",
   "language": "python",
   "name": "python3"
  },
  "language_info": {
   "codemirror_mode": {
    "name": "ipython",
    "version": 3
   },
   "file_extension": ".py",
   "mimetype": "text/x-python",
   "name": "python",
   "nbconvert_exporter": "python",
   "pygments_lexer": "ipython3",
   "version": "3.6.5"
  }
 },
 "nbformat": 4,
 "nbformat_minor": 2
}
