{
 "cells": [
  {
   "cell_type": "code",
   "execution_count": 4,
   "metadata": {},
   "outputs": [
    {
     "data": {
      "text/plain": [
       "['* Soong company works info *\\n',\n",
       " 'Employee Position Address Pay Duty Age\\n',\n",
       " 'Momo Officer Seoul 230 engineer 30\\n',\n",
       " 'Nari Officer Seoul 232 engineer 27\\n',\n",
       " 'Nero Assistant Suwon 320 engineer 35\\n',\n",
       " 'Pony Supervisor Suwon 423 admin 48\\n',\n",
       " 'Moni Supervisor Yongin 445 marketing 42\\n',\n",
       " 'Pori Assistant Yongin 365 admin 32\\n',\n",
       " 'Ruru Officer Busan 267 marketing 29\\n',\n",
       " 'Tori Assistant Suwon 389 admin 26\\n',\n",
       " 'Ramo Officer Daejeon 210 admin 26 \\n',\n",
       " 'Doti Assistant Seoul 346 marketing 23\\n',\n",
       " 'Yona Supervisor Daejeon 420 engineer 39\\n',\n",
       " 'Nimo Officer Busan 278 marketing 31\\n',\n",
       " 'Sandro Officer Seoul 237 engineer 32\\n',\n",
       " 'Merry Assistant Daejeon 341 admin 27\\n',\n",
       " 'Jacob Supervisor Seoul 465 engineer 49\\n',\n",
       " 'Bella Officer Seoul 200 admin 40\\n',\n",
       " 'Lilly Supervisor Daejeon 430 engineer 52\\n',\n",
       " 'Ruby Officer Seoul 220 admin 34\\n',\n",
       " 'Daisy Supervisor Suwon 490 engineer 47\\n',\n",
       " 'Jade Supervisor Daejeon 441 marketing 44\\n',\n",
       " 'Evelyn Officer Daejeon 240 admin 25\\n',\n",
       " 'Chloe Officer Busan 235 marketing 56\\n',\n",
       " 'Arden Assistant Seoul 370 engineer 23\\n',\n",
       " 'Hazel Officer Yongin 263 admin 38\\n',\n",
       " 'Daphne Assistant Seoul 368 engineer 29\\n',\n",
       " 'Rowan Officer Yongin 258 admin 30\\n',\n",
       " 'Olivia Assistant Suwon 340 engineer 32\\n',\n",
       " 'Alex Supervisor Seoul 478 marketing 43']"
      ]
     },
     "execution_count": 4,
     "metadata": {},
     "output_type": "execute_result"
    }
   ],
   "source": [
    "f = open('company_info.txt','r')\n",
    "f.readlines()"
   ]
  },
  {
   "cell_type": "code",
   "execution_count": 7,
   "metadata": {},
   "outputs": [
    {
     "name": "stdout",
     "output_type": "stream",
     "text": [
      "['Pori', 'Tori', 'Merry']\n"
     ]
    }
   ],
   "source": [
    "#1-1\n",
    "\n",
    "f = open('company_info.txt','r')\n",
    "f.readline()\n",
    "name = []\n",
    "for i in f : \n",
    "    if i.split()[4] == 'admin' and i.split()[1]=='Assistant' :\n",
    "        k = i.split()[0]\n",
    "        name.append(k)\n",
    "print(name)"
   ]
  },
  {
   "cell_type": "code",
   "execution_count": 8,
   "metadata": {},
   "outputs": [
    {
     "name": "stdout",
     "output_type": "stream",
     "text": [
      "354.72727272727275\n"
     ]
    }
   ],
   "source": [
    "#1-2\n",
    "\n",
    "f = open('company_info.txt','r')\n",
    "f.readline()\n",
    "pay = 0\n",
    "count = 0\n",
    "for i in f : \n",
    "    if i.split()[4] == 'engineer' : \n",
    "        pay = pay + int(i.split()[3])\n",
    "        count = count + 1\n",
    "print(pay/count)"
   ]
  },
  {
   "cell_type": "code",
   "execution_count": 43,
   "metadata": {},
   "outputs": [],
   "source": [
    "#1-3\n",
    "\n",
    "f = open('company_info.txt','r')\n",
    "f.readline()\n",
    "f.readline()\n",
    "fw = open('new_list.txt','w')\n",
    "\n",
    "for i in f : \n",
    "    if int(i.split()[5]) >= 40 : \n",
    "        pay = str( int(i.split()[3]) + 300 )\n",
    "        employee = i.split()[0]\n",
    "        duty = i.split()[4] \n",
    "        fw.write(employee+'_')\n",
    "        fw.write(duty+'_')\n",
    "        fw.write(pay + '\\n')"
   ]
  },
  {
   "cell_type": "code",
   "execution_count": 45,
   "metadata": {},
   "outputs": [
    {
     "name": "stdout",
     "output_type": "stream",
     "text": [
      "Pony_admin_723\n",
      "\n",
      "Moni_marketing_745\n",
      "\n",
      "Jacob_engineer_765\n",
      "\n",
      "Bella_admin_500\n",
      "\n",
      "Lilly_engineer_730\n",
      "\n",
      "Daisy_engineer_790\n",
      "\n",
      "Jade_marketing_741\n",
      "\n",
      "Chloe_marketing_535\n",
      "\n",
      "Alex_marketing_778\n",
      "\n"
     ]
    }
   ],
   "source": [
    "ff = open('new_list.txt','r')\n",
    "for i in ff : \n",
    "    print(i)"
   ]
  },
  {
   "cell_type": "code",
   "execution_count": 104,
   "metadata": {},
   "outputs": [],
   "source": [
    "#2\n",
    "\n",
    "def solution(arr,divisor) : \n",
    "    answer = []\n",
    "    for i in arr :\n",
    "        if i % divisor == 0 : \n",
    "            answer.append(i)\n",
    "            answer.sort()\n",
    "        if answer == [] : \n",
    "            answer.append(-1)\n",
    "    return answer"
   ]
  },
  {
   "cell_type": "code",
   "execution_count": 107,
   "metadata": {},
   "outputs": [
    {
     "data": {
      "text/plain": [
       "[1, 2, 3, 36]"
      ]
     },
     "execution_count": 107,
     "metadata": {},
     "output_type": "execute_result"
    }
   ],
   "source": [
    "solution([2,36,1,3],1)"
   ]
  }
 ],
 "metadata": {
  "kernelspec": {
   "display_name": "Python 3",
   "language": "python",
   "name": "python3"
  },
  "language_info": {
   "codemirror_mode": {
    "name": "ipython",
    "version": 3
   },
   "file_extension": ".py",
   "mimetype": "text/x-python",
   "name": "python",
   "nbconvert_exporter": "python",
   "pygments_lexer": "ipython3",
   "version": "3.6.5"
  }
 },
 "nbformat": 4,
 "nbformat_minor": 2
}
