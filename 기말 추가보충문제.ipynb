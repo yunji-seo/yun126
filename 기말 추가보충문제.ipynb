{
 "cells": [
  {
   "cell_type": "markdown",
   "metadata": {},
   "source": [
    "1. 함수 'A'는 두 자연수를 입력 받아 더한 후 return한다. 함수 B는 두 자연수를 받아 더한 후 100을 곱해 return한다. 이때, 함수 B에서 더하기 연산은 함수 A를 사용한다. "
   ]
  },
  {
   "cell_type": "code",
   "execution_count": 2,
   "metadata": {},
   "outputs": [],
   "source": [
    "def A(a,b):\n",
    "    return a+b\n",
    "\n",
    "def B(a,b):\n",
    "    return A(a,b)*100\n"
   ]
  },
  {
   "cell_type": "code",
   "execution_count": 3,
   "metadata": {},
   "outputs": [
    {
     "name": "stdout",
     "output_type": "stream",
     "text": [
      "15\n",
      "1500\n"
     ]
    }
   ],
   "source": [
    "print(A(9,6))\n",
    "print(B(9,6))"
   ]
  },
  {
   "cell_type": "markdown",
   "metadata": {},
   "source": [
    "2. 함수 내에서 return과 print의 차이점은 무엇인가?\n",
    "함수에 return이 없다는 것은 무엇을 의미 하는가?"
   ]
  },
  {
   "cell_type": "code",
   "execution_count": null,
   "metadata": {},
   "outputs": [],
   "source": [
    "2. 함수에 리턴이 없다는 것은 그냥 출력만 한다는 것이다. 그 값이 변수에 저장이 되지 않는다."
   ]
  },
  {
   "cell_type": "markdown",
   "metadata": {},
   "source": [
    "< 파일 입출력 >\n",
    "1.3학년 중 중간고사 점수가 30점 이상인 여학생의 이름을 출력하는 코드를 작성하시오.\n",
    "2.2학년 중 기말고사 점수가 50점 이상인 남학생의 이름을 'out.txt'파일에 쓰는 코드를 작성하시오. \n",
    "3.학생의 이름을 입력하면 해당 학생의 중간고사점수와 기말고사점수를 return하는 함수를 작성하시오. "
   ]
  },
  {
   "cell_type": "code",
   "execution_count": 5,
   "metadata": {},
   "outputs": [
    {
     "name": "stdout",
     "output_type": "stream",
     "text": [
      "N G S mid final\n",
      "\n",
      "pony 1 F 80 96\n",
      "\n",
      "kong 1 F 35 45\n",
      "\n",
      "popo 3 M 21 87\n",
      "\n",
      "totoro 4 M 89 100\n",
      "\n",
      "popo 2 F 42 31\n",
      "\n",
      "momo 2 M 100 97\n",
      "\n",
      "nimo 3 F 34 75\n",
      "\n",
      "pororo 1 F 25 29\n",
      "\n",
      "pupu 2 M 87 90\n",
      "\n",
      "king 3 M 60 65\n",
      "\n"
     ]
    }
   ],
   "source": [
    "f = open('report.txt','r')\n",
    "for i in f : \n",
    "    print(i)"
   ]
  },
  {
   "cell_type": "code",
   "execution_count": 8,
   "metadata": {},
   "outputs": [
    {
     "name": "stdout",
     "output_type": "stream",
     "text": [
      "['nimo']\n"
     ]
    }
   ],
   "source": [
    "#1\n",
    "f = open('report.txt','r')\n",
    "f.readline()\n",
    "f330 = []\n",
    "for i in f:\n",
    "    if i.split()[1]=='3' and int(i.split()[3])>=30 and i.split()[2]=='F' :\n",
    "        f330.append(i.split()[0])\n",
    "print(f330)\n",
    "    "
   ]
  },
  {
   "cell_type": "code",
   "execution_count": 26,
   "metadata": {},
   "outputs": [
    {
     "name": "stdout",
     "output_type": "stream",
     "text": [
      "momo\n",
      "\n",
      "pupu\n",
      "\n"
     ]
    }
   ],
   "source": [
    "#2\n",
    "f = open('report.txt','r')\n",
    "f.readline()\n",
    "ff = open('out.txt','w')\n",
    "for i in f:\n",
    "    if i.split()[1]=='2' and int(i.split()[4])>=50 and i.split()[2]=='M' :\n",
    "        ff.write(i.split()[0]+'\\n')  #.write는 하나의 문자만 입력할수 있으므로 두 문자를 더해야함 (줄바꿈표시) 숫자일경우 문자로 바꿔서 넣어야함\n",
    "ff.close()\n",
    "ff = open('out.txt','r')        \n",
    "for i in ff:\n",
    "    print(i)"
   ]
  },
  {
   "cell_type": "code",
   "execution_count": 32,
   "metadata": {},
   "outputs": [
    {
     "name": "stdout",
     "output_type": "stream",
     "text": [
      "학생의 이름을 입력하시오.:popo\n",
      "['m:21&f:87', 'm:42&f:31']\n"
     ]
    }
   ],
   "source": [
    "#3\n",
    "def findstud(sn):\n",
    "    f = open('report.txt','r')\n",
    "    mf=[]\n",
    "    for i in f:\n",
    "        if sn == i.split()[0]:\n",
    "            mf.append('m:'+i.split()[3]+'&' + 'f:'+i.split()[4])\n",
    "    return mf\n",
    "        \n",
    "sn = input('학생의 이름을 입력하시오.:')\n",
    "print(findstud(sn))"
   ]
  },
  {
   "cell_type": "markdown",
   "metadata": {},
   "source": [
    "<알고리즘_함수로 작성>\n",
    "1. K번째 수 \n",
    "문제 설명\n",
    "배열 array의 i번째 숫자부터 j번째 숫자까지 자르고 정렬했을 때, k번째에 있는 수를 구하려 합니다. \n",
    "\n",
    "예를 들어 array가 [1, 5, 2, 6, 3, 7, 4], i = 2, j = 5, k = 3이라면\n",
    "1. array의 2번째부터 5번째까지 자르면 [5, 2, 6, 3]입니다.\n",
    "2. 1에서 나온 배열을 정렬하면 [2, 3, 5, 6]입니다.\n",
    "3. 2에서 나온 배열의 3번째 숫자는 5입니다.\n",
    "\n",
    "배열 array, [i, j, k]를 원소로 가진 2차원 배열 commands가 매개변수로 주어질 때, commands의 모든 원소에 대해 앞서 설명한 연산을 적용했을 때 나온 결과를 배열에 담아 return 하도록 solution 함수를 작성해주세요.\n",
    "\n",
    "제한사항\n",
    "commands의 각 원소는 길이가 3입니다.\n",
    "\n",
    "입출력 예\n",
    "\n",
    "array\t                \n",
    "[1, 5, 2, 6, 3, 7, 4]\n",
    "\n",
    "commands\t                       \n",
    "[[2, 5, 3], [4, 4, 1], [1, 7, 3]]\n",
    "\n",
    "return\n",
    "[5, 6, 3]\n",
    "\n",
    "입출력 예 설명\n",
    "\n",
    "[1, 5, 2, 6, 3, 7, 4]를 2번째부터 5번째까지 자른 후 정렬합니다. [2, 3, 5, 6]의 세 번째 숫자는 5입니다.\n",
    "\n",
    "[1, 5, 2, 6, 3, 7, 4]를 4번째부터 4번째까지 자른 후 정렬합니다. [6]의 첫 번째 숫자는 6입니다.\n",
    "\n",
    "[1, 5, 2, 6, 3, 7, 4]를 1번째부터 7번째까지 자릅니다. [1, 2, 3, 4, 5, 6, 7]의 세 번째 숫자는 3입니다.\n",
    "\n",
    "def solution(array, commands):\n",
    "\n",
    "      return answer\n",
    "\n"
   ]
  },
  {
   "cell_type": "code",
   "execution_count": 34,
   "metadata": {},
   "outputs": [],
   "source": [
    "array = [1, 5, 2, 6, 3, 7, 4]\n",
    "commands = [[2, 5, 3], [4, 4, 1], [1, 7, 3]]\n",
    "\n",
    "def solution(array, commands):\n",
    "    answer=[]\n",
    "    for i in commands :\n",
    "        cur = array[i[0]-1 : i[1]] #2~5까지 가져옴 i[0]은 커멘드가 0부터 센수가 아니라 1부터 센것이기 때문에 파이썬은 0부터니까 1을 뺌\n",
    "        cur.sort()\n",
    "        answer.append(cur[i[2]-1]) #cur의 2번째값 (k번째 값)\n",
    "    return answer\n",
    "    "
   ]
  },
  {
   "cell_type": "markdown",
   "metadata": {},
   "source": [
    "2. 콜라츠 추측\n",
    "\n",
    "문제 설명\n",
    "\n",
    "1937년 Collatz란 사람에 의해 제기된 이 추측은, 주어진 수가 1이 될때까지 다음 작업을 반복하면, 모든 수를 1로 만들 수 있다는 추측입니다. 작업은 다음과 같습니다.\n",
    "\n",
    "1-1. 입력된 수가 짝수라면 2로 나눕니다. \n",
    "\n",
    "1-2. 입력된 수가 홀수라면 3을 곱하고 1을 더합니다.\n",
    "\n",
    "2. 결과로 나온 수에 같은 작업을 1이 될 때까지 반복합니다.\n",
    "\n",
    "예를 들어, 입력된 수가 6이라면 6→3→10→5→16→8→4→2→1 이 되어 총 8번 만에 1이 됩니다. 위 작업을 몇 번이나 반복해야하는지 반환하는 함수, solution을 완성해 주세요. 단, 작업을 500번을 반복해도 1이 되지 않는다면 –1을 반환해 주세요.\n",
    "\n",
    "입출력 예\n",
    "\n",
    "n\t      result\n",
    "\n",
    "6\t         8\n",
    "\n",
    "16\t         4\n",
    "\n",
    "626331 \t-1\n",
    "\n",
    "입출력 예 설명\n",
    "\n",
    "입출력 예 #1\n",
    "\n",
    "문제의 설명과 같습니다.\n",
    "\n",
    "입출력 예 #2\n",
    "\n",
    "16 -> 8 -> 4 -> 2 -> 1 이 되어 총 4번만에 1이 됩니다.\n",
    "\n",
    "입출력 예 #3\n",
    "\n",
    "626331은 500번을 시도해도 1이 되지 못하므로 -1을 리턴해야합니다.\n",
    "\n",
    "def solution(num):\n",
    "\n",
    "     return answer\n"
   ]
  },
  {
   "cell_type": "code",
   "execution_count": null,
   "metadata": {},
   "outputs": [],
   "source": [
    "#num = input('숫자를 입력해주세요:')\n",
    "\n",
    "def solution(num):\n",
    "   "
   ]
  },
  {
   "cell_type": "code",
   "execution_count": null,
   "metadata": {},
   "outputs": [],
   "source": []
  },
  {
   "cell_type": "code",
   "execution_count": null,
   "metadata": {},
   "outputs": [],
   "source": []
  },
  {
   "cell_type": "code",
   "execution_count": null,
   "metadata": {},
   "outputs": [],
   "source": []
  },
  {
   "cell_type": "code",
   "execution_count": null,
   "metadata": {},
   "outputs": [],
   "source": []
  },
  {
   "cell_type": "code",
   "execution_count": null,
   "metadata": {},
   "outputs": [],
   "source": []
  },
  {
   "cell_type": "code",
   "execution_count": null,
   "metadata": {},
   "outputs": [],
   "source": []
  },
  {
   "cell_type": "code",
   "execution_count": null,
   "metadata": {},
   "outputs": [],
   "source": []
  },
  {
   "cell_type": "code",
   "execution_count": 36,
   "metadata": {},
   "outputs": [],
   "source": [
    "def solution(num):\n",
    "    answer = 0\n",
    "    while num != 1 :\n",
    "        if num % 2 == 0: #짝수\n",
    "            num = num/2\n",
    "            answer = answer + 1\n",
    "        else : #홀수\n",
    "            num = num*3+1\n",
    "            answer=answer+1\n",
    "        if answer > 500 :\n",
    "            return -1\n",
    "    return answer #몇번 반복해서 1이 되었는지 횟수를 리턴"
   ]
  },
  {
   "cell_type": "code",
   "execution_count": 38,
   "metadata": {},
   "outputs": [
    {
     "data": {
      "text/plain": [
       "19"
      ]
     },
     "execution_count": 38,
     "metadata": {},
     "output_type": "execute_result"
    }
   ],
   "source": [
    "solution(9)\n"
   ]
  },
  {
   "cell_type": "code",
   "execution_count": 40,
   "metadata": {},
   "outputs": [
    {
     "data": {
      "text/plain": [
       "-1"
      ]
     },
     "execution_count": 40,
     "metadata": {},
     "output_type": "execute_result"
    }
   ],
   "source": [
    "solution(95687498789)"
   ]
  },
  {
   "cell_type": "code",
   "execution_count": null,
   "metadata": {},
   "outputs": [],
   "source": []
  },
  {
   "cell_type": "code",
   "execution_count": null,
   "metadata": {},
   "outputs": [],
   "source": []
  },
  {
   "cell_type": "code",
   "execution_count": null,
   "metadata": {},
   "outputs": [],
   "source": []
  }
 ],
 "metadata": {
  "kernelspec": {
   "display_name": "Python 3",
   "language": "python",
   "name": "python3"
  },
  "language_info": {
   "codemirror_mode": {
    "name": "ipython",
    "version": 3
   },
   "file_extension": ".py",
   "mimetype": "text/x-python",
   "name": "python",
   "nbconvert_exporter": "python",
   "pygments_lexer": "ipython3",
   "version": "3.6.5"
  }
 },
 "nbformat": 4,
 "nbformat_minor": 2
}
