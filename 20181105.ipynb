{
 "cells": [
  {
   "cell_type": "code",
   "execution_count": 10,
   "metadata": {},
   "outputs": [
    {
     "name": "stdout",
     "output_type": "stream",
     "text": [
      "['C', 'C', 'Cl', 'Cl', 'F', 'F', 'F', 'H']\n"
     ]
    }
   ],
   "source": [
    "f = open('one_mol.sdf','r')\n",
    "mole = f.readlines()\n",
    "#print(mole)\n",
    "#print(type(mole))\n",
    "#print(len(mole))\n",
    "n_atom = mole[3].split()[0]\n",
    "#print(n_atom)\n",
    "atom_info = mole[4:4+int(n_atom)]\n",
    "#print(atom_info)\n",
    "atom_box=[]\n",
    "for i in atom_info:\n",
    "    line = i.split()\n",
    "    #print(line)\n",
    "    #print(line[3]) \n",
    "    atom = line[3]\n",
    "    atom_box.append(atom)\n",
    "\n",
    "\n",
    "\n",
    "print(atom_box)"
   ]
  },
  {
   "cell_type": "code",
   "execution_count": 7,
   "metadata": {},
   "outputs": [
    {
     "name": "stdout",
     "output_type": "stream",
     "text": [
      "152\n"
     ]
    }
   ],
   "source": [
    "aw_dic = {'H':1, 'C':12, 'F':19, 'Cl':35, 'N':14, 'Br':80}\n",
    "mw = 0\n",
    "for i in atom_box : \n",
    "    mw=mw+aw_dic[i]\n",
    "    \n",
    "print(mw)\n"
   ]
  },
  {
   "cell_type": "code",
   "execution_count": 8,
   "metadata": {},
   "outputs": [
    {
     "name": "stdout",
     "output_type": "stream",
     "text": [
      "10\n"
     ]
    }
   ],
   "source": [
    "f = open('mols.sdf','r')\n",
    "count = 0\n",
    "for line in f :\n",
    "    if \"$$$$\" in line :\n",
    "        count = count +1\n",
    "print(count)"
   ]
  },
  {
   "cell_type": "code",
   "execution_count": 16,
   "metadata": {},
   "outputs": [
    {
     "name": "stdout",
     "output_type": "stream",
     "text": [
      "[161, 191, 180, 100, 150, 260, 198, 197, 232, 152]\n"
     ]
    }
   ],
   "source": [
    "f = open('mols.sdf','r')\n",
    "aw_dic = {'H' : 1, 'C' : 12, 'F' : 19, 'Cl' : 35, 'N' : 14, 'Br' : 80 ,'O' : 16}\n",
    "mw_box = []  #각 분자의 분자량 넣어주기\n",
    "\n",
    "one_mol = []  # 분자 하나씩 담아서 처리\n",
    "atom_box=[]  # 분자 하나의 원자만 담기\n",
    "mw = 0\n",
    "\n",
    "for line in f :\n",
    "    one_mol.append(line)\n",
    "    if '$$$$' in line :\n",
    "        #print(one_mol)\n",
    "        an = one_mol[3].split()[0]\n",
    "        atom_info = one_mol[4:4+int(an)]\n",
    "        for a in atom_info :\n",
    "            atom_box.append(a.split()[3])\n",
    "            \n",
    "        for atom in atom_box :\n",
    "            aw = aw_dic[atom]\n",
    "            mw = mw+aw\n",
    "\n",
    "        mw_box.append(mw)\n",
    "        one_mol = []  # 다시 새로 세팅해서 구해야 새로운 분자량 구할수 있당\n",
    "        atom_box=[]  \n",
    "        mw = 0\n",
    "        \n",
    "print(mw_box)\n",
    "\n"
   ]
  },
  {
   "cell_type": "code",
   "execution_count": 17,
   "metadata": {
    "scrolled": true
   },
   "outputs": [
    {
     "ename": "SyntaxError",
     "evalue": "invalid syntax (<ipython-input-17-13cedb0a50e6>, line 2)",
     "output_type": "error",
     "traceback": [
      "\u001b[0;36m  File \u001b[0;32m\"<ipython-input-17-13cedb0a50e6>\"\u001b[0;36m, line \u001b[0;32m2\u001b[0m\n\u001b[0;31m    try, except\u001b[0m\n\u001b[0m       ^\u001b[0m\n\u001b[0;31mSyntaxError\u001b[0m\u001b[0;31m:\u001b[0m invalid syntax\n"
     ]
    }
   ],
   "source": [
    "#예외 처리 오류가 발생해도 코드를 출력하게 하기 위함\n",
    "try, except"
   ]
  },
  {
   "cell_type": "code",
   "execution_count": 20,
   "metadata": {},
   "outputs": [
    {
     "ename": "IndexError",
     "evalue": "list index out of range",
     "output_type": "error",
     "traceback": [
      "\u001b[0;31m---------------------------------------------------------------------------\u001b[0m",
      "\u001b[0;31mIndexError\u001b[0m                                Traceback (most recent call last)",
      "\u001b[0;32m<ipython-input-20-7f2133024189>\u001b[0m in \u001b[0;36m<module>\u001b[0;34m()\u001b[0m\n\u001b[1;32m      1\u001b[0m \u001b[0ma\u001b[0m\u001b[0;34m=\u001b[0m\u001b[0;34m[\u001b[0m\u001b[0;36m1\u001b[0m\u001b[0;34m,\u001b[0m\u001b[0;36m5\u001b[0m\u001b[0;34m,\u001b[0m\u001b[0;36m4\u001b[0m\u001b[0;34m,\u001b[0m\u001b[0;36m3\u001b[0m\u001b[0;34m,\u001b[0m\u001b[0;36m2\u001b[0m\u001b[0;34m,\u001b[0m\u001b[0;36m9\u001b[0m\u001b[0;34m,\u001b[0m\u001b[0;36m35\u001b[0m\u001b[0;34m]\u001b[0m\u001b[0;34m\u001b[0m\u001b[0m\n\u001b[1;32m      2\u001b[0m \u001b[0mposition\u001b[0m \u001b[0;34m=\u001b[0m \u001b[0;36m9\u001b[0m\u001b[0;34m\u001b[0m\u001b[0m\n\u001b[0;32m----> 3\u001b[0;31m \u001b[0mprint\u001b[0m\u001b[0;34m(\u001b[0m\u001b[0ma\u001b[0m\u001b[0;34m[\u001b[0m\u001b[0mposition\u001b[0m\u001b[0;34m]\u001b[0m\u001b[0;34m)\u001b[0m\u001b[0;34m\u001b[0m\u001b[0m\n\u001b[0m",
      "\u001b[0;31mIndexError\u001b[0m: list index out of range"
     ]
    }
   ],
   "source": [
    "a=[1,5,4,3,2,9,35]\n",
    "position = 9\n",
    "print(a[position])\n"
   ]
  },
  {
   "cell_type": "code",
   "execution_count": 21,
   "metadata": {},
   "outputs": [
    {
     "name": "stdout",
     "output_type": "stream",
     "text": [
      "Need a index number between 0 and 6\n"
     ]
    }
   ],
   "source": [
    "a=[1,5,4,3,2,9,35]\n",
    "position = 9\n",
    "\n",
    "try :\n",
    "    print(a[position])\n",
    "except :\n",
    "    print('Need a index number between 0 and',len(a)-1)\n"
   ]
  },
  {
   "cell_type": "code",
   "execution_count": 24,
   "metadata": {},
   "outputs": [
    {
     "name": "stdout",
     "output_type": "stream",
     "text": [
      "3\n"
     ]
    }
   ],
   "source": [
    "a=[1,5,4,3,2,9,35]\n",
    "position = 3\n",
    "\n",
    "try :\n",
    "    print(a[position])\n",
    "except :\n",
    "    print('Need a index number between 0 and',len(a)-1)\n"
   ]
  },
  {
   "cell_type": "code",
   "execution_count": 23,
   "metadata": {},
   "outputs": [],
   "source": [
    "#이 에러의 종류일때만 뭐 해라"
   ]
  },
  {
   "cell_type": "code",
   "execution_count": 98,
   "metadata": {},
   "outputs": [
    {
     "name": "stdout",
     "output_type": "stream",
     "text": [
      "cannot divide number by 0\n"
     ]
    }
   ],
   "source": [
    "a=[1,5,4,3,2,9,35]\n",
    "position = 3\n",
    "d=0\n",
    "try :\n",
    "    print(a[position]/d)\n",
    "except IndexError:\n",
    "    print('Need a index number between 0 and',len(a)-1)\n",
    "except ZeroDivisionError:\n",
    "    print('cannot divide number by 0')\n",
    "else :  #try 를 했을때 오류가 안나면 출력하는거\n",
    "    print('ok!!!')\n",
    "    \n",
    "    \n",
    "    \n",
    "    \n"
   ]
  },
  {
   "cell_type": "code",
   "execution_count": 27,
   "metadata": {},
   "outputs": [
    {
     "name": "stdout",
     "output_type": "stream",
     "text": [
      "4.5\n",
      "ok!!!\n"
     ]
    }
   ],
   "source": [
    "a=[1,5,4,3,2,9,35]\n",
    "position = 5\n",
    "d=2\n",
    "try :\n",
    "    print(a[position]/d)\n",
    "except IndexError:\n",
    "    print('Need a index number between 0 and',len(a)-1)\n",
    "except ZeroDivisionError:\n",
    "    print('cannot divide number by 0')\n",
    "else :\n",
    "    print('ok!!!')\n",
    "    \n",
    "    \n",
    "    \n",
    "    "
   ]
  },
  {
   "cell_type": "code",
   "execution_count": 29,
   "metadata": {},
   "outputs": [],
   "source": [
    "#오류 무시\n",
    "\n",
    "a=[1,5,4,3,2,9,35]\n",
    "position = 3\n",
    "d=0\n",
    "try :\n",
    "    print(a[position]/d)\n",
    "except IndexError:\n",
    "    pass\n",
    "except ZeroDivisionError:\n",
    "    pass\n",
    "\n",
    "#둘다 해당될때 위 에러문 둘다 출력됨\n",
    "\n",
    "\n",
    "else :\n",
    "    print('ok!!!')  # 오류 안났을 때 쓸수 있는 거 \n",
    "    \n",
    "    \n",
    "    \n",
    "    "
   ]
  },
  {
   "cell_type": "code",
   "execution_count": 43,
   "metadata": {},
   "outputs": [],
   "source": [
    "def summ(a,b) :#정의 하겠다.\n",
    "    c=a+b\n",
    "    return c #(print c)라고 써도 나옴"
   ]
  },
  {
   "cell_type": "code",
   "execution_count": 31,
   "metadata": {},
   "outputs": [
    {
     "data": {
      "text/plain": [
       "8"
      ]
     },
     "execution_count": 31,
     "metadata": {},
     "output_type": "execute_result"
    }
   ],
   "source": [
    "summ(3,5)"
   ]
  },
  {
   "cell_type": "code",
   "execution_count": 34,
   "metadata": {},
   "outputs": [
    {
     "name": "stdout",
     "output_type": "stream",
     "text": [
      "8\n"
     ]
    }
   ],
   "source": [
    "a = summ(3,5)\n",
    "print(a)"
   ]
  },
  {
   "cell_type": "code",
   "execution_count": 40,
   "metadata": {},
   "outputs": [],
   "source": [
    "def summ(a,b) :\n",
    "    c=a+b\n",
    "    print(c)#함수는 리턴값이 없음 단순히 출력함 "
   ]
  },
  {
   "cell_type": "code",
   "execution_count": 41,
   "metadata": {},
   "outputs": [
    {
     "name": "stdout",
     "output_type": "stream",
     "text": [
      "8\n"
     ]
    }
   ],
   "source": [
    "a = summ(3,5)"
   ]
  },
  {
   "cell_type": "code",
   "execution_count": 42,
   "metadata": {},
   "outputs": [
    {
     "name": "stdout",
     "output_type": "stream",
     "text": [
      "None\n"
     ]
    }
   ],
   "source": [
    "print(a)"
   ]
  },
  {
   "cell_type": "code",
   "execution_count": 44,
   "metadata": {},
   "outputs": [
    {
     "ename": "SyntaxError",
     "evalue": "invalid syntax (<ipython-input-44-fff4a31fdfa9>, line 1)",
     "output_type": "error",
     "traceback": [
      "\u001b[0;36m  File \u001b[0;32m\"<ipython-input-44-fff4a31fdfa9>\"\u001b[0;36m, line \u001b[0;32m1\u001b[0m\n\u001b[0;31m    def #함수이름(파라미터,파라미터,..) :\u001b[0m\n\u001b[0m                             ^\u001b[0m\n\u001b[0;31mSyntaxError\u001b[0m\u001b[0;31m:\u001b[0m invalid syntax\n"
     ]
    }
   ],
   "source": [
    "def #함수이름(파라미터,파라미터,..) :\n",
    "#c는 리턴값이다."
   ]
  },
  {
   "cell_type": "code",
   "execution_count": 45,
   "metadata": {},
   "outputs": [],
   "source": [
    "#인풋이 없어도 함수 성립\n",
    "#결과값이나 리턴값이 없어도 함수 만들어짐 이 경우 그냥 프린트만 하는 것임"
   ]
  },
  {
   "cell_type": "code",
   "execution_count": 49,
   "metadata": {},
   "outputs": [],
   "source": [
    "def say():\n",
    "    return 'hi!'"
   ]
  },
  {
   "cell_type": "code",
   "execution_count": 50,
   "metadata": {},
   "outputs": [
    {
     "name": "stdout",
     "output_type": "stream",
     "text": [
      "hi!\n"
     ]
    }
   ],
   "source": [
    "print(say())"
   ]
  },
  {
   "cell_type": "code",
   "execution_count": 46,
   "metadata": {},
   "outputs": [],
   "source": [
    "def summ(a,b):\n",
    "    print(a+b)"
   ]
  },
  {
   "cell_type": "code",
   "execution_count": 47,
   "metadata": {},
   "outputs": [
    {
     "name": "stdout",
     "output_type": "stream",
     "text": [
      "9\n"
     ]
    }
   ],
   "source": [
    "a= summ(4,5)"
   ]
  },
  {
   "cell_type": "code",
   "execution_count": 48,
   "metadata": {},
   "outputs": [
    {
     "name": "stdout",
     "output_type": "stream",
     "text": [
      "None\n"
     ]
    }
   ],
   "source": [
    "print(a)"
   ]
  },
  {
   "cell_type": "code",
   "execution_count": 54,
   "metadata": {},
   "outputs": [],
   "source": [
    "def summ(a,b,c=10) : \n",
    "    print('a',a)\n",
    "    print('b',b)\n",
    "    print('c',c)\n",
    "    n=a+b\n",
    "    return(n*c)"
   ]
  },
  {
   "cell_type": "code",
   "execution_count": 55,
   "metadata": {},
   "outputs": [
    {
     "name": "stdout",
     "output_type": "stream",
     "text": [
      "a 4\n",
      "b 5\n",
      "c 10\n"
     ]
    }
   ],
   "source": [
    "a=summ(4,5)"
   ]
  },
  {
   "cell_type": "code",
   "execution_count": 56,
   "metadata": {},
   "outputs": [
    {
     "name": "stdout",
     "output_type": "stream",
     "text": [
      "90\n"
     ]
    }
   ],
   "source": [
    "print(a)"
   ]
  },
  {
   "cell_type": "code",
   "execution_count": 57,
   "metadata": {},
   "outputs": [
    {
     "name": "stdout",
     "output_type": "stream",
     "text": [
      "a 4\n",
      "b 5\n",
      "c 100\n"
     ]
    }
   ],
   "source": [
    "a=summ(4,5,c=100) #함수의초기값을 따르고 싶지 않을 때는 바꿔줘도 된다."
   ]
  },
  {
   "cell_type": "code",
   "execution_count": 58,
   "metadata": {},
   "outputs": [
    {
     "name": "stdout",
     "output_type": "stream",
     "text": [
      "900\n"
     ]
    }
   ],
   "source": [
    "print(a)"
   ]
  },
  {
   "cell_type": "code",
   "execution_count": 59,
   "metadata": {},
   "outputs": [
    {
     "data": {
      "text/plain": [
       "36"
      ]
     },
     "execution_count": 59,
     "metadata": {},
     "output_type": "execute_result"
    }
   ],
   "source": [
    "a = [1,2,3,4,5,6,7,8]\n",
    "sum(a)"
   ]
  },
  {
   "cell_type": "code",
   "execution_count": 99,
   "metadata": {},
   "outputs": [],
   "source": [
    "def sumsum(*args) : \n",
    "    print(args) #args는 튜플로 나옴 *는 변수가 몇개가 들어와도 튜플로 인식해서 가져온다.  args는 임의의 변수명 abc이런것도 상관없음\n",
    "    summ = 0\n",
    "    for i in args :\n",
    "        summ=summ+1\n",
    "    return summ"
   ]
  },
  {
   "cell_type": "code",
   "execution_count": 85,
   "metadata": {},
   "outputs": [
    {
     "name": "stdout",
     "output_type": "stream",
     "text": [
      "(1, 2, 3, 4, 5, 6)\n"
     ]
    },
    {
     "data": {
      "text/plain": [
       "6"
      ]
     },
     "execution_count": 85,
     "metadata": {},
     "output_type": "execute_result"
    }
   ],
   "source": [
    "sumsum(1,2,3,4,5,6)"
   ]
  },
  {
   "cell_type": "code",
   "execution_count": 63,
   "metadata": {},
   "outputs": [],
   "source": [
    "def sum_mul(choice, *args) :\n",
    "    if choice == 'sum':\n",
    "        result = 0\n",
    "        for i in args :\n",
    "            result =result + i\n",
    "    elif choice == 'mul':\n",
    "        result =1\n",
    "        for i in args :\n",
    "            result = result*1\n",
    "    return result\n",
    "   \n",
    "    "
   ]
  },
  {
   "cell_type": "code",
   "execution_count": 64,
   "metadata": {},
   "outputs": [
    {
     "name": "stdout",
     "output_type": "stream",
     "text": [
      "28\n"
     ]
    }
   ],
   "source": [
    "a=sum_mul('sum',1,2,3,4,5,5,6,2)\n",
    "\n",
    "print(a)"
   ]
  },
  {
   "cell_type": "code",
   "execution_count": 66,
   "metadata": {},
   "outputs": [],
   "source": [
    "a=sum_mul('mul',1,2,3,4,5)\n"
   ]
  },
  {
   "cell_type": "code",
   "execution_count": 67,
   "metadata": {},
   "outputs": [
    {
     "name": "stdout",
     "output_type": "stream",
     "text": [
      "1\n"
     ]
    }
   ],
   "source": [
    "\n",
    "print(a)"
   ]
  },
  {
   "cell_type": "code",
   "execution_count": 95,
   "metadata": {},
   "outputs": [],
   "source": [
    "def sum_mul(a,b) :\n",
    "    #return a+b, a*b\n",
    "    print(a+b,a*b)"
   ]
  },
  {
   "cell_type": "code",
   "execution_count": 96,
   "metadata": {},
   "outputs": [
    {
     "name": "stdout",
     "output_type": "stream",
     "text": [
      "7 6\n"
     ]
    }
   ],
   "source": [
    "a= sum_mul(1,6)"
   ]
  },
  {
   "cell_type": "code",
   "execution_count": 97,
   "metadata": {},
   "outputs": [
    {
     "name": "stdout",
     "output_type": "stream",
     "text": [
      "None\n"
     ]
    }
   ],
   "source": [
    "print(a)  #한꺼번에튜플로 출력 한개 함수는 하나의 리턴값출력"
   ]
  },
  {
   "cell_type": "code",
   "execution_count": 90,
   "metadata": {},
   "outputs": [],
   "source": [
    "a,b= sum_mul(1,6)  #unpacking"
   ]
  },
  {
   "cell_type": "code",
   "execution_count": 91,
   "metadata": {},
   "outputs": [
    {
     "name": "stdout",
     "output_type": "stream",
     "text": [
      "7\n"
     ]
    }
   ],
   "source": [
    "print(a)"
   ]
  },
  {
   "cell_type": "code",
   "execution_count": 70,
   "metadata": {},
   "outputs": [],
   "source": [
    "#하나의 함수는 리턴값 하나만 내보낸다."
   ]
  },
  {
   "cell_type": "code",
   "execution_count": 76,
   "metadata": {},
   "outputs": [],
   "source": [
    "a=1\n",
    "def test(a):\n",
    "    a=a+1\n",
    "    #print(a)\n",
    "    return a"
   ]
  },
  {
   "cell_type": "code",
   "execution_count": 72,
   "metadata": {},
   "outputs": [
    {
     "name": "stdout",
     "output_type": "stream",
     "text": [
      "2\n"
     ]
    }
   ],
   "source": [
    "test(1)"
   ]
  },
  {
   "cell_type": "code",
   "execution_count": 74,
   "metadata": {},
   "outputs": [
    {
     "name": "stdout",
     "output_type": "stream",
     "text": [
      "1\n"
     ]
    }
   ],
   "source": [
    " print(a)   #함수 안의 a와 바깥의 a는 별개로 운영된다. 따로야 그럼 밖에 a는 왜 써줌?\n",
    "    "
   ]
  },
  {
   "cell_type": "code",
   "execution_count": 77,
   "metadata": {},
   "outputs": [],
   "source": [
    "a = test(1)"
   ]
  },
  {
   "cell_type": "code",
   "execution_count": 78,
   "metadata": {},
   "outputs": [
    {
     "name": "stdout",
     "output_type": "stream",
     "text": [
      "2\n"
     ]
    }
   ],
   "source": [
    "print(a)"
   ]
  },
  {
   "cell_type": "code",
   "execution_count": 83,
   "metadata": {},
   "outputs": [],
   "source": [
    "a=1\n",
    "def test() :   \n",
    "    global a   #전역변수 안이랑 밖의 경계가 합쳐지면 구분이 안되서 위험함!\n",
    "    a = a+1"
   ]
  },
  {
   "cell_type": "code",
   "execution_count": 81,
   "metadata": {},
   "outputs": [],
   "source": [
    "test()"
   ]
  },
  {
   "cell_type": "code",
   "execution_count": 82,
   "metadata": {},
   "outputs": [
    {
     "name": "stdout",
     "output_type": "stream",
     "text": [
      "2\n"
     ]
    }
   ],
   "source": [
    "print(a)"
   ]
  },
  {
   "cell_type": "code",
   "execution_count": 101,
   "metadata": {},
   "outputs": [],
   "source": [
    "#가장 빈번하게 출현한 원자는 ?\n",
    "#가장 적게 출현한 원자는 ?\n",
    "\n",
    "#각각의 원자개수 출력하기"
   ]
  },
  {
   "cell_type": "code",
   "execution_count": 102,
   "metadata": {},
   "outputs": [
    {
     "name": "stdout",
     "output_type": "stream",
     "text": [
      "[161, 191, 180, 100, 150, 260, 198, 197, 232, 152]\n"
     ]
    }
   ],
   "source": [
    "\n",
    "f = open('mols.sdf','r')\n",
    "aw_dic = {'H' : 1, 'C' : 12, 'F' : 19, 'Cl' : 35, 'N' : 14, 'Br' : 80 ,'O' : 16}\n",
    "mw_box = []  #각 분자의 분자량 넣어주기\n",
    "\n",
    "one_mol = []  # 분자 하나씩 담아서 처리\n",
    "atom_box=[]  # 분자 하나의 원자만 담기\n",
    "mw = 0\n",
    "\n",
    "for line in f :\n",
    "    one_mol.append(line)\n",
    "    if '$$$$' in line :\n",
    "        #print(one_mol)\n",
    "        an = one_mol[3].split()[0]\n",
    "        atom_info = one_mol[4:4+int(an)]\n",
    "        for a in atom_info :\n",
    "            atom_box.append(a.split()[3])\n",
    "            \n",
    "        for atom in atom_box :\n",
    "            aw = aw_dic[atom]\n",
    "            mw = mw+aw\n",
    "\n",
    "        mw_box.append(mw)\n",
    "        one_mol = []  # 다시 새로 세팅해서 구해야 새로운 분자량 구할수 있당\n",
    "        atom_box=[]  \n",
    "        mw = 0\n",
    "        \n",
    "print(mw_box)\n",
    "\n",
    "\n",
    "\n",
    "\n"
   ]
  },
  {
   "cell_type": "code",
   "execution_count": 103,
   "metadata": {},
   "outputs": [
    {
     "name": "stdout",
     "output_type": "stream",
     "text": [
      "10\n"
     ]
    }
   ],
   "source": [
    "\n",
    "f= open('mols.sdf','r')\n",
    "ms = f.readlines()\n",
    "ms=str(ms)\n",
    "each_mole = ms.strip().split('$$$$')\n",
    "print(len(each_mole)-1)\n"
   ]
  },
  {
   "cell_type": "code",
   "execution_count": 104,
   "metadata": {},
   "outputs": [],
   "source": [
    "#원소가 나타날때 마다 딕셔너리에 넣어주고 추가한다."
   ]
  },
  {
   "cell_type": "code",
   "execution_count": 108,
   "metadata": {},
   "outputs": [
    {
     "name": "stdout",
     "output_type": "stream",
     "text": [
      "{'C': 7, 'F': 3, 'N': 1, 'H': 6}\n"
     ]
    }
   ],
   "source": [
    "f = open('mols.sdf','r')\n",
    " \n",
    "at_appear ={}\n",
    "#{'c'}\n",
    "mole = f.readlines()\n",
    "n_atom = mole[3].split()[0]\n",
    "atom_info = mole[4:4+int(n_atom)]\n",
    "\n",
    "for a in atom_info :\n",
    "    atom = a.split()[3]  #아톰 심볼만 들어옴 = atom\n",
    "    \n",
    "    if atom in at_appear :\n",
    "        n = at_appear[atom]   #변수설정\n",
    "        at_appear[atom] = n+1  #딕셔너리의 값에 하나씩 더해줌 \n",
    "    else :\n",
    "        at_appear[atom] = 1\n",
    "print(at_appear)    \n",
    "# 한분자만 잡아옴 루프 한개 더 돌려야함"
   ]
  },
  {
   "cell_type": "code",
   "execution_count": null,
   "metadata": {},
   "outputs": [],
   "source": []
  },
  {
   "cell_type": "code",
   "execution_count": null,
   "metadata": {},
   "outputs": [],
   "source": []
  },
  {
   "cell_type": "code",
   "execution_count": null,
   "metadata": {},
   "outputs": [],
   "source": []
  },
  {
   "cell_type": "code",
   "execution_count": null,
   "metadata": {},
   "outputs": [],
   "source": []
  }
 ],
 "metadata": {
  "kernelspec": {
   "display_name": "Python 3",
   "language": "python",
   "name": "python3"
  },
  "language_info": {
   "codemirror_mode": {
    "name": "ipython",
    "version": 3
   },
   "file_extension": ".py",
   "mimetype": "text/x-python",
   "name": "python",
   "nbconvert_exporter": "python",
   "pygments_lexer": "ipython3",
   "version": "3.6.5"
  }
 },
 "nbformat": 4,
 "nbformat_minor": 2
}
