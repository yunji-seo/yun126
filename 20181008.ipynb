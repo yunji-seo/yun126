{
 "cells": [
  {
   "cell_type": "markdown",
   "metadata": {},
   "source": [
    "# 과제 사용할때 %포멧팅이용하기\n"
   ]
  },
  {
   "cell_type": "code",
   "execution_count": 4,
   "metadata": {},
   "outputs": [
    {
     "name": "stdout",
     "output_type": "stream",
     "text": [
      "[2, 4]\n",
      "[5, 4, 3, 2, 1]\n"
     ]
    }
   ],
   "source": [
    "a = [1,2,3,4,5]\n",
    "# a[2:]\n",
    "#a[:5]\n",
    "#인덱싱 [시작 : 끝+1 : 간격]\n",
    "print(a[1::2])  #리스트 2칸 차이로 출력하기\n",
    "print(a[::-1]) #리스트를 뒤집는법"
   ]
  },
  {
   "cell_type": "code",
   "execution_count": 6,
   "metadata": {},
   "outputs": [
    {
     "name": "stdout",
     "output_type": "stream",
     "text": [
      "ok\n"
     ]
    }
   ],
   "source": [
    "a = 'apple'\n",
    "# 리스트 검사하기\n",
    "if 'le' in a :\n",
    "    print('ok')"
   ]
  },
  {
   "cell_type": "code",
   "execution_count": 9,
   "metadata": {},
   "outputs": [
    {
     "name": "stdout",
     "output_type": "stream",
     "text": [
      "1 a\n",
      "2 b\n",
      "3 c\n",
      "4 d\n",
      "5 e\n"
     ]
    }
   ],
   "source": [
    "e = [1,2,3,4,5]\n",
    "g = ['a','b','c','d','e']\n",
    "\n",
    "for i,j in zip(e,g) : \n",
    "    print(i,j)   # 변수 2개를  동시에 출력하는법 zip사용\n",
    "    "
   ]
  },
  {
   "cell_type": "code",
   "execution_count": 10,
   "metadata": {},
   "outputs": [
    {
     "name": "stdout",
     "output_type": "stream",
     "text": [
      "1 a\n",
      "2 b\n",
      "3 c\n",
      "4 d\n",
      "5 e\n",
      "6 f\n"
     ]
    }
   ],
   "source": [
    "e = [1,2,3,4,5,6,7,8,9]\n",
    "g = ['a','b','c','d','e','f']\n",
    "\n",
    "\n",
    "for i,j in zip(e,g) : \n",
    "    print(i,j)   # 리스트 안의 수가 다르면 같은 쌍까지만 출력된다"
   ]
  },
  {
   "cell_type": "code",
   "execution_count": 11,
   "metadata": {
    "scrolled": true
   },
   "outputs": [
    {
     "name": "stdout",
     "output_type": "stream",
     "text": [
      "1 a r\n",
      "2 b p\n",
      "3 c t\n",
      "4 d y\n",
      "5 e w\n",
      "6 f q\n"
     ]
    }
   ],
   "source": [
    "e = [1,2,3,4,5,6,7,8,9]\n",
    "g = ['a','b','c','d','e','f']\n",
    "f = ['r','p','t','y','w','q']\n",
    "\n",
    "for i,j,h in zip(e,g,f) : \n",
    "    print(i,j,h)  "
   ]
  },
  {
   "cell_type": "code",
   "execution_count": 12,
   "metadata": {},
   "outputs": [],
   "source": [
    "a = 1,2,3"
   ]
  },
  {
   "cell_type": "code",
   "execution_count": 13,
   "metadata": {},
   "outputs": [],
   "source": [
    "c=(3,4)"
   ]
  },
  {
   "cell_type": "code",
   "execution_count": 14,
   "metadata": {},
   "outputs": [],
   "source": [
    "a,b = c"
   ]
  },
  {
   "cell_type": "code",
   "execution_count": 15,
   "metadata": {},
   "outputs": [
    {
     "name": "stdout",
     "output_type": "stream",
     "text": [
      "3 4\n"
     ]
    }
   ],
   "source": [
    "print(a,b)"
   ]
  },
  {
   "cell_type": "code",
   "execution_count": 15,
   "metadata": {},
   "outputs": [
    {
     "data": {
      "text/plain": [
       "3"
      ]
     },
     "execution_count": 15,
     "metadata": {},
     "output_type": "execute_result"
    }
   ],
   "source": [
    "a"
   ]
  },
  {
   "cell_type": "code",
   "execution_count": 16,
   "metadata": {},
   "outputs": [
    {
     "data": {
      "text/plain": [
       "4"
      ]
     },
     "execution_count": 16,
     "metadata": {},
     "output_type": "execute_result"
    }
   ],
   "source": [
    "b"
   ]
  },
  {
   "cell_type": "code",
   "execution_count": 16,
   "metadata": {},
   "outputs": [],
   "source": [
    "a,b=[1,2]"
   ]
  },
  {
   "cell_type": "code",
   "execution_count": 17,
   "metadata": {},
   "outputs": [
    {
     "data": {
      "text/plain": [
       "1"
      ]
     },
     "execution_count": 17,
     "metadata": {},
     "output_type": "execute_result"
    }
   ],
   "source": [
    "a"
   ]
  },
  {
   "cell_type": "code",
   "execution_count": 18,
   "metadata": {},
   "outputs": [
    {
     "data": {
      "text/plain": [
       "2"
      ]
     },
     "execution_count": 18,
     "metadata": {},
     "output_type": "execute_result"
    }
   ],
   "source": [
    "b"
   ]
  },
  {
   "cell_type": "code",
   "execution_count": 19,
   "metadata": {},
   "outputs": [],
   "source": [
    "a,b=b,a\n"
   ]
  },
  {
   "cell_type": "code",
   "execution_count": 20,
   "metadata": {},
   "outputs": [
    {
     "name": "stdout",
     "output_type": "stream",
     "text": [
      "2 1\n"
     ]
    }
   ],
   "source": [
    "print(a,b)"
   ]
  },
  {
   "cell_type": "code",
   "execution_count": 23,
   "metadata": {},
   "outputs": [
    {
     "ename": "ValueError",
     "evalue": "too many values to unpack (expected 2)",
     "output_type": "error",
     "traceback": [
      "\u001b[0;31m---------------------------------------------------------------------------\u001b[0m",
      "\u001b[0;31mValueError\u001b[0m                                Traceback (most recent call last)",
      "\u001b[0;32m<ipython-input-23-feba55cd9c9a>\u001b[0m in \u001b[0;36m<module>\u001b[0;34m()\u001b[0m\n\u001b[0;32m----> 1\u001b[0;31m \u001b[0ma\u001b[0m\u001b[0;34m,\u001b[0m\u001b[0mb\u001b[0m\u001b[0;34m=\u001b[0m\u001b[0;34m[\u001b[0m\u001b[0;36m5\u001b[0m\u001b[0;34m,\u001b[0m\u001b[0;36m6\u001b[0m\u001b[0;34m,\u001b[0m\u001b[0;36m7\u001b[0m\u001b[0;34m]\u001b[0m  \u001b[0;31m# unpacking 할때는 개수 맞춰줘야함\u001b[0m\u001b[0;34m\u001b[0m\u001b[0m\n\u001b[0m",
      "\u001b[0;31mValueError\u001b[0m: too many values to unpack (expected 2)"
     ]
    }
   ],
   "source": [
    "a,b=[5,6,7]  # unpacking 할때는 개수 맞춰줘야함\n"
   ]
  },
  {
   "cell_type": "code",
   "execution_count": 21,
   "metadata": {},
   "outputs": [
    {
     "data": {
      "text/plain": [
       "3"
      ]
     },
     "execution_count": 21,
     "metadata": {},
     "output_type": "execute_result"
    }
   ],
   "source": [
    "abs(-3)  #절대값"
   ]
  },
  {
   "cell_type": "code",
   "execution_count": 24,
   "metadata": {},
   "outputs": [
    {
     "name": "stdout",
     "output_type": "stream",
     "text": [
      "1\n",
      "3\n"
     ]
    }
   ],
   "source": [
    "a= [1,2,3]\n",
    "\n",
    "print(min(a))\n",
    "print(max(a))"
   ]
  },
  {
   "cell_type": "code",
   "execution_count": 26,
   "metadata": {},
   "outputs": [
    {
     "name": "stdout",
     "output_type": "stream",
     "text": [
      "[1, 3, 4]\n"
     ]
    }
   ],
   "source": [
    "a = [1,2,3,4,5]\n",
    "\n",
    "del a[1]  # 인덱스 번호를 적는다.  [] 쓰는이유는 인덱스값을 적기 때문\n",
    "\n",
    "a.remove(5)  #지우고싶은 요소값을 적는다.  () 쓰는 이유는 함수이기때문\n",
    "\n",
    "print(a)"
   ]
  },
  {
   "cell_type": "code",
   "execution_count": 29,
   "metadata": {},
   "outputs": [],
   "source": [
    "a=[1,2,3]\n",
    "b=a   #리스트를 복사하기 위해서 "
   ]
  },
  {
   "cell_type": "code",
   "execution_count": 30,
   "metadata": {},
   "outputs": [
    {
     "data": {
      "text/plain": [
       "[1, 2, 3]"
      ]
     },
     "execution_count": 30,
     "metadata": {},
     "output_type": "execute_result"
    }
   ],
   "source": [
    "b"
   ]
  },
  {
   "cell_type": "code",
   "execution_count": 31,
   "metadata": {},
   "outputs": [
    {
     "name": "stdout",
     "output_type": "stream",
     "text": [
      "['apple', 2, 3]\n"
     ]
    }
   ],
   "source": [
    "a[0] = 'apple'\n",
    "print(a)"
   ]
  },
  {
   "cell_type": "code",
   "execution_count": 33,
   "metadata": {},
   "outputs": [
    {
     "data": {
      "text/plain": [
       "['apple', 2, 3]"
      ]
     },
     "execution_count": 33,
     "metadata": {},
     "output_type": "execute_result"
    }
   ],
   "source": [
    "b    #복사해온 리스트까지 바뀜 shallow copy\n"
   ]
  },
  {
   "cell_type": "code",
   "execution_count": 34,
   "metadata": {},
   "outputs": [],
   "source": [
    "import copy\n"
   ]
  },
  {
   "cell_type": "code",
   "execution_count": 43,
   "metadata": {},
   "outputs": [
    {
     "name": "stdout",
     "output_type": "stream",
     "text": [
      "[1, 2, 3]\n",
      "[1, 2, 3]\n",
      "[1, 2, 3]\n"
     ]
    }
   ],
   "source": [
    "a = [1,2,3]\n",
    "c = copy.deepcopy(a)  # 복사를 완벽하게 하기 위해서 사용 \n",
    "# 완전한 하나의 요소가 됨, 원래 리스트가 바뀌어도 영향받지 않음, 새로운 리스트가 된다고 생각하기\n",
    "b = a\n",
    "\n",
    "print(a)\n",
    "print(b)\n",
    "print(c)"
   ]
  },
  {
   "cell_type": "code",
   "execution_count": 39,
   "metadata": {},
   "outputs": [],
   "source": [
    "a[0] = 'apple'"
   ]
  },
  {
   "cell_type": "code",
   "execution_count": 40,
   "metadata": {},
   "outputs": [
    {
     "name": "stdout",
     "output_type": "stream",
     "text": [
      "['apple', 2, 3]\n",
      "['apple', 2, 3]\n",
      "[1, 2, 3]\n"
     ]
    }
   ],
   "source": [
    "print(a)\n",
    "print(b)\n",
    "print(c)"
   ]
  },
  {
   "cell_type": "code",
   "execution_count": 44,
   "metadata": {},
   "outputs": [
    {
     "name": "stdout",
     "output_type": "stream",
     "text": [
      "1\n"
     ]
    }
   ],
   "source": [
    "a = ['a','b','c']\n",
    "\n",
    "idx = a.index('b')  #요소값\n",
    "print(idx)\n",
    "\n"
   ]
  },
  {
   "cell_type": "markdown",
   "metadata": {},
   "source": [
    "# syntax 에러\n",
    "### 문법이나 오타오류, 괄호개수 부족해도 남 ,if문뒤에 사용할 문법을 안적어도 오류\n",
    "### 화살표가 가르키는 것이 오류난것이 아니라 그 줄을 출력하려니까 오류가 난것 그줄을 다 확인하기"
   ]
  },
  {
   "cell_type": "markdown",
   "metadata": {},
   "source": [
    "# index 오류 \n",
    "#### index가 가지지 않은 범위를 출력할때 그러면 루프를 잘돌리고 있는지 확인하기\n",
    "\n",
    "\n",
    "# type 오류\n",
    "#### must be str not int\n",
    "\n",
    "# name 오류 \n",
    "정의되지 않은 것 사용할때\n",
    "\n",
    "# 0으로 나누면 오류남"
   ]
  },
  {
   "cell_type": "markdown",
   "metadata": {},
   "source": [
    "Q1 : 자연수 753의 약수를 구하는 코드를 작성하시오.\n"
   ]
  },
  {
   "cell_type": "code",
   "execution_count": 47,
   "metadata": {},
   "outputs": [
    {
     "name": "stdout",
     "output_type": "stream",
     "text": [
      "[1, 3, 251, 753]\n"
     ]
    }
   ],
   "source": [
    "n = 753\n",
    "ali = []\n",
    "\n",
    "for i in range(1,n+1) : \n",
    "    if n%i==0 :\n",
    "        ali.append(i)  #ali에 i추가\n",
    "        \n",
    "        \n",
    "print(ali)\n",
    "    "
   ]
  },
  {
   "cell_type": "markdown",
   "metadata": {},
   "source": [
    "Q2 : a= [11,5,2,22,10,9,8] 에서 7과 가까운 a의 원소를 출력하는 코드를 작성하시오."
   ]
  },
  {
   "cell_type": "code",
   "execution_count": 77,
   "metadata": {},
   "outputs": [
    {
     "name": "stdout",
     "output_type": "stream",
     "text": [
      "0\n",
      "0\n"
     ]
    }
   ],
   "source": [
    "a= [11,5,2,22,10,9,8]\n",
    "b=0\n",
    "c=0\n",
    "for i in a :\n",
    "    if i>7:\n",
    "        i=b\n",
    "    elif i<7:\n",
    "        i=c\n",
    "        if b-7>7-c :\n",
    "            print(c)\n",
    "        elif b-7<7-c :\n",
    "            print(b)"
   ]
  },
  {
   "cell_type": "code",
   "execution_count": 54,
   "metadata": {},
   "outputs": [
    {
     "name": "stdout",
     "output_type": "stream",
     "text": [
      "8\n"
     ]
    }
   ],
   "source": [
    "a= [11,5,2,22,10,9,8]\n",
    "n=7\n",
    "\n",
    "t = abs(a[0]-7)  #7과의 차\n",
    "near = a[0]      #현재 가장 가까운 차 초기값\n",
    "\n",
    "for i in a :     #지금 루트에 들어온 애를 빼보자\n",
    "    c = abs(i-n) # 차가 더 작은가?\n",
    "    if t>c : \n",
    "        near = i  # near 초기값을 바꿔준다 만약 지금 계산한 c값이 t값 보다 작으면\n",
    "        t=c  # 비교하는 값도 바꿔줘야함 업데이트\n",
    "        \n",
    "print(near)\n",
    "\n"
   ]
  },
  {
   "cell_type": "markdown",
   "metadata": {},
   "source": [
    "Q3 :a = [2,7,22,1,5,65,12,34,75] a의 원소 중 최댓값을 출력하는 코드를 작성하시오. \n",
    "max sort 사용금지"
   ]
  },
  {
   "cell_type": "code",
   "execution_count": 59,
   "metadata": {},
   "outputs": [
    {
     "name": "stdout",
     "output_type": "stream",
     "text": [
      "45652\n"
     ]
    }
   ],
   "source": [
    "a = [2,7,22,1,5,45652,65,12,34,75]\n",
    "\n",
    "y = a[0]\n",
    "\n",
    "for i in a :\n",
    "    if y<i:\n",
    "        y=i\n",
    "        \n",
    "print(y)\n"
   ]
  },
  {
   "cell_type": "markdown",
   "metadata": {},
   "source": [
    "Q6: 피보나치 수열 의 20 번째 할까지의 합을 구하는 코드를 작성하시오. 합:17710"
   ]
  },
  {
   "cell_type": "code",
   "execution_count": 65,
   "metadata": {},
   "outputs": [
    {
     "name": "stdout",
     "output_type": "stream",
     "text": [
      "[1, 1, 2, 3, 5, 7, 10, 13, 17, 21, 26, 31, 37, 43, 50, 57, 65, 73, 82, 91, 101, 111]\n",
      "847\n"
     ]
    }
   ],
   "source": [
    "fibo = [1,1]\n",
    "\n",
    "for i in range(1,21) :\n",
    "    c=i+fibo[-2]\n",
    "    fibo.append(c)\n",
    "    \n",
    "print(fibo)\n",
    "print(sum(fibo))"
   ]
  },
  {
   "cell_type": "code",
   "execution_count": 66,
   "metadata": {},
   "outputs": [
    {
     "name": "stdout",
     "output_type": "stream",
     "text": [
      "[1, 1, 2, 3, 5, 8, 13, 21, 34, 55, 89, 144, 233, 377, 610, 987, 1597, 2584, 4181, 6765]\n",
      "17710\n"
     ]
    }
   ],
   "source": [
    "fibo = [1,1]\n",
    "\n",
    "for i in range(18): #0~17 : 18\n",
    "    nex = fibo[-1] + fibo[-2]\n",
    "    fibo.append(nex)\n",
    "print(fibo)\n",
    "print(sum(fibo))"
   ]
  },
  {
   "cell_type": "code",
   "execution_count": 70,
   "metadata": {},
   "outputs": [
    {
     "name": "stdout",
     "output_type": "stream",
     "text": [
      "20\n"
     ]
    }
   ],
   "source": [
    "cnt=0\n",
    "for i in fibo : \n",
    "    cnt=cnt+1\n",
    "print(cnt)"
   ]
  },
  {
   "cell_type": "code",
   "execution_count": 76,
   "metadata": {},
   "outputs": [
    {
     "name": "stdout",
     "output_type": "stream",
     "text": [
      "[1, 1, 2, 3, 5, 8, 13, 21, 34, 55, 89, 144, 233, 377, 610, 987, 1597, 2584, 4181, 6765]\n",
      "17710\n"
     ]
    }
   ],
   "source": [
    "fibo = [1,1]\n",
    "\n",
    "while len(fibo)<=19:  #19번째 항일때 한번더 while문을 돌아서 20번째항까지 추가되기때문에\n",
    "    nex = fibo[-1] + fibo[-2]\n",
    "    fibo.append(nex)\n",
    "    \n",
    "print(fibo)\n",
    "print(sum(fibo))"
   ]
  },
  {
   "cell_type": "markdown",
   "metadata": {},
   "source": [
    "Q7 : 1! + 2! + 3! + 4! + 5! + 6! + 7! + 8! + 9! + 10!의 합을 구하는 코드를 작성하시오.\n",
    "출력 4037913\n"
   ]
  },
  {
   "cell_type": "code",
   "execution_count": null,
   "metadata": {},
   "outputs": [],
   "source": [
    "a=[]\n",
    "n=1\n",
    "while len(a)<=10:\n",
    "    for i in range(1,11):\n",
    "        a.append()\n",
    "    "
   ]
  },
  {
   "cell_type": "code",
   "execution_count": 82,
   "metadata": {},
   "outputs": [
    {
     "name": "stdout",
     "output_type": "stream",
     "text": [
      "4037913\n"
     ]
    }
   ],
   "source": [
    "a=0\n",
    "h=0\n",
    "while a<=9:\n",
    "    a=a+1\n",
    "    p=1\n",
    "    for i in range(1,a+1):\n",
    "        p=p*i\n",
    "    h=h+p\n",
    "print(h)\n"
   ]
  },
  {
   "cell_type": "code",
   "execution_count": 81,
   "metadata": {},
   "outputs": [
    {
     "name": "stdout",
     "output_type": "stream",
     "text": [
      "a 1\n",
      "b 1\n",
      "a 2\n",
      "b 1\n",
      "b 2\n",
      "a 3\n",
      "b 1\n",
      "b 2\n",
      "b 3\n",
      "a 4\n",
      "b 1\n",
      "b 2\n",
      "b 3\n",
      "b 4\n",
      "a 5\n",
      "b 1\n",
      "b 2\n",
      "b 3\n",
      "b 4\n",
      "b 5\n",
      "a 6\n",
      "b 1\n",
      "b 2\n",
      "b 3\n",
      "b 4\n",
      "b 5\n",
      "b 6\n",
      "a 7\n",
      "b 1\n",
      "b 2\n",
      "b 3\n",
      "b 4\n",
      "b 5\n",
      "b 6\n",
      "b 7\n",
      "a 8\n",
      "b 1\n",
      "b 2\n",
      "b 3\n",
      "b 4\n",
      "b 5\n",
      "b 6\n",
      "b 7\n",
      "b 8\n",
      "a 9\n",
      "b 1\n",
      "b 2\n",
      "b 3\n",
      "b 4\n",
      "b 5\n",
      "b 6\n",
      "b 7\n",
      "b 8\n",
      "b 9\n",
      "a 10\n",
      "b 1\n",
      "b 2\n",
      "b 3\n",
      "b 4\n",
      "b 5\n",
      "b 6\n",
      "b 7\n",
      "b 8\n",
      "b 9\n",
      "b 10\n",
      "4037913\n"
     ]
    }
   ],
   "source": [
    "hap = 0\n",
    "for i in range(1,11):   #1~10까지 숫자 하나씩 받아옴 = n\n",
    "    pac = 1\n",
    "    print('a',i)\n",
    "\n",
    "    for j in range(1,i+1):   # 어느 한 숫자에 대해 n!구하는 부분\n",
    "        pac=pac*j\n",
    "        print('b',j)\n",
    "    hap = hap+pac\n",
    "    \n",
    "print(hap)"
   ]
  },
  {
   "cell_type": "markdown",
   "metadata": {},
   "source": [
    "Q8: 자릿수 채우기 위한 0이 나오기 이전까지 숫자들의 위치를 반대로 뒤집어 출력하는 코드를 작성하시오. (모든 수는 10자리)\n",
    "\n",
    "예를 들어 3456700000를 7654300000으로 출력해야 한다.\n",
    "\n",
    "\n",
    "입력\n",
    "3430156000\n",
    "6534300000\n",
    "\n",
    "출력\n",
    "6510343000\n",
    "3435600000\n"
   ]
  },
  {
   "cell_type": "code",
   "execution_count": 89,
   "metadata": {},
   "outputs": [
    {
     "name": "stdout",
     "output_type": "stream",
     "text": [
      "숫자10자리를 입력하시오 : 7894500000\n",
      "0000054987\n"
     ]
    }
   ],
   "source": [
    "a = input('숫자10자리를 입력하시오 : ')\n",
    "print(a[::-1])\n",
    "for i in a[::-1]:\n",
    "    while i!=0:\n",
    "        \n",
    "        print(a[::-1])\n"
   ]
  },
  {
   "cell_type": "code",
   "execution_count": 92,
   "metadata": {},
   "outputs": [
    {
     "name": "stdout",
     "output_type": "stream",
     "text": [
      "숫자10자리를 입력하시오 : 4596700000\n",
      "7695400000\n"
     ]
    }
   ],
   "source": [
    "a = input('숫자10자리를 입력하시오 : ')\n",
    "rev = \"\"\n",
    "    \n",
    "for i in a[::-1]:\n",
    "    if i != '0':  # a는 지금 문자이기 때문에 0을 문자취급해줘야함\n",
    "        rev=rev+i\n",
    "        \n",
    "rev = rev+ '0'*(10-len(rev))\n",
    "print(rev)"
   ]
  },
  {
   "cell_type": "code",
   "execution_count": 97,
   "metadata": {},
   "outputs": [
    {
     "name": "stdout",
     "output_type": "stream",
     "text": [
      "숫자10자리를 입력하시오 : 4751403000\n",
      "3415740000\n"
     ]
    }
   ],
   "source": [
    "a = input('숫자10자리를 입력하시오 : ')\n",
    "rev = \"\"\n",
    "    \n",
    "for i in a[::-1]:\n",
    "    if i != '0':  # a는 지금 문자이기 때문에 0을 문자취급해줘야함\n",
    "        rev=rev+i\n",
    "        \n",
    "rev = rev+ '0'*(10-len(rev))\n",
    "print(rev)\n",
    "#중간0도 빼버림"
   ]
  },
  {
   "cell_type": "code",
   "execution_count": 95,
   "metadata": {},
   "outputs": [
    {
     "name": "stdout",
     "output_type": "stream",
     "text": [
      "숫자10자리를 입력하시오 : 7801230000\n",
      "3210870000\n"
     ]
    }
   ],
   "source": [
    "a = input('숫자10자리를 입력하시오 : ')\n",
    "rev = \"\"\n",
    "\n",
    "cnt = 0\n",
    "for i in a[::-1]:   #a를 뒤집어서 뒤의 0을 센다\n",
    "    if i != '0':  # a는 지금 문자이기 때문에 0을 문자취급해줘야함\n",
    "        break    # 이 break는 for문을 깨는 break이기때문에 \n",
    "        #while문으로 조건설정을 해버리면 for문이 아니라 while문이 깨져버리므로 if를 써준다.\n",
    "    cnt=cnt+1   # 0의 개수를 새는것\n",
    "        \n",
    "for j in a[::-1][cnt:] :  #print(a[::-1][3:])   cnt=0의 개수\n",
    "    rev = rev + j      \n",
    "        \n",
    "rev = rev+ '0'*(10-len(rev))\n",
    "print(rev)\n"
   ]
  },
  {
   "cell_type": "code",
   "execution_count": null,
   "metadata": {},
   "outputs": [],
   "source": []
  },
  {
   "cell_type": "code",
   "execution_count": null,
   "metadata": {},
   "outputs": [],
   "source": []
  }
 ],
 "metadata": {
  "kernelspec": {
   "display_name": "Python 3",
   "language": "python",
   "name": "python3"
  },
  "language_info": {
   "codemirror_mode": {
    "name": "ipython",
    "version": 3
   },
   "file_extension": ".py",
   "mimetype": "text/x-python",
   "name": "python",
   "nbconvert_exporter": "python",
   "pygments_lexer": "ipython3",
   "version": "3.6.5"
  }
 },
 "nbformat": 4,
 "nbformat_minor": 2
}
