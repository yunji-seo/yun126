{
 "cells": [
  {
   "cell_type": "markdown",
   "metadata": {},
   "source": [
    "a = [2,7,22,1,5,65,12,34,75] 리스트 a를 오름차순으로 정렬하여 b라는 리스트를 만드시오."
   ]
  },
  {
   "cell_type": "markdown",
   "metadata": {},
   "source": [
    "리스트 뒤집기 중요!! a[::-1]"
   ]
  },
  {
   "cell_type": "code",
   "execution_count": 10,
   "metadata": {},
   "outputs": [
    {
     "name": "stdout",
     "output_type": "stream",
     "text": [
      "[1, 2, 5, 7, 12, 22, 34, 65, 75]\n"
     ]
    }
   ],
   "source": [
    "a = [2,7,22,1,5,65,12,34,75]\n",
    "b = []\n",
    "while len(a) !=0 :\n",
    "    for i in a :\n",
    "        t = min(a)\n",
    "        b.append(t)\n",
    "        a.remove(t)\n",
    "\n",
    "print(b)"
   ]
  },
  {
   "cell_type": "code",
   "execution_count": 13,
   "metadata": {},
   "outputs": [
    {
     "name": "stdout",
     "output_type": "stream",
     "text": [
      "[1, 2, 5, 7, 12, 22, 34, 65, 75]\n"
     ]
    }
   ],
   "source": [
    "a = [2,7,22,1,5,65,12,34,75]\n",
    "b = []\n",
    "\n",
    "while len(a) !=0 :\n",
    "    minn = a[0]\n",
    "    for j in a :\n",
    "        if minn > j :\n",
    "            minn = j\n",
    "    b.append(minn)\n",
    "    ind = a.index(minn)\n",
    "    del a[ind]\n",
    "    \n",
    "print(b)"
   ]
  },
  {
   "cell_type": "markdown",
   "metadata": {},
   "source": [
    "# a = [60, 20, 10 , 45, 90, 100, 15]\n",
    "# Grade = []\n",
    "### 위 리스트 a는 시험 점수를 담고 있다.\n",
    "### 위 점수를 참고하여 석차 담은 grade라는 리스트를 출력하는 코드를 작성하시오.\n",
    "\n",
    "출력\n",
    "print(grade) ->  [3, 5, 7, 4, 2, 1, 6]\n",
    "이 리스트의 순서는 점수의 순서와 같다."
   ]
  },
  {
   "cell_type": "code",
   "execution_count": null,
   "metadata": {},
   "outputs": [],
   "source": [
    "# grade=[0,0,0,0,0,0,0] 으로 자리를 설정해 놓고 시작할것!\n",
    "# grade = [0]*7 , grade = [0]*len(a)"
   ]
  },
  {
   "cell_type": "code",
   "execution_count": 39,
   "metadata": {},
   "outputs": [
    {
     "name": "stdout",
     "output_type": "stream",
     "text": [
      "[3, 5, 7, 4, 2, 1, 6]\n"
     ]
    }
   ],
   "source": [
    "import copy\n",
    "\n",
    "a = [60, 20, 10 , 45, 90, 100, 15]\n",
    "ac = copy.deepcopy(a)\n",
    "grade = [0]*len(a)\n",
    "ac.sort()\n",
    "ac = ac[::-1]\n",
    "#print(ac)\n",
    "#ac.index()+1 = a의 등수 즉, grand 의 숫자\n",
    "for i in range(len(a)) : \n",
    "    t=a[i]\n",
    "    grade[i] = ac.index(t)+1\n",
    "print(grade)\n",
    "#for i in (1,len(a)+1) :\n",
    "\n",
    "    "
   ]
  },
  {
   "cell_type": "code",
   "execution_count": 17,
   "metadata": {},
   "outputs": [
    {
     "name": "stdout",
     "output_type": "stream",
     "text": [
      "[3, 5, 7, 4, 2, 1, 6]\n"
     ]
    }
   ],
   "source": [
    "import copy\n",
    "\n",
    "a = [60, 20, 10 , 45, 90, 100, 15]\n",
    "ac = copy.deepcopy(a)\n",
    "grade = [0]*len(a)  # a와 길이가 같은 개수의 0을 가진 리스트 설정\n",
    "\n",
    "g=0\n",
    "while len(ac) != 0 :\n",
    "    g=g+1\n",
    "    maxx = ac[0]\n",
    "    for i in ac :\n",
    "        if maxx < i :\n",
    "            maxx = i\n",
    "    ac.remove(maxx)\n",
    "    idx = a.index(maxx)\n",
    "    grade[idx] = g\n",
    "print(grade)"
   ]
  },
  {
   "cell_type": "code",
   "execution_count": 21,
   "metadata": {},
   "outputs": [
    {
     "data": {
      "text/plain": [
       "4294967296"
      ]
     },
     "execution_count": 21,
     "metadata": {},
     "output_type": "execute_result"
    }
   ],
   "source": [
    "pow(16,8) #16의 8제곱"
   ]
  },
  {
   "cell_type": "markdown",
   "metadata": {},
   "source": [
    "# a^n을 계산하는 코드를 작성해보자\n",
    "\n",
    "# 입력\n",
    "### a = 16\n",
    "### n = 8\n",
    "### (a와 n은 자연수)\n",
    "\n",
    "# 출력 \n",
    "### print(power) \n",
    "### 4294967296"
   ]
  },
  {
   "cell_type": "code",
   "execution_count": 25,
   "metadata": {},
   "outputs": [
    {
     "name": "stdout",
     "output_type": "stream",
     "text": [
      "4294967296\n"
     ]
    }
   ],
   "source": [
    "a = 16\n",
    "n = 8\n",
    "\n",
    "power = 1\n",
    "\n",
    "while n!=0:\n",
    "    n = n-1\n",
    "    power=power*a\n",
    "print(power)"
   ]
  },
  {
   "cell_type": "code",
   "execution_count": 26,
   "metadata": {},
   "outputs": [
    {
     "name": "stdout",
     "output_type": "stream",
     "text": [
      "4294967296\n"
     ]
    }
   ],
   "source": [
    "a = 16\n",
    "n = 8\n",
    "# a^n\n",
    "power = 1\n",
    "for i in range(n) : #range(8) 0~8까지 돈다.\n",
    "    power = power * a\n",
    "print(power)"
   ]
  },
  {
   "cell_type": "markdown",
   "metadata": {},
   "source": [
    "# 완전수 = 자기자신의 약수를 제외한 나머지 약수를 더했을때 자기 자신이 나오는 수\n",
    "\n",
    "무언가를 찾는 느낌의 문제 ex)1000이하의 완전수는??"
   ]
  },
  {
   "cell_type": "markdown",
   "metadata": {},
   "source": [
    "자기 자신을 제외한 모든 양의 약수들의 합이 자기 자신이 되는 자연수를 완전수라고 한다. \n",
    "\n",
    "예를 들면, 6과 28은 완전수이다.\n",
    "\n",
    "6=1+2+3 // 1,2,3은 각각 6의 약수\n",
    "\n",
    "28=1+2+4+7+14 // 1,2,4,7,14는 각각 28의 약수\n",
    "\n",
    "입력으로 자연수 N을 받고, 출력으로 N 이하의 모든 완전수를 출력하는 코드를 작성하라\n",
    "\n",
    "출력으로 1000 이하의 모든 완전수를 출력하는 코드를 작성하라\n",
    "\n",
    "완전수 발견하면 담는 리스트 만들어도 됨!(result = [])"
   ]
  },
  {
   "cell_type": "code",
   "execution_count": 33,
   "metadata": {},
   "outputs": [
    {
     "name": "stdout",
     "output_type": "stream",
     "text": [
      "자연수N을 입력하시오 : 6000\n",
      "[6, 28, 496]\n"
     ]
    }
   ],
   "source": [
    "N = input('자연수N을 입력하시오 : ')\n",
    "N = int(N)\n",
    "s = []\n",
    "\n",
    "for i in range(1,N+1) :\n",
    "    t=0\n",
    "    for j in range(1,i) : \n",
    "        if i%j==0 :\n",
    "            t=t+j\n",
    "    if t==i :\n",
    "        s.append(t)\n",
    "        \n",
    "print(s)\n"
   ]
  },
  {
   "cell_type": "code",
   "execution_count": 30,
   "metadata": {},
   "outputs": [
    {
     "name": "stdout",
     "output_type": "stream",
     "text": [
      "[6, 28, 496]\n"
     ]
    }
   ],
   "source": [
    "result = [] \n",
    "n = 1000\n",
    "for i in range(1,n+1) :  # i는 1부터 n까지 들어가겠지?\n",
    "    summ=0  #같은지 판단해줄 기준 필요\n",
    "    for j in range(1,i) :  #자기자신은 뺀 범위이다\n",
    "         if i % j == 0 :\n",
    "                summ = summ + j\n",
    "    if i == summ :\n",
    "        result.append(i)\n",
    "        \n",
    "print(result)\n",
    "                \n",
    "        "
   ]
  },
  {
   "cell_type": "markdown",
   "metadata": {},
   "source": [
    "컴퓨터와 가위 바위 보 게임을 하여, \n",
    "이길 때 까지 게임하는 프로그램을 작성하시오.\n"
   ]
  },
  {
   "cell_type": "code",
   "execution_count": 49,
   "metadata": {},
   "outputs": [
    {
     "name": "stdout",
     "output_type": "stream",
     "text": [
      "가위바위보중 하나를 입력하시오 : (단 r,s,p 중 하나를 입력하기)r\n"
     ]
    },
    {
     "ename": "NameError",
     "evalue": "name 'r' is not defined",
     "output_type": "error",
     "traceback": [
      "\u001b[0;31m---------------------------------------------------------------------------\u001b[0m",
      "\u001b[0;31mNameError\u001b[0m                                 Traceback (most recent call last)",
      "\u001b[0;32m<ipython-input-49-1fe859f55850>\u001b[0m in \u001b[0;36m<module>\u001b[0;34m()\u001b[0m\n\u001b[1;32m     12\u001b[0m     \u001b[0;32mif\u001b[0m \u001b[0mc\u001b[0m\u001b[0;34m==\u001b[0m\u001b[0mm\u001b[0m\u001b[0;34m:\u001b[0m\u001b[0;34m\u001b[0m\u001b[0m\n\u001b[1;32m     13\u001b[0m         \u001b[0;32mcontinue\u001b[0m\u001b[0;34m\u001b[0m\u001b[0m\n\u001b[0;32m---> 14\u001b[0;31m     \u001b[0;32melif\u001b[0m \u001b[0mc\u001b[0m \u001b[0;34m==\u001b[0m \u001b[0mf\u001b[0m\u001b[0;34m[\u001b[0m\u001b[0mr\u001b[0m\u001b[0;34m]\u001b[0m \u001b[0;32mand\u001b[0m \u001b[0mm\u001b[0m \u001b[0;34m==\u001b[0m \u001b[0mf\u001b[0m\u001b[0;34m[\u001b[0m\u001b[0mp\u001b[0m\u001b[0;34m]\u001b[0m \u001b[0;34m:\u001b[0m\u001b[0;34m\u001b[0m\u001b[0m\n\u001b[0m\u001b[1;32m     15\u001b[0m          \u001b[0;32mbreak\u001b[0m\u001b[0;34m\u001b[0m\u001b[0m\n\u001b[1;32m     16\u001b[0m     \u001b[0;32melif\u001b[0m \u001b[0mc\u001b[0m \u001b[0;34m==\u001b[0m \u001b[0mf\u001b[0m\u001b[0;34m[\u001b[0m\u001b[0mp\u001b[0m\u001b[0;34m]\u001b[0m \u001b[0;32mand\u001b[0m \u001b[0mm\u001b[0m \u001b[0;34m==\u001b[0m \u001b[0mf\u001b[0m\u001b[0;34m[\u001b[0m\u001b[0ms\u001b[0m\u001b[0;34m]\u001b[0m \u001b[0;34m:\u001b[0m\u001b[0;34m\u001b[0m\u001b[0m\n",
      "\u001b[0;31mNameError\u001b[0m: name 'r' is not defined"
     ]
    }
   ],
   "source": [
    "import random\n",
    "\n",
    "#r  #바위\n",
    "#s  #가위\n",
    "#p  #보\n",
    "f = {'r':'바위','s':'가위','p':'보'}\n",
    "t = ['r','s','p']\n",
    "\n",
    "while 1 :\n",
    "    c = random.choice(t) \n",
    "    m = input('가위바위보중 하나를 입력하시오 : (단 r,s,p 중 하나를 입력하기)') \n",
    "    if c==m:\n",
    "        continue\n",
    "    elif c == f[m] :\n",
    "        print(\"you win!!\")\n",
    "    else :\n",
    "        print('you lose....')\n",
    "\n",
    "\n"
   ]
  },
  {
   "cell_type": "code",
   "execution_count": 48,
   "metadata": {},
   "outputs": [
    {
     "name": "stdout",
     "output_type": "stream",
     "text": [
      "r,p,s 중 하나를 적으시오. : r\n",
      "you :  r \tPC :  p\n",
      "you lose....\n",
      "r,p,s 중 하나를 적으시오. : p\n",
      "you :  p \tPC :  r\n",
      "you win!!\n"
     ]
    }
   ],
   "source": [
    "import random\n",
    "win_dic = {'s':'p','p':'r','r':'s'} \n",
    " # 내가 이기는 경우  key는 내가 낸거 value는 컴퓨터가 낸거\n",
    "rps = ['s','p','r']\n",
    "\n",
    "while True : \n",
    "    my = input('r,p,s 중 하나를 적으시오. : ')\n",
    "    com = random.choice(rps)\n",
    "    print(\"you : \",my,\"\\tPC : \", com)\n",
    "    \n",
    "    if my==com :\n",
    "        print('Draw')\n",
    "    elif com == win_dic[my]:\n",
    "        print(\"you win!!\")\n",
    "        break\n",
    "    else :\n",
    "        print('you lose....')"
   ]
  },
  {
   "cell_type": "code",
   "execution_count": null,
   "metadata": {},
   "outputs": [],
   "source": []
  },
  {
   "cell_type": "code",
   "execution_count": null,
   "metadata": {},
   "outputs": [],
   "source": []
  },
  {
   "cell_type": "code",
   "execution_count": null,
   "metadata": {},
   "outputs": [],
   "source": []
  }
 ],
 "metadata": {
  "kernelspec": {
   "display_name": "Python 3",
   "language": "python",
   "name": "python3"
  },
  "language_info": {
   "codemirror_mode": {
    "name": "ipython",
    "version": 3
   },
   "file_extension": ".py",
   "mimetype": "text/x-python",
   "name": "python",
   "nbconvert_exporter": "python",
   "pygments_lexer": "ipython3",
   "version": "3.6.5"
  }
 },
 "nbformat": 4,
 "nbformat_minor": 2
}
