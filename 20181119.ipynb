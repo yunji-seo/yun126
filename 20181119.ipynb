{
 "cells": [
  {
   "cell_type": "code",
   "execution_count": 1,
   "metadata": {},
   "outputs": [],
   "source": [
    "# class의 인스턴스\n",
    "#붕어빵틀=class\n",
    "#붕어빵 = 붕어빵 틀의 인스턴스\n"
   ]
  },
  {
   "cell_type": "markdown",
   "metadata": {},
   "source": [
    "# class : 함수와 변수를 묶어주는 역할\n",
    "\n",
    "여기는 명함제작 회사\n"
   ]
  },
  {
   "cell_type": "code",
   "execution_count": 2,
   "metadata": {},
   "outputs": [],
   "source": [
    "def business_card(name, email, addr) :\n",
    "    print(\"-------------------------------------------------\")\n",
    "    print(\"NAME :\",name)\n",
    "    print(\"Email :\",email)\n",
    "    print(\"Address :\",addr)\n",
    "    print(\"-------------------------------------------------\")"
   ]
  },
  {
   "cell_type": "code",
   "execution_count": 6,
   "metadata": {},
   "outputs": [
    {
     "name": "stdout",
     "output_type": "stream",
     "text": [
      "-------------------------------------------------\n",
      "NAME : SeoYunji\n",
      "Email : pretty990126@naver.com\n",
      "Address : seoul\n",
      "-------------------------------------------------\n"
     ]
    }
   ],
   "source": [
    "# 손님 1\n",
    "business_card('SeoYunji', 'pretty990126@naver.com', 'seoul')  #이 이름에 접근할 수 있는 방법이 없음\n"
   ]
  },
  {
   "cell_type": "code",
   "execution_count": 5,
   "metadata": {},
   "outputs": [
    {
     "name": "stdout",
     "output_type": "stream",
     "text": [
      "-------------------------------------------------\n",
      "NAME : kimm\n",
      "Email : pretty990126@naver.com\n",
      "Address : seoul\n",
      "-------------------------------------------------\n"
     ]
    }
   ],
   "source": [
    "#손님 2\n",
    "business_card('kimm', 'pretty990126@naver.com', 'seoul')"
   ]
  },
  {
   "cell_type": "code",
   "execution_count": 10,
   "metadata": {},
   "outputs": [
    {
     "name": "stdout",
     "output_type": "stream",
     "text": [
      "-------------------------------------------------\n",
      "NAME : SeoYunji\n",
      "Email : pretty990126@naver.com\n",
      "Address : seoul\n",
      "-------------------------------------------------\n"
     ]
    }
   ],
   "source": [
    "# 손님 1\n",
    "name = 'SeoYunji' \n",
    "email = 'pretty990126@naver.com' \n",
    "addr = 'seoul'\n",
    "business_card(name, email, addr) \n"
   ]
  },
  {
   "cell_type": "code",
   "execution_count": 8,
   "metadata": {},
   "outputs": [],
   "source": [
    "def business_card2(name, email, addr) :\n",
    "    print(\"*_*_*_*_*_*_*_*_*_*_*_*_*_*_*\")\n",
    "    print(\"- - - - - - - - -*^_^*- - - - - - - - -\")\n",
    "    print(\"NAME :\",name)\n",
    "    print(\"Email :\",email)\n",
    "    print(\"Address :\",addr)\n",
    "    print(\"*_*_*_*_*_*_*_*_*_*_*_*_*_*_*\")"
   ]
  },
  {
   "cell_type": "code",
   "execution_count": 9,
   "metadata": {},
   "outputs": [
    {
     "name": "stdout",
     "output_type": "stream",
     "text": [
      "*_*_*_*_*_*_*_*_*_*_*_*_*_*_*\n",
      "- - - - - - - - -*^_^*- - - - - - - - -\n",
      "NAME : SeoYunji\n",
      "Email : pretty990126@naver.com\n",
      "Address : seoul\n",
      "*_*_*_*_*_*_*_*_*_*_*_*_*_*_*\n"
     ]
    }
   ],
   "source": [
    "business_card2('SeoYunji', 'pretty990126@naver.com', 'seoul') "
   ]
  },
  {
   "cell_type": "code",
   "execution_count": 56,
   "metadata": {},
   "outputs": [],
   "source": [
    "class BussinessCard():\n",
    "    def __init__(self, name, email, addr) :   #인스턴스 생성과 동시에 실행되는 method\n",
    "        self.name = name   #self.   class 의 특징self를 인자로 처음에 꼭 가짐  __init__ <- '_' 2개씩 쓰기 \n",
    "        self.email = email    #self  이 class에 의해 생성된 객체를 의미한다.  class는 누가 손님 으로 올지 모르기 때문에 self라고 표현함 ex) g1 = self\n",
    "        #손님의 정보에 접근하기 위해  손님별로 받음\n",
    "        self.addr = addr\n",
    "    def card1(self) :    #method  : 클래스 내부의 함수\n",
    "        print(\"-------------------------------------------------\")\n",
    "        print(\"NAME :\",self.name)\n",
    "        print(\"Email :\",self.email)\n",
    "        print(\"Address :\",self.addr)\n",
    "        print(\"-------------------------------------------------\")\n",
    "    def card2(self) :\n",
    "        print(\"*_*_*_*_*_*_*_*_*_*_*_*_*_*_*\")\n",
    "        print(\"- - - - - - - - -*^_^*- - - - - - - - -\")\n",
    "        print(\"NAME :\",self.name)\n",
    "        print(\"Email :\",self.email)\n",
    "        print(\"Address :\",self.addr)\n",
    "        print(\"*_*_*_*_*_*_*_*_*_*_*_*_*_*_*\")\n",
    "        "
   ]
  },
  {
   "cell_type": "code",
   "execution_count": 45,
   "metadata": {},
   "outputs": [],
   "source": [
    "g1 =  BussinessCard('SeoYunji', 'pretty990126@naver.com', 'seoul')"
   ]
  },
  {
   "cell_type": "code",
   "execution_count": 46,
   "metadata": {},
   "outputs": [
    {
     "name": "stdout",
     "output_type": "stream",
     "text": [
      "-------------------------------------------------\n",
      "NAME : SeoYunji\n",
      "Email : pretty990126@naver.com\n",
      "Address : seoul\n",
      "-------------------------------------------------\n"
     ]
    }
   ],
   "source": [
    "g1.card1()"
   ]
  },
  {
   "cell_type": "code",
   "execution_count": 47,
   "metadata": {},
   "outputs": [
    {
     "data": {
      "text/plain": [
       "'SeoYunji'"
      ]
     },
     "execution_count": 47,
     "metadata": {},
     "output_type": "execute_result"
    }
   ],
   "source": [
    "g1.name"
   ]
  },
  {
   "cell_type": "code",
   "execution_count": 49,
   "metadata": {},
   "outputs": [
    {
     "data": {
      "text/plain": [
       "'pretty990126@naver.com'"
      ]
     },
     "execution_count": 49,
     "metadata": {},
     "output_type": "execute_result"
    }
   ],
   "source": [
    "g1.email"
   ]
  },
  {
   "cell_type": "code",
   "execution_count": 50,
   "metadata": {},
   "outputs": [
    {
     "data": {
      "text/plain": [
       "'seoul'"
      ]
     },
     "execution_count": 50,
     "metadata": {},
     "output_type": "execute_result"
    }
   ],
   "source": [
    "g1.addr"
   ]
  },
  {
   "cell_type": "code",
   "execution_count": 53,
   "metadata": {},
   "outputs": [],
   "source": [
    "g2 = BussinessCard('SeoYunji', 'pretty990126@naver.com', 'seoul')"
   ]
  },
  {
   "cell_type": "code",
   "execution_count": 54,
   "metadata": {},
   "outputs": [
    {
     "name": "stdout",
     "output_type": "stream",
     "text": [
      "-------------------------------------------------\n",
      "NAME : SeoYunji\n",
      "Email : pretty990126@naver.com\n",
      "Address : seoul\n",
      "-------------------------------------------------\n"
     ]
    }
   ],
   "source": [
    "g2.card1()"
   ]
  },
  {
   "cell_type": "code",
   "execution_count": 55,
   "metadata": {},
   "outputs": [
    {
     "name": "stdout",
     "output_type": "stream",
     "text": [
      "*_*_*_*_*_*_*_*_*_*_*_*_*_*_*\n",
      "- - - - - - - - -*^_^*- - - - - - - - -\n",
      "NAME : SeoYunji\n",
      "Email : pretty990126@naver.com\n",
      "Address : seoul\n",
      "*_*_*_*_*_*_*_*_*_*_*_*_*_*_*\n"
     ]
    }
   ],
   "source": [
    "g2.card2()"
   ]
  },
  {
   "cell_type": "code",
   "execution_count": 58,
   "metadata": {},
   "outputs": [
    {
     "data": {
      "text/plain": [
       "'SeoYunji'"
      ]
     },
     "execution_count": 58,
     "metadata": {},
     "output_type": "execute_result"
    }
   ],
   "source": [
    "g2.name"
   ]
  },
  {
   "cell_type": "code",
   "execution_count": 59,
   "metadata": {},
   "outputs": [
    {
     "data": {
      "text/plain": [
       "'pretty990126@naver.com'"
      ]
     },
     "execution_count": 59,
     "metadata": {},
     "output_type": "execute_result"
    }
   ],
   "source": [
    "g2.email"
   ]
  },
  {
   "cell_type": "code",
   "execution_count": 60,
   "metadata": {},
   "outputs": [],
   "source": [
    "# 12주차 피피티 화살표 잘 이해하기!!!!!!!\n"
   ]
  },
  {
   "cell_type": "markdown",
   "metadata": {},
   "source": [
    "# 붕어빵 가게 운영하기\n",
    "\n",
    "손님이 들어오면 맛과 몸통에 넣을 토핑1, 꼬리에 넣을 토핑2 선택할 수 있다.\n",
    "붕어빵은, 그냥붕어빵/미니붕어빵/대왕붕어빵 이렇게 3가지 종류로 구울수가 있다.\n",
    "\n",
    "class 만들때는 스토리를 먼저 짜보고 그것에 맞는 변수 생각해 보기\n"
   ]
  },
  {
   "cell_type": "code",
   "execution_count": 62,
   "metadata": {},
   "outputs": [],
   "source": [
    "class 붕어빵가게() :\n",
    "    def __init__ (self, flavor, topping1,topping2) :\n",
    "        self.flavor = flavor\n",
    "        self.topping1 = topping1\n",
    "        self.topping2 = topping2\n",
    "    def 붕어빵(self) :\n",
    "        print(self.flavor + '맛의 '+self.topping1+ '와 ' + self.topping2 +'추가한 붕어빵 나왔습니다 *^_^*!')\n",
    "    def 꼬마붕어빵(self) :\n",
    "        print(self.flavor + '맛의 '+self.topping1+ '와 ' + self.topping2 +'추가한 꼬마붕어빵 나왔습니다 *^_^*!')\n",
    "    def 대왕붕어빵(self) :\n",
    "        print(self.flavor + '맛의 '+self.topping1+ '와 ' + self.topping2 +'추가한 대왕붕어빵 나왔습니다 *^_^*!')"
   ]
  },
  {
   "cell_type": "code",
   "execution_count": 66,
   "metadata": {},
   "outputs": [],
   "source": [
    "g1 = 붕어빵가게('밀가루','붕어','팥')"
   ]
  },
  {
   "cell_type": "code",
   "execution_count": 70,
   "metadata": {},
   "outputs": [
    {
     "name": "stdout",
     "output_type": "stream",
     "text": [
      "밀가루맛의 붕어와 팥추가한 꼬마붕어빵 나왔습니다 *^_^*!\n"
     ]
    }
   ],
   "source": [
    "g1.꼬마붕어빵()"
   ]
  },
  {
   "cell_type": "code",
   "execution_count": 68,
   "metadata": {},
   "outputs": [],
   "source": [
    "g2 = 붕어빵가게('고구마','사과','슈크림')"
   ]
  },
  {
   "cell_type": "code",
   "execution_count": 69,
   "metadata": {},
   "outputs": [
    {
     "name": "stdout",
     "output_type": "stream",
     "text": [
      "고구마맛의 사과와 슈크림추가한 대왕붕어빵 나왔습니다 *^_^*!\n"
     ]
    }
   ],
   "source": [
    "g2.대왕붕어빵()"
   ]
  },
  {
   "cell_type": "code",
   "execution_count": 84,
   "metadata": {},
   "outputs": [],
   "source": [
    "#문제 1"
   ]
  },
  {
   "cell_type": "code",
   "execution_count": 83,
   "metadata": {},
   "outputs": [],
   "source": [
    "def power(n1,n2):\n",
    "    nn1 = int(n1)\n",
    "    nn2 = int(n2)\n",
    "    po = 1\n",
    "    for i in range(nn2) :  #po에 nn1을 nn2번 돌리면서 곱하는것\n",
    "        po = po * nn1\n",
    "    return po  #리턴되는 값은 튜플이라 괄호 있어도 되고 없어도 됨"
   ]
  },
  {
   "cell_type": "code",
   "execution_count": 81,
   "metadata": {},
   "outputs": [
    {
     "name": "stdout",
     "output_type": "stream",
     "text": [
      "숫자를 입력하시오. :3\n",
      "숫자를 입력하시오. :25\n"
     ]
    },
    {
     "data": {
      "text/plain": [
       "847288609443"
      ]
     },
     "execution_count": 81,
     "metadata": {},
     "output_type": "execute_result"
    }
   ],
   "source": [
    "n1 = input('숫자를 입력하시오. :')\n",
    "n2 = input('숫자를 입력하시오. :')\n",
    "power(n1,n2)"
   ]
  },
  {
   "cell_type": "code",
   "execution_count": null,
   "metadata": {},
   "outputs": [],
   "source": [
    "#문제2 내자리에서만 파일이 없다는 에러가 나지않게 하기 "
   ]
  },
  {
   "cell_type": "markdown",
   "metadata": {},
   "source": [
    "# 도어락 비밀번호 \n",
    "\n",
    "집주인은 지정한 비밀번호만 입력하면 누가 볼 수 있어 보안상 문제가 있다 생각했다.\n",
    "이를 보완하기 위해 비밀번호보다 많은 키를 입력해서 이 번호 중 연속된 번호가 비밀번호와 일치하면 문을 열어주는 시스템을 개발했다.\n",
    "\n",
    "#### 예) \n",
    "#### 비밀번호 : 7536\n",
    "#### 누른 번호 : 129456257536  => 열림\n",
    "#### 누른 번호 : 03892804 => 안 열림 try again"
   ]
  },
  {
   "cell_type": "code",
   "execution_count": 89,
   "metadata": {
    "scrolled": true
   },
   "outputs": [
    {
     "name": "stdout",
     "output_type": "stream",
     "text": [
      "ENTER PASSWORD :4895654147530\n",
      "open\n"
     ]
    }
   ],
   "source": [
    "enter = input('ENTER PASSWORD :')\n",
    "password = '7530'   #비번이 어떤 자리수이던지 상관없도록\n",
    "ans=len(password)\n",
    "if enter[-ans:] == password:     #  -ans  = 뒤에서 비밀번호자리수부터 여기서는 4번째\n",
    "    print('open')\n",
    "else :\n",
    "    print('try again')"
   ]
  },
  {
   "cell_type": "code",
   "execution_count": 91,
   "metadata": {},
   "outputs": [
    {
     "name": "stdout",
     "output_type": "stream",
     "text": [
      "ENTER PASSWORD :1546874231320753090152654835321\n",
      "open\n"
     ]
    }
   ],
   "source": [
    "enter = input('ENTER PASSWORD :')\n",
    "password = '7530'   #자릿수 상관없도록\n",
    "if password in enter :\n",
    "    print('open')\n",
    "else :\n",
    "    print('try again')"
   ]
  },
  {
   "cell_type": "code",
   "execution_count": null,
   "metadata": {},
   "outputs": [],
   "source": []
  },
  {
   "cell_type": "code",
   "execution_count": null,
   "metadata": {},
   "outputs": [],
   "source": []
  },
  {
   "cell_type": "code",
   "execution_count": null,
   "metadata": {},
   "outputs": [],
   "source": []
  },
  {
   "cell_type": "code",
   "execution_count": null,
   "metadata": {},
   "outputs": [],
   "source": []
  },
  {
   "cell_type": "code",
   "execution_count": null,
   "metadata": {},
   "outputs": [],
   "source": []
  },
  {
   "cell_type": "code",
   "execution_count": null,
   "metadata": {},
   "outputs": [],
   "source": []
  },
  {
   "cell_type": "code",
   "execution_count": null,
   "metadata": {},
   "outputs": [],
   "source": []
  },
  {
   "cell_type": "code",
   "execution_count": null,
   "metadata": {},
   "outputs": [],
   "source": []
  },
  {
   "cell_type": "code",
   "execution_count": null,
   "metadata": {},
   "outputs": [],
   "source": []
  },
  {
   "cell_type": "code",
   "execution_count": null,
   "metadata": {},
   "outputs": [],
   "source": []
  },
  {
   "cell_type": "code",
   "execution_count": null,
   "metadata": {},
   "outputs": [],
   "source": []
  },
  {
   "cell_type": "code",
   "execution_count": null,
   "metadata": {},
   "outputs": [],
   "source": []
  }
 ],
 "metadata": {
  "kernelspec": {
   "display_name": "Python 3",
   "language": "python",
   "name": "python3"
  },
  "language_info": {
   "codemirror_mode": {
    "name": "ipython",
    "version": 3
   },
   "file_extension": ".py",
   "mimetype": "text/x-python",
   "name": "python",
   "nbconvert_exporter": "python",
   "pygments_lexer": "ipython3",
   "version": "3.6.5"
  }
 },
 "nbformat": 4,
 "nbformat_minor": 2
}
